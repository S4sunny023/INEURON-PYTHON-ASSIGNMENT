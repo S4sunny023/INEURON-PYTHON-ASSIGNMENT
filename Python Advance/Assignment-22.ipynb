{
 "cells": [
  {
   "cell_type": "markdown",
   "id": "834c4cce",
   "metadata": {},
   "source": [
    "Q1. What are the benefits of the built-in array package, if any?"
   ]
  },
  {
   "cell_type": "markdown",
   "id": "e42f5ac5",
   "metadata": {},
   "source": [
    "The built-in array package, often referred to as an \"array\" in many programming languages, offers several benefits:\n",
    "\n",
    "Efficient memory usage: Arrays allow you to store multiple values of the same data type in a contiguous block of memory, which means that the memory can be accessed more efficiently than with other data structures like linked lists.\n",
    "\n",
    "Random access: Elements in an array are indexed by a numerical value, allowing for quick and easy random access to specific elements within the array.\n",
    "\n",
    "Flexibility: Arrays can be used to represent a wide range of data types, including numbers, characters, and even more complex data structures like objects and pointers.\n",
    "\n",
    "Compatibility: Since arrays are a widely-used data structure, they are often supported by many programming languages and libraries, making them a good choice for data exchange and interoperability between different systems.\n",
    "\n",
    "Built-in functions: Many programming languages include built-in functions for manipulating arrays, such as sorting, searching, and filtering, which can save you time and effort when working with large sets of data."
   ]
  },
  {
   "cell_type": "markdown",
   "id": "39d6fcd4",
   "metadata": {},
   "source": [
    "Q2. What are some of the array package&#39;s limitations?"
   ]
  },
  {
   "cell_type": "markdown",
   "id": "85c35def",
   "metadata": {},
   "source": [
    "While arrays offer many benefits, they also have some limitations that should be considered:\n",
    "\n",
    "Fixed size: Arrays have a fixed size, meaning that the number of elements they can hold is determined at the time of their creation. This can make them less flexible than other data structures that can grow or shrink dynamically.\n",
    "\n",
    "Continuous memory allocation: Arrays require continuous memory allocation, which can limit the size of the array that can be created based on the amount of available memory. This can also make it difficult to manage memory allocation in situations where the size of the array changes frequently.\n",
    "\n",
    "Homogeneous data: Arrays can only store elements of the same data type. This means that if you want to store elements of different data types, you need to use a different array for each data type, or use a more complex data structure like a struct or object.\n",
    "\n",
    "Limited functionality: While many programming languages provide built-in functions for manipulating arrays, these functions may be limited in functionality compared to other data structures like linked lists or hash tables.\n",
    "\n",
    "Inefficient for certain operations: Arrays can be inefficient for certain operations like insertion or deletion in the middle of the array, as this requires shifting all elements after the insertion or deletion point. In these cases, other data structures like linked lists may be more efficient."
   ]
  },
  {
   "cell_type": "markdown",
   "id": "29a35430",
   "metadata": {},
   "source": [
    "Q3. Describe the main differences between the array and numpy packages."
   ]
  },
  {
   "cell_type": "markdown",
   "id": "2f87ec1f",
   "metadata": {},
   "source": [
    "\n",
    "The main differences between the built-in array package and the NumPy package are:\n",
    "\n",
    "Data types: The built-in array package only supports a limited set of data types (such as integers, floats, and characters) while NumPy supports a much wider range of data types, including complex numbers, booleans, and datetime objects.\n",
    "\n",
    "Dimensionality: The built-in array package only supports one-dimensional arrays, while NumPy can support multi-dimensional arrays (i.e., matrices and tensors).\n",
    "\n",
    "Broadcasting: NumPy supports broadcasting, which allows for arithmetic operations between arrays of different shapes and sizes. This is not possible with the built-in array package.\n",
    "\n",
    "Mathematical functions: NumPy provides many built-in mathematical functions that can be applied to arrays, such as sin, cos, and exp. The built-in array package does not have these mathematical functions built-in.\n",
    "\n",
    "Performance: NumPy is typically faster than the built-in array package, due to its optimized C code and use of vectorization. This makes it a popular choice for scientific computing and data analysis tasks.\n",
    "\n",
    "Memory usage: NumPy uses less memory than the built-in array package for large arrays, as it stores data in a more compact and efficient way."
   ]
  },
  {
   "cell_type": "markdown",
   "id": "dcefb84c",
   "metadata": {},
   "source": [
    "Q4. Explain the distinctions between the empty, ones, and zeros functions."
   ]
  },
  {
   "cell_type": "markdown",
   "id": "f76a6ca8",
   "metadata": {},
   "source": [
    "The NumPy package provides several functions for creating arrays with specific values. These functions are:\n",
    "\n",
    "numpy.empty(shape, dtype=float, order='C'): This function creates a new array of the specified shape and data type, without initializing the values. The array elements will contain random data, and the values may vary depending on the state of the memory at the time of creation. This function is useful for creating arrays quickly without incurring the overhead of initializing the values.\n",
    "\n",
    "numpy.ones(shape, dtype=None, order='C'): This function creates a new array of the specified shape and data type, with all elements set to 1. This function is useful for creating arrays of a specific shape with all values initialized to the same value.\n",
    "\n",
    "numpy.zeros(shape, dtype=float, order='C'): This function creates a new array of the specified shape and data type, with all elements set to 0. This function is useful for creating arrays of a specific shape with all values initialized to the same value."
   ]
  },
  {
   "cell_type": "markdown",
   "id": "366b89d0",
   "metadata": {},
   "source": [
    "Q5. In the fromfunction function, which is used to construct new arrays, what is the role of the callable\n",
    "argument?"
   ]
  },
  {
   "cell_type": "markdown",
   "id": "dc68623c",
   "metadata": {},
   "source": [
    "he fromfunction function in NumPy allows you to create a new array based on a function that is applied to each element of the array. The function is specified as the first argument to fromfunction, and it takes as arguments the indices of the element in the array.\n",
    "\n",
    "The role of the callable argument is to define the function that will be applied to each element of the new array. The callable argument should be a function that takes the indices of the element as arguments and returns the value to be assigned to that element."
   ]
  },
  {
   "cell_type": "code",
   "execution_count": 2,
   "id": "d80ef476",
   "metadata": {},
   "outputs": [
    {
     "data": {
      "text/plain": [
       "array([[0., 1., 2.],\n",
       "       [1., 2., 3.],\n",
       "       [2., 3., 4.]])"
      ]
     },
     "execution_count": 2,
     "metadata": {},
     "output_type": "execute_result"
    }
   ],
   "source": [
    "import numpy as np\n",
    "\n",
    "def func(i, j):\n",
    "    return i + j\n",
    "\n",
    "arr = np.fromfunction(func, (3, 3))\n",
    "arr\n"
   ]
  },
  {
   "cell_type": "markdown",
   "id": "7bffecdf",
   "metadata": {},
   "source": [
    "Q6. What happens when a numpy array is combined with a single-value operand (a scalar, such as\n",
    "an int or a floating-point value) through addition, as in the expression A + n?"
   ]
  },
  {
   "cell_type": "markdown",
   "id": "e14b87aa",
   "metadata": {},
   "source": [
    "When a NumPy array is combined with a single-value operand (a scalar) through addition, such as in the expression A + n, the scalar value is broadcasted to match the shape of the array, and then the addition operation is performed element-wise between the array and the scalar.\n",
    "\n",
    "Broadcasting is a feature in NumPy that allows arrays with different shapes to be used in arithmetic operations. In this case, the scalar is broadcasted to match the shape of the array by duplicating its value along the dimensions where it doesn't match the shape of the array. For example, if we have a 2D array with shape (3, 4) and we add a scalar value n to it, the scalar is broadcasted to a 2D array with shape (3, 4) where each element has the value n.\n",
    "\n",
    "After the scalar has been broadcasted to match the shape of the array, the addition operation is performed element-wise between the array and the scalar. For example, consider the following code:"
   ]
  },
  {
   "cell_type": "code",
   "execution_count": 4,
   "id": "42ca2196",
   "metadata": {},
   "outputs": [
    {
     "data": {
      "text/plain": [
       "array([[3, 4, 5],\n",
       "       [6, 7, 8]])"
      ]
     },
     "execution_count": 4,
     "metadata": {},
     "output_type": "execute_result"
    }
   ],
   "source": [
    "import numpy as np\n",
    "\n",
    "A = np.array([[1, 2, 3], [4, 5, 6]])\n",
    "n = 2\n",
    "result = A + n\n",
    "result"
   ]
  },
  {
   "cell_type": "markdown",
   "id": "85c65e2c",
   "metadata": {},
   "source": [
    "Q7. Can array-to-scalar operations use combined operation-assign operators (such as += or *=)?\n",
    "What is the outcome?"
   ]
  },
  {
   "cell_type": "markdown",
   "id": "0a878956",
   "metadata": {},
   "source": [
    "Yes, array-to-scalar operations can use combined operation-assign operators like += or *=.\n",
    "\n",
    "When you use the += operator with an array and a scalar value, each element in the array is incremented by the scalar value. For example:"
   ]
  },
  {
   "cell_type": "code",
   "execution_count": 5,
   "id": "deef35f0",
   "metadata": {},
   "outputs": [
    {
     "name": "stdout",
     "output_type": "stream",
     "text": [
      "[3 4 5]\n"
     ]
    }
   ],
   "source": [
    "import numpy as np\n",
    "\n",
    "arr = np.array([1, 2, 3])\n",
    "arr += 2\n",
    "print(arr) \n"
   ]
  },
  {
   "cell_type": "markdown",
   "id": "faaf3709",
   "metadata": {},
   "source": [
    "Q8. Does a numpy array contain fixed-length strings? What happens if you allocate a longer string to\n",
    "one of these arrays?"
   ]
  },
  {
   "cell_type": "markdown",
   "id": "fdcb01a4",
   "metadata": {},
   "source": [
    "Yes, a numpy array can contain fixed-length strings using the dtype='S' (or dtype=np.string_) parameter when creating the array. "
   ]
  },
  {
   "cell_type": "code",
   "execution_count": 6,
   "id": "05af9ecc",
   "metadata": {},
   "outputs": [],
   "source": [
    "import numpy as np\n",
    "\n",
    "arr = np.array(['foo', 'bar', 'baz'], dtype='S')\n"
   ]
  },
  {
   "cell_type": "markdown",
   "id": "2398da2c",
   "metadata": {},
   "source": [
    "Q9. What happens when you combine two numpy arrays using an operation like addition (+) or\n",
    "multiplication (*)? What are the conditions for combining two numpy arrays?"
   ]
  },
  {
   "cell_type": "markdown",
   "id": "0bf2f923",
   "metadata": {},
   "source": [
    "When you combine two numpy arrays using an operation like addition (+) or multiplication (*), the arrays are combined element-wise. That is, the corresponding elements of the two arrays are combined according to the specified operation."
   ]
  },
  {
   "cell_type": "code",
   "execution_count": 8,
   "id": "18ef6658",
   "metadata": {},
   "outputs": [
    {
     "name": "stdout",
     "output_type": "stream",
     "text": [
      "[5 7 9]\n",
      "[ 4 10 18]\n"
     ]
    }
   ],
   "source": [
    "import numpy as np\n",
    "\n",
    "a = np.array([1, 2, 3])\n",
    "b = np.array([4, 5, 6])\n",
    "c = a + b\n",
    "d = a * b\n",
    "\n",
    "print(c) \n",
    "print(d) "
   ]
  },
  {
   "cell_type": "markdown",
   "id": "8fab813a",
   "metadata": {},
   "source": [
    "The conditions for combining two numpy arrays are that they must have the same shape, or be broadcastable to the same shape. Broadcasting is a mechanism in numpy that allows arrays with different shapes to be combined element-wise. The following are the broadcasting rules:\n",
    "\n",
    "If the two arrays have the same shape, then they can be combined element-wise directly.\n",
    "If the two arrays have different shapes, but the trailing dimensions match or one of the arrays has dimension 1, then the arrays are broadcastable.\n",
    "If the two arrays have different shapes and the trailing dimensions don't match, then broadcasting is not possible and a ValueError will be raised."
   ]
  },
  {
   "cell_type": "markdown",
   "id": "5b142443",
   "metadata": {},
   "source": [
    "Q10. What is the best way to use a Boolean array to mask another array?"
   ]
  },
  {
   "cell_type": "markdown",
   "id": "3da450e7",
   "metadata": {},
   "source": [
    "The best way to use a Boolean array to mask another array is to index the array with the Boolean array.\n",
    "\n",
    "Suppose you have an array arr and a Boolean array mask of the same shape as arr. The Boolean array mask can be used to select specific elements of arr by indexing arr with the mask array."
   ]
  },
  {
   "cell_type": "code",
   "execution_count": 11,
   "id": "27538c20",
   "metadata": {},
   "outputs": [
    {
     "name": "stdout",
     "output_type": "stream",
     "text": [
      "[1 3]\n"
     ]
    }
   ],
   "source": [
    "import numpy as np\n",
    "\n",
    "arr = np.array([1, 2, 3, 4, 5])\n",
    "mask = np.array([True, False, True, False, False])\n",
    "\n",
    "result = arr[mask]\n",
    "\n",
    "print(result) \n"
   ]
  },
  {
   "cell_type": "markdown",
   "id": "41629b7c",
   "metadata": {},
   "source": [
    "Q11. What are three different ways to get the standard deviation of a wide collection of data using\n",
    "both standard Python and its packages? Sort the three of them by how quickly they execute."
   ]
  },
  {
   "cell_type": "markdown",
   "id": "ea3b0792",
   "metadata": {},
   "source": [
    "To create a basic programming language like RPN (Reverse Polish Notation) that is primitive but complete, you would need the following minimum expressions or statements:\n",
    "\n",
    "Numeric literals: to represent numbers and values that the program will operate on.\n",
    "Basic arithmetic operators: to perform arithmetic operations such as addition, subtraction, multiplication, and division.\n",
    "Stack manipulation operators: to manage the stack, which is the core data structure used in RPN. These operators would include push, pop, and swap.\n",
    "Conditional operators: to create decision-making constructs that allow the program to execute different code paths based on conditions. These operators would include if/else statements and loops.\n",
    "Variable assignments: to store and retrieve values in variables.\n",
    "Functions: to encapsulate blocks of code that can be reused throughout the program.\n",
    "With these basic building blocks, you can create a programming language like RPN that is capable of carrying out any computerized task theoretically possible. However, additional features such as data structures, input/output operations, and error handling would make the language more powerful and user-friendly."
   ]
  },
  {
   "cell_type": "markdown",
   "id": "e3cc0dd6",
   "metadata": {},
   "source": [
    "12. What is the dimensionality of a Boolean mask-generated array?"
   ]
  },
  {
   "cell_type": "markdown",
   "id": "b3af5946",
   "metadata": {},
   "source": [
    "The dimensionality of a Boolean mask-generated array depends on the shape of the array being masked.\n",
    "\n",
    "When a Boolean mask is applied to an array, it returns a new array with the same shape as the original array, where each element is either True or False depending on whether the corresponding element in the original array satisfies the mask condition.\n",
    "\n"
   ]
  }
 ],
 "metadata": {
  "kernelspec": {
   "display_name": "Python 3 (ipykernel)",
   "language": "python",
   "name": "python3"
  },
  "language_info": {
   "codemirror_mode": {
    "name": "ipython",
    "version": 3
   },
   "file_extension": ".py",
   "mimetype": "text/x-python",
   "name": "python",
   "nbconvert_exporter": "python",
   "pygments_lexer": "ipython3",
   "version": "3.9.13"
  }
 },
 "nbformat": 4,
 "nbformat_minor": 5
}
