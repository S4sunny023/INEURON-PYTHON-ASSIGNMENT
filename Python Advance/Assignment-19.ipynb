{
 "cells": [
  {
   "cell_type": "markdown",
   "id": "8d8b9dff",
   "metadata": {},
   "source": [
    "Q1. Define the relationship between a class and its instances. Is it a one-to-one or a one-to-many\n",
    "partnership, for example?"
   ]
  },
  {
   "cell_type": "markdown",
   "id": "45f975ba",
   "metadata": {},
   "source": [
    "In object-oriented programming, a class is a blueprint or template for creating objects, while an instance (also called an object) is a specific occurrence of that class.\n",
    "\n",
    "The relationship between a class and its instances is a one-to-many partnership. This means that a single class can have multiple instances or objects created based on it, each with its own unique set of attributes and behaviors.\n",
    "\n",
    "For example, consider a class called \"Car\" that defines the properties and behaviors of a car. Multiple instances of this class can be created, each representing a unique car with its own specific attributes such as make, model, color, and year. Each instance of the \"Car\" class will have its own distinct values for these attributes, and can also perform the same set of behaviors defined in the class, such as starting the engine, accelerating, or braking.\n",
    "\n",
    "Therefore, while a class is a single entity that defines the properties and behaviors of an object, its instances are multiple and distinct objects that are created based on that class.\n",
    "\n",
    "\n",
    "\n",
    "\n"
   ]
  },
  {
   "cell_type": "markdown",
   "id": "e1ca26ef",
   "metadata": {},
   "source": [
    "Q2. What kind of data is held only in an instance?"
   ]
  },
  {
   "cell_type": "markdown",
   "id": "ecfdcccf",
   "metadata": {},
   "source": [
    "In object-oriented programming, instances (also called objects) are created from a class and hold their own set of data or state, which is unique to that instance. This data is typically defined as instance variables or attributes, and can hold any type of data that can be stored in variables, such as integers, strings, booleans, arrays, or even other objects.\n",
    "\n",
    "The data held only in an instance includes the values of its instance variables or attributes, which can be initialized when the instance is created or set later through methods or operations. These instance variables define the state of the instance, representing its properties or characteristics that distinguish it from other instances of the same class. For example, if we have a class called \"Person\" that defines the properties of a person, such as name, age, and gender, then each instance of the Person class would have its own unique set of values for these attributes.\n",
    "\n",
    "It's important to note that instance data is separate and independent from class data, which is shared among all instances of the same class. Class data is typically defined as class variables or static variables and holds data that is common to all instances of the class. Unlike instance data, class data is not unique to any particular instance and can be accessed and modified by all instances of the class."
   ]
  },
  {
   "cell_type": "markdown",
   "id": "11e5736d",
   "metadata": {},
   "source": [
    "Q3. What kind of knowledge is stored in a class?"
   ]
  },
  {
   "cell_type": "markdown",
   "id": "10fc09b3",
   "metadata": {},
   "source": [
    "In object-oriented programming, a class is a blueprint or template for creating objects or instances, and it typically contains a set of attributes and methods that define the properties and behaviors of those objects. The knowledge that is stored in a class includes:\n",
    "\n",
    "Attributes: These are the data members or instance variables that define the state or properties of an object. For example, a class representing a car may have attributes such as make, model, year, and color.\n",
    "\n",
    "Methods: These are the functions or operations that define the behavior of an object. Methods can be used to manipulate the state of the object, perform calculations, or interact with other objects or the environment. For example, a class representing a car may have methods such as start_engine(), accelerate(), and brake().\n",
    "\n",
    "Inheritance: This is the mechanism by which a class can inherit attributes and methods from another class. Inheritance allows classes to be organized into a hierarchy, where more specialized classes can inherit from more general ones. This enables code reuse and promotes modularity and scalability.\n",
    "\n",
    "Polymorphism: This is the ability of objects to take on different forms or behaviors depending on the context in which they are used. Polymorphism is achieved through methods that can be overridden or overloaded in subclasses or through interfaces.\n",
    "\n",
    "Encapsulation: This is the principle of hiding the internal workings of a class and exposing only its public interface. Encapsulation promotes information hiding and abstraction, which can enhance security, maintainability, and flexibility of the code."
   ]
  },
  {
   "cell_type": "markdown",
   "id": "eb9b64cc",
   "metadata": {},
   "source": [
    "Q4. What exactly is a method, and how is it different from a regular function?"
   ]
  },
  {
   "cell_type": "markdown",
   "id": "26d1dc61",
   "metadata": {},
   "source": [
    "In object-oriented programming, a method is a function that is associated with an object or a class. It is a piece of code that defines the behavior of an object or a class, and can be called to perform specific tasks or operations on the object or class.\n",
    "\n",
    "A method is different from a regular function in that it is bound to a specific object or class, whereas a regular function is not. A method is typically defined within the body of a class and can access and manipulate the data and state of that class, as well as any other objects it is associated with.\n",
    "\n",
    "When a method is called on an object, it can take arguments, perform calculations or operations, and return a value or modify the state of the object. Methods can also be used to implement the behavior of an interface, which is a set of methods that defines a contract for how an object should interact with the rest of the program."
   ]
  },
  {
   "cell_type": "markdown",
   "id": "0071f1c8",
   "metadata": {},
   "source": [
    "Q5. Is inheritance supported in Python, and if so, what is the syntax?"
   ]
  },
  {
   "cell_type": "markdown",
   "id": "77ca282a",
   "metadata": {},
   "source": [
    "Yes, inheritance is supported in Python. The syntax for inheritance in Python is as follows:\n",
    "\n",
    "\n"
   ]
  },
  {
   "cell_type": "code",
   "execution_count": 7,
   "id": "1a9fb326",
   "metadata": {},
   "outputs": [],
   "source": [
    "class BaseClass:\n",
    "    pass\n",
    "    \n",
    "class DerivedClass(BaseClass):\n",
    "    pass\n",
    "\n",
    "derived_obj = DerivedClass()\n",
    "\n"
   ]
  },
  {
   "cell_type": "markdown",
   "id": "9f177c27",
   "metadata": {},
   "source": [
    "In the above example, BaseClass is the base class, and DerivedClass is the derived class that inherits from BaseClass. The DerivedClass class can access all the methods and attributes of the BaseClass\n",
    "\n",
    "This creates an object of the DerivedClass class, which also has access to the methods and attributes of the BaseClass. You can also override the methods of the base class in the derived class to modify their behavior or add new methods and attributes to the derived class."
   ]
  },
  {
   "cell_type": "markdown",
   "id": "f3be0094",
   "metadata": {},
   "source": [
    "Q6. How much encapsulation (making instance or class variables private) does Python support?"
   ]
  },
  {
   "cell_type": "markdown",
   "id": "f6205ef4",
   "metadata": {},
   "source": [
    "Python supports encapsulation to some extent by allowing instance and class variables to be made private.\n",
    "\n",
    "In Python, you can make an instance variable private by prefixing its name with two underscores (__). For example:"
   ]
  },
  {
   "cell_type": "code",
   "execution_count": 8,
   "id": "3a06f716",
   "metadata": {},
   "outputs": [],
   "source": [
    "class MyClass:\n",
    "    def __init__(self):\n",
    "        self.__my_private_var = 10\n"
   ]
  },
  {
   "cell_type": "markdown",
   "id": "c55bea86",
   "metadata": {},
   "source": [
    "Here, __my_private_class_var is a private class variable of the MyClass class, and it cannot be accessed directly from outside the class. Attempting to access it will result in an AttributeError.\n",
    "\n",
    "It's worth noting that Python does not provide true data hiding or access control for private variables. In fact, you can still access private variables from outside the class by using name mangling, which involves prefixing the variable name with _classname, where classname is the name of the class that defines the variable. For example, you could access the private instance variable __my_private_var in the MyClass class like this:"
   ]
  },
  {
   "cell_type": "code",
   "execution_count": 9,
   "id": "81d15cce",
   "metadata": {},
   "outputs": [
    {
     "name": "stdout",
     "output_type": "stream",
     "text": [
      "10\n"
     ]
    }
   ],
   "source": [
    "obj = MyClass()\n",
    "print(obj._MyClass__my_private_var)\n"
   ]
  },
  {
   "cell_type": "markdown",
   "id": "ecb49fc7",
   "metadata": {},
   "source": [
    "Q7. How do you distinguish between a class variable and an instance variable?"
   ]
  },
  {
   "cell_type": "markdown",
   "id": "3d22e5be",
   "metadata": {},
   "source": [
    "In Python, a class variable is a variable that is shared by all instances of a class, while an instance variable is a variable that is unique to each instance of a class.\n",
    "\n",
    "You can distinguish between class and instance variables based on where they are defined and how they are accessed:\n",
    "\n",
    "Definition: Class variables are defined within the class definition, but outside of any methods, by using the class name. Instance variables are defined within methods or the __init__ method, using the self keyword to refer to the instance.\n",
    "\n",
    "Access: Class variables are accessed using the class name, while instance variables are accessed using the instance name."
   ]
  },
  {
   "cell_type": "markdown",
   "id": "e18867d6",
   "metadata": {},
   "source": [
    "Q8. When, if ever, can self be included in a class&#39;s method definitions?"
   ]
  },
  {
   "cell_type": "markdown",
   "id": "7f4ad31d",
   "metadata": {},
   "source": [
    "In Python, self is used to refer to the instance of a class within a method definition. It is typically included as the first parameter of a method definition, but it doesn't have to be named self - it can be named anything, but it's a convention to name it self.\n",
    "\n",
    "You can include self in a class's method definitions any time you need to access the instance variables or methods of the class within that method. self allows you to refer to the instance that the method is being called on, and you can use it to modify the state of the instance or call other methods of the instance."
   ]
  },
  {
   "cell_type": "markdown",
   "id": "e4f98cb6",
   "metadata": {},
   "source": [
    "Q9. What is the difference between the _ _add_ _ and the _ _radd_ _ methods?"
   ]
  },
  {
   "cell_type": "markdown",
   "id": "b754cce8",
   "metadata": {},
   "source": [
    "In Python, the __add__ and __radd__ methods are used for adding two objects together, but they have different meanings and are used in different contexts.\n",
    "\n",
    "The __add__ method is called when the + operator is used to add two objects. It defines the behavior of the + operator when it is used with the object on the left-hand side of the operator. For example, if you have two instances of a custom class, you can define the __add__ method to specify how they should be added together.\n",
    "\n",
    "The __radd__ method, on the other hand, is called when the object on the right-hand side of the + operator does not support addition with the object on the left-hand side. It defines the behavior of the + operator when it is used with the object on the right-hand side of the operator. For example, if you have a custom class and want to support addition with built-in types like integers, you can define the __radd__ method to specify how the addition should be performed."
   ]
  },
  {
   "cell_type": "code",
   "execution_count": 10,
   "id": "b21b5603",
   "metadata": {},
   "outputs": [
    {
     "name": "stdout",
     "output_type": "stream",
     "text": [
      "15\n"
     ]
    }
   ],
   "source": [
    "class Number:\n",
    "    def __init__(self, value):\n",
    "        self.value = value\n",
    "\n",
    "    def __add__(self, other):\n",
    "        return Number(self.value + other.value)\n",
    "\n",
    "n1 = Number(5)\n",
    "n2 = Number(10)\n",
    "result = n1 + n2  \n",
    "print(result.value) \n"
   ]
  },
  {
   "cell_type": "code",
   "execution_count": 11,
   "id": "892e1cd2",
   "metadata": {},
   "outputs": [
    {
     "name": "stdout",
     "output_type": "stream",
     "text": [
      "15\n"
     ]
    }
   ],
   "source": [
    "class Number:\n",
    "    def __init__(self, value):\n",
    "        self.value = value\n",
    "\n",
    "    def __add__(self, other):\n",
    "        return Number(self.value + other.value)\n",
    "\n",
    "n1 = Number(5)\n",
    "n2 = Number(10)\n",
    "result = n1 + n2  \n",
    "print(result.value)  # prints 15\n"
   ]
  },
  {
   "cell_type": "markdown",
   "id": "f54fe98b",
   "metadata": {},
   "source": [
    "Q10. When is it necessary to use a reflection method? When do you not need it, even though you\n",
    "support the operation in question?"
   ]
  },
  {
   "cell_type": "markdown",
   "id": "a74ff796",
   "metadata": {},
   "source": [
    "A reflection method, in object-oriented programming, is a method that provides information about an object's properties or behavior at runtime. It allows you to inspect an object and determine its characteristics or invoke its methods dynamically, without knowing its exact type at compile time.\n",
    "\n",
    "It is necessary to use a reflection method when you need to inspect or manipulate an object's properties or behavior at runtime, without knowing its exact type at compile time. For example, if you have a large codebase and need to analyze or modify objects based on certain criteria, reflection can help you achieve that dynamically. Similarly, if you are writing a library or framework that needs to support dynamic behavior or customization, reflection can be a useful tool.\n",
    "\n",
    "On the other hand, you may not need to use a reflection method if you can achieve the same functionality through other means, such as inheritance or composition. If you have full control over the types of objects you are working with and can define them explicitly, then you may not need to use reflection. For example, if you are implementing a simple calculator and all inputs are integers, you can define a function to perform addition that takes two integer inputs and returns their sum. In this case, you don't need to use reflection to dynamically inspect the inputs or outputs."
   ]
  },
  {
   "cell_type": "markdown",
   "id": "708145d0",
   "metadata": {},
   "source": [
    "Q11. What is the _ _iadd_ _ method called?"
   ]
  },
  {
   "cell_type": "markdown",
   "id": "2f30512c",
   "metadata": {},
   "source": [
    "In Python, the __iadd__ method is called when the += operator is used to add an object to another object, and the left-hand side object is mutable. The method is used to implement in-place addition, which means modifying the left-hand side object in place to incorporate the right-hand side object, rather than creating a new object.\n",
    "\n",
    "The __iadd__ method takes one argument, which is the object to be added to the left-hand side object. It should modify the left-hand side object and return a reference to the modified object."
   ]
  },
  {
   "cell_type": "code",
   "execution_count": 12,
   "id": "ba02f039",
   "metadata": {},
   "outputs": [
    {
     "name": "stdout",
     "output_type": "stream",
     "text": [
      "[1, 2, 3, 4, 5, 6]\n"
     ]
    }
   ],
   "source": [
    "class MyList:\n",
    "    def __init__(self, values):\n",
    "        self.values = values\n",
    "\n",
    "    def __iadd__(self, other):\n",
    "        self.values.extend(other.values)\n",
    "        return self\n",
    "\n",
    "a = MyList([1, 2, 3])\n",
    "b = MyList([4, 5, 6])\n",
    "a += b  # equivalent to a.__iadd__(b)\n",
    "print(a.values)  \n"
   ]
  },
  {
   "cell_type": "markdown",
   "id": "7e117f6d",
   "metadata": {},
   "source": [
    "Q12. Is the _ _init_ _ method inherited by subclasses? What do you do if you need to customize its\n",
    "behavior within a subclass?"
   ]
  },
  {
   "cell_type": "markdown",
   "id": "f9f70ba8",
   "metadata": {},
   "source": [
    "Yes, the __init__ method is inherited by subclasses in Python. When a subclass is created, if it doesn't have its own __init__ method, it will inherit the __init__ method of its parent class.\n",
    "\n",
    "If you need to customize the behavior of the __init__ method in a subclass, you can override it by defining a new __init__ method in the subclass. The new method will replace the inherited method, and you can customize its behavior as needed.\n",
    "\n",
    "Here's an example that demonstrates overriding the __init__ method in a subclass:"
   ]
  },
  {
   "cell_type": "code",
   "execution_count": 13,
   "id": "313c0784",
   "metadata": {},
   "outputs": [
    {
     "name": "stdout",
     "output_type": "stream",
     "text": [
      "Fido\n",
      "dog\n",
      "Whiskers\n",
      "cat\n"
     ]
    }
   ],
   "source": [
    "class Animal:\n",
    "    def __init__(self, name):\n",
    "        self.name = name\n",
    "        self.species = 'unknown'\n",
    "\n",
    "class Dog(Animal):\n",
    "    def __init__(self, name):\n",
    "        super().__init__(name)\n",
    "        self.species = 'dog'\n",
    "\n",
    "class Cat(Animal):\n",
    "    def __init__(self, name):\n",
    "        super().__init__(name)\n",
    "        self.species = 'cat'\n",
    "\n",
    "my_dog = Dog('Fido')\n",
    "print(my_dog.name)  # prints 'Fido'\n",
    "print(my_dog.species)  # prints 'dog'\n",
    "\n",
    "my_cat = Cat('Whiskers')\n",
    "print(my_cat.name)  # prints 'Whiskers'\n",
    "print(my_cat.species)  # prints 'cat'\n"
   ]
  },
  {
   "cell_type": "code",
   "execution_count": null,
   "id": "111a323b",
   "metadata": {},
   "outputs": [],
   "source": []
  }
 ],
 "metadata": {
  "kernelspec": {
   "display_name": "Python 3 (ipykernel)",
   "language": "python",
   "name": "python3"
  },
  "language_info": {
   "codemirror_mode": {
    "name": "ipython",
    "version": 3
   },
   "file_extension": ".py",
   "mimetype": "text/x-python",
   "name": "python",
   "nbconvert_exporter": "python",
   "pygments_lexer": "ipython3",
   "version": "3.9.13"
  }
 },
 "nbformat": 4,
 "nbformat_minor": 5
}
