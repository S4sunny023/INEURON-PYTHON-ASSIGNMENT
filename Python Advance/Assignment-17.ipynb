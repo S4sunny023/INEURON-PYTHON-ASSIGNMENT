{
 "cells": [
  {
   "cell_type": "markdown",
   "id": "47afd55e",
   "metadata": {},
   "source": [
    "Q1. Explain the difference between greedy and non-greedy syntax with visual terms in as few words\n",
    "as possible. What is the bare minimum effort required to transform a greedy pattern into a non-greedy\n",
    "one? What characters or characters can you introduce or change?"
   ]
  },
  {
   "cell_type": "markdown",
   "id": "935bb564",
   "metadata": {},
   "source": [
    "eedy syntax matches as much input as possible while still allowing the overall pattern to match. Non-greedy syntax, on the other hand, matches as little input as possible while still allowing the pattern to match.\n",
    "\n",
    "To transform a greedy pattern into a non-greedy one, you can introduce a question mark '?' immediately after the quantifier that controls the greediness. For example, the greedy pattern '.' can be transformed into a non-greedy pattern '.?'.\n",
    "\n",
    "Alternatively, you can also use curly braces '{}' and specify the minimum and maximum number of matches. For example, the greedy pattern '.+' can be transformed into a non-greedy pattern '.{1,}?"
   ]
  },
  {
   "cell_type": "markdown",
   "id": "6d023068",
   "metadata": {},
   "source": [
    "Q2. When exactly does greedy versus non-greedy make a difference?  What if you&#39;re looking for a\n",
    "non-greedy match but the only one available is greedy?"
   ]
  },
  {
   "cell_type": "markdown",
   "id": "5ee22c1e",
   "metadata": {},
   "source": [
    "Greedy versus non-greedy matching makes a difference when there are multiple possible matches for a given pattern in a text string. If a pattern has a greedy quantifier, it will match as much of the text string as possible while still allowing the overall pattern to match. In contrast, a non-greedy quantifier will match as little of the text string as possible.\n",
    "\n",
    "If you are looking for a non-greedy match but the only one available is greedy, then you may need to modify the pattern to make it non-greedy. This can usually be done by adding a non-greedy quantifier, such as the question mark '?' or curly braces '{}' with a specified range, immediately after a greedy quantifier. However, if the pattern is too complex or there are no non-greedy alternatives, you may need to consider alternative approaches such as using lookaheads or lookbehinds to specify more precise matching conditions."
   ]
  },
  {
   "cell_type": "markdown",
   "id": "08923e71",
   "metadata": {},
   "source": [
    "Q3. In a simple match of a string, which looks only for one match and does not do any replacement, is\n",
    "the use of a nontagged group likely to make any practical difference?"
   ]
  },
  {
   "cell_type": "markdown",
   "id": "81bc5f48",
   "metadata": {},
   "source": [
    "In a simple match of a string that looks for only one match and does not do any replacement, the use of a non-capturing group (a group that is not tagged with a capturing group identifier) may not make any practical difference in terms of the final output. Non-capturing groups are useful when you want to group a sequence of characters together for the purpose of applying a quantifier or alternation, but you don't want to capture the matched group as a separate element in the final output.\n",
    "\n",
    "However, using a non-capturing group instead of a capturing group can have practical benefits in terms of performance, especially if the regular expression is complex and involves many repeated subpatterns. Non-capturing groups can reduce the overhead of capturing and storing the matched groups in memory, which can improve the overall performance of the regular expression. Therefore, using non-capturing groups can be a good practice to follow, even in simple matches that look for only one match and do not do any replacement."
   ]
  },
  {
   "cell_type": "markdown",
   "id": "ae514328",
   "metadata": {},
   "source": [
    "Q4. Describe a scenario in which using a nontagged category would have a significant impact on the\n",
    "program&#39;s outcomes."
   ]
  },
  {
   "cell_type": "markdown",
   "id": "1cc65315",
   "metadata": {},
   "source": [
    "A non-tagged category, also known as a non-capturing group, can have a significant impact on the program's outcomes when it is used in a situation where capturing and storing the matched group as a separate element in the final output would cause performance issues or produce unintended results.\n",
    "\n",
    "For example, consider a scenario where a regular expression is used to parse a large log file with many repeated subpatterns, such as IP addresses or timestamps. If the regular expression captures each of these subpatterns as a separate group, the resulting output may be cluttered with unnecessary information and consume a lot of memory. Additionally, the overhead of capturing and storing the matched groups can slow down the performance of the regular expression and the overall program"
   ]
  },
  {
   "cell_type": "markdown",
   "id": "77b21d7d",
   "metadata": {},
   "source": [
    "Q5. Unlike a normal regex pattern, a look-ahead condition does not consume the characters it\n",
    "examines. Describe a situation in which this could make a difference in the results of your\n",
    "programme."
   ]
  },
  {
   "cell_type": "markdown",
   "id": "06b68e5e",
   "metadata": {},
   "source": [
    "A look-ahead condition in a regular expression is used to match a pattern only if it is followed by another pattern, without including the second pattern in the match. Since a look-ahead condition does not consume the characters it examines, it can make a difference in the results of a program in situations where the order of patterns in the input data is important.\n",
    "\n",
    "For example, consider a scenario where you are using a regular expression to parse a list of email addresses that include the domain name in brackets after the username. If you use a regular expression that matches the username and the domain name together, you may get incorrect results if there are any characters between the username and the opening bracket of the domain name. However, if you use a look-ahead condition to match only the username and ensure that it is followed by the opening bracket of the domain name, you can avoid including any additional characters in the match."
   ]
  },
  {
   "cell_type": "markdown",
   "id": "64cf2743",
   "metadata": {},
   "source": [
    "Q6. In standard expressions, what is the difference between positive look-ahead and negative look-\n",
    "ahead?"
   ]
  },
  {
   "cell_type": "markdown",
   "id": "8e4037fc",
   "metadata": {},
   "source": [
    "Positive look-ahead and negative look-ahead are two types of look-ahead assertions in regular expressions that allow you to match a pattern only if it is (or is not) followed by another pattern, without including the second pattern in the match.\n",
    "\n",
    "The main difference between positive and negative look-ahead is the presence or absence of the negation operator, indicated by the exclamation mark '!' after the opening parenthesis.\n",
    "\n",
    "Positive look-ahead (?=...) matches the pattern only if it is followed by another pattern. For example, the regular expression \"\\d+(?=-)\" matches one or more digits only if they are followed by a hyphen.\n",
    "\n",
    "Negative look-ahead (?!...) matches the pattern only if it is not followed by another pattern. For example, the regular expression \"\\d+(?!.)\" matches one or more digits only if they are not followed by a period."
   ]
  },
  {
   "cell_type": "markdown",
   "id": "3791c76f",
   "metadata": {},
   "source": [
    "Q7. What is the benefit of referring to groups by name rather than by number in a standard\n",
    "expression?"
   ]
  },
  {
   "cell_type": "markdown",
   "id": "a1b86bc5",
   "metadata": {},
   "source": [
    "Referring to groups by name in a standard expression can make the expression more readable, maintainable, and less error-prone than referring to groups by number. When groups are referred to by name, it is clear which part of the pattern each group represents, which can make it easier to understand the pattern's purpose and behavior.\n",
    "\n",
    "Naming groups can also make the code more maintainable because if the pattern changes, it is easier to update the references to the groups by name than by number. Additionally, referring to groups by name can help reduce errors because it is less likely to confuse groups or to reference the wrong group number accidentally.\n",
    "\n",
    "Another benefit of naming groups is that it can make the code more expressive, helping to document the pattern's intent. By giving meaningful names to groups, it can make it easier to understand the pattern's purpose, even for someone who is not familiar with the details of the pattern."
   ]
  },
  {
   "cell_type": "markdown",
   "id": "78e65ca3",
   "metadata": {},
   "source": [
    "Q8. Can you identify repeated items within a target string using named groups, as in &quot;The cow\n",
    "jumped over the moon&quot;?"
   ]
  },
  {
   "cell_type": "markdown",
   "id": "a3885f92",
   "metadata": {},
   "source": [
    "Yes, it is possible to use named groups in regular expressions to identify repeated items within a target string such as \"The cow jumped over the moon\".\n",
    "\n",
    "For example, to identify repeated words in a string, you could use a regular expression with a named group like this:"
   ]
  },
  {
   "cell_type": "markdown",
   "id": "2c7ef2e3",
   "metadata": {},
   "source": [
    "import re\n",
    "\n",
    "\n",
    "pattern = r'(?P<word>\\b\\w+\\b)\\s+(?P=word)'\n",
    "\n",
    "\n",
    "target_string = 'The cat in the hat sat on the mat.'\n",
    "\n",
    "matches = re.findall(pattern, target_string)\n",
    "\n",
    "\n",
    "print(matches)\n",
    "\n"
   ]
  },
  {
   "cell_type": "markdown",
   "id": "7f94e0a9",
   "metadata": {},
   "source": [
    "Q9. When parsing a string, what is at least one thing that the Scanner interface does for you that the\n",
    "re.findall feature does not?"
   ]
  },
  {
   "cell_type": "markdown",
   "id": "ffd39520",
   "metadata": {},
   "source": [
    "The Scanner interface and the re.findall function serve different purposes, and while they can both be used for parsing strings, they have different capabilities.\n",
    "\n",
    "The Scanner interface, which is part of the Java standard library, provides a way to read and parse text from a source string or input stream. It can be used to break up a string into tokens, where a token is a sequence of characters that represents a unit of meaning in the input. The Scanner interface can perform various operations on the input, such as skipping over whitespace, matching regular expressions, and converting the tokens to different data types.\n",
    "\n",
    "In contrast, the re.findall function is a method of the Python re module, which is used for searching and manipulating text using regular expressions. It is specifically designed to find all non-overlapping matches of a pattern in a string and return them as a list."
   ]
  },
  {
   "cell_type": "markdown",
   "id": "1c02446c",
   "metadata": {},
   "source": [
    "Q10. Does a scanner object have to be named scanner?"
   ]
  },
  {
   "cell_type": "markdown",
   "id": "c235b00a",
   "metadata": {},
   "source": [
    "No, a scanner object does not have to be named \"scanner\" in Python.\n",
    "\n",
    "In Python, a scanner object can be created using various libraries and modules such as the re module or third-party libraries like ply. When creating an object in Python, you can choose any valid identifier as the name of the object. "
   ]
  },
  {
   "cell_type": "code",
   "execution_count": null,
   "id": "596b1b1a",
   "metadata": {},
   "outputs": [],
   "source": []
  }
 ],
 "metadata": {
  "kernelspec": {
   "display_name": "Python 3 (ipykernel)",
   "language": "python",
   "name": "python3"
  },
  "language_info": {
   "codemirror_mode": {
    "name": "ipython",
    "version": 3
   },
   "file_extension": ".py",
   "mimetype": "text/x-python",
   "name": "python",
   "nbconvert_exporter": "python",
   "pygments_lexer": "ipython3",
   "version": "3.9.13"
  }
 },
 "nbformat": 4,
 "nbformat_minor": 5
}
