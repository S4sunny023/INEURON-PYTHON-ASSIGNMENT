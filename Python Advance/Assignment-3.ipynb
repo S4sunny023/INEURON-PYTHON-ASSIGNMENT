{
 "cells": [
  {
   "cell_type": "markdown",
   "id": "f25cce28",
   "metadata": {},
   "source": [
    "1. What is the concept of an abstract superclass?"
   ]
  },
  {
   "cell_type": "markdown",
   "id": "edd61231",
   "metadata": {},
   "source": [
    "An abstract superclass is a class that is declared with the \"abstract\" keyword and cannot be instantiated directly. It serves as a template or blueprint for other classes to inherit from and provides common functionality that can be shared among its subclasses.\n",
    "\n",
    "Abstract classes are typically used to define a common interface or behavior that all of its subclasses must implement or override. They often contain abstract methods, which are methods that are declared but not implemented in the abstract class, and must be implemented by any non-abstract subclass that extends the abstract class."
   ]
  },
  {
   "cell_type": "markdown",
   "id": "045cf28e",
   "metadata": {},
   "source": [
    "2. What happens when a class statement&#39;s top level contains a basic assignment statement?"
   ]
  },
  {
   "cell_type": "markdown",
   "id": "ca8d26f4",
   "metadata": {},
   "source": [
    "When a class statement's top-level contains a basic assignment statement, it creates a class-level variable or attribute. This means that the variable or attribute is shared among all instances of the class and can be accessed using either the class name or an instance of the class."
   ]
  },
  {
   "cell_type": "code",
   "execution_count": 2,
   "id": "5a13950f",
   "metadata": {},
   "outputs": [
    {
     "data": {
      "text/plain": [
       "10"
      ]
     },
     "execution_count": 2,
     "metadata": {},
     "output_type": "execute_result"
    }
   ],
   "source": [
    "class MyClass:\n",
    "    class_var = 10\n",
    "\n",
    "    def __init__(self, instance_var):\n",
    "        self.instance_var = instance_var\n",
    "\n",
    "obj1 = MyClass(20)\n",
    "MyClass.class_var\n",
    "\n",
    "obj1.class_var\n",
    "\n"
   ]
  },
  {
   "cell_type": "markdown",
   "id": "03b20632",
   "metadata": {},
   "source": [
    "3. Why does a class need to manually call a superclass&#39;s __init__ method?"
   ]
  },
  {
   "cell_type": "markdown",
   "id": "29e1e3fc",
   "metadata": {},
   "source": [
    "A class needs to manually call a superclass's __init__ method in order to initialize the inherited attributes and behavior from the superclass. When a class inherits from a superclass, it inherits all of the attributes and methods of the superclass, but it does not automatically call the superclass's __init__ method.\n",
    "\n",
    "The __init__ method is responsible for initializing the instance variables and setting up any necessary state for the object. When a subclass is created, it needs to call the superclass's __init__ method to properly initialize the inherited attributes and behaviors"
   ]
  },
  {
   "cell_type": "markdown",
   "id": "9ff5c598",
   "metadata": {},
   "source": [
    "4. How can you augment, instead of completely replacing, an inherited method?"
   ]
  },
  {
   "cell_type": "markdown",
   "id": "ad13c7ba",
   "metadata": {},
   "source": [
    "To augment an inherited method rather than completely replacing it, you can use method overriding in object-oriented programming. Method overriding allows a subclass to provide its own implementation for a method that is already defined in its superclass, while still maintaining the original behavior of the inherited method.\n",
    "\n",
    "To augment an inherited method, you can do the following:\n",
    "\n",
    "Define a new method in the subclass with the same name as the method to be overridden in the superclass.\n",
    "\n",
    "Use the super() function to call the superclass's method within the subclass's method implementation.\n",
    "\n",
    "Add any additional functionality to the subclass's method implementation."
   ]
  },
  {
   "cell_type": "markdown",
   "id": "086c34bb",
   "metadata": {},
   "source": [
    "5. How is the local scope of a class different from that of a function?"
   ]
  },
  {
   "cell_type": "markdown",
   "id": "cce54787",
   "metadata": {},
   "source": [
    "The local scope of a class is different from that of a function in several ways:\n",
    "\n",
    "A class defines its local scope within the body of the class statement, whereas a function defines its local scope within the body of the function definition.\n",
    "\n",
    "In a class, local variables declared within a method or constructor are only accessible within that method or constructor, as well as any nested blocks within it. In contrast, local variables declared within a function are only accessible within that function, and not in any nested blocks within it.\n",
    "\n",
    "Within a class, instance variables (attributes) are accessible across all methods of the class, while local variables within a method are not accessible outside of that method.\n",
    "\n",
    "Class-level variables, declared at the top level of the class statement, are accessible across all methods of the class and can be accessed using either the class name or an instance of the class.\n",
    "\n",
    "Unlike functions, a class has its own namespace or scope, and can define its own attributes, methods, and other properties within that namespace."
   ]
  }
 ],
 "metadata": {
  "kernelspec": {
   "display_name": "Python 3 (ipykernel)",
   "language": "python",
   "name": "python3"
  },
  "language_info": {
   "codemirror_mode": {
    "name": "ipython",
    "version": 3
   },
   "file_extension": ".py",
   "mimetype": "text/x-python",
   "name": "python",
   "nbconvert_exporter": "python",
   "pygments_lexer": "ipython3",
   "version": "3.9.13"
  }
 },
 "nbformat": 4,
 "nbformat_minor": 5
}
