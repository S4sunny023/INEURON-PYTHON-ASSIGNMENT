{
 "cells": [
  {
   "cell_type": "markdown",
   "id": "0b67551d",
   "metadata": {},
   "source": [
    "Q1. Which two operator overloading methods can you use in your classes to support iteration?"
   ]
  },
  {
   "cell_type": "markdown",
   "id": "e647c054",
   "metadata": {},
   "source": [
    "In Python, to support iteration in a custom class, you can implement two special methods: __iter__ and __next__.\n",
    "\n",
    "__iter__(self): This method should return an iterator object. It can also be the object itself, in which case it's considered its own iterator.\n",
    "\n",
    "__next__(self): This method should return the next value of the iteration or raise the StopIteration exception if there are no more values to return."
   ]
  },
  {
   "cell_type": "markdown",
   "id": "d5885dd4",
   "metadata": {},
   "source": [
    "Q2. In what contexts do the two operator overloading methods manage printing?"
   ]
  },
  {
   "cell_type": "markdown",
   "id": "56262dde",
   "metadata": {},
   "source": [
    "In Python, there are two special methods that can be used to control how an object is printed: __str__ and __repr__.\n",
    "\n",
    "__str__(self): This method is called by the str() function and by the built-in print() function to compute the \"informal\" or user-friendly string representation of an object. The method should return a string.\n",
    "\n",
    "__repr__(self): This method is called by the built-in repr() function and the interactive interpreter to compute the \"formal\" or developer-friendly string representation of an object. The method should return a string that, if possible, can be used to create a new object with the same value."
   ]
  },
  {
   "cell_type": "markdown",
   "id": "d7730cec",
   "metadata": {},
   "source": [
    "Q3. In a class, how do you intercept slice operations?"
   ]
  },
  {
   "cell_type": "code",
   "execution_count": 12,
   "id": "ef082f92",
   "metadata": {},
   "outputs": [],
   "source": [
    "class MyClass:\n",
    "    def __init__(self, data):\n",
    "        self.data = data\n",
    "        \n",
    "    def __getitem__(self, index):\n",
    "        if isinstance(index, slice):\n",
    "            start = index.start or 0\n",
    "            stop = index.stop or len(self.data)\n",
    "            step = index.step or 1\n",
    "            return [self.data[i] for i in range(start, stop, step)]\n",
    "        else:\n",
    "            return self.data[index]\n",
    "\n"
   ]
  },
  {
   "cell_type": "code",
   "execution_count": 13,
   "id": "0db2095e",
   "metadata": {},
   "outputs": [
    {
     "name": "stdout",
     "output_type": "stream",
     "text": [
      "[2, 3, 4]\n"
     ]
    }
   ],
   "source": [
    "my_obj = MyClass([0, 1, 2, 3, 4, 5])\n",
    "print(my_obj[2:5])\n",
    "\n"
   ]
  },
  {
   "cell_type": "markdown",
   "id": "896c1c46",
   "metadata": {},
   "source": [
    "Q4. In a class, how do you capture in-place addition?"
   ]
  },
  {
   "cell_type": "code",
   "execution_count": 14,
   "id": "e397d8a0",
   "metadata": {},
   "outputs": [],
   "source": [
    "class MyClass:\n",
    "    def __init__(self, value):\n",
    "        self.value = value\n",
    "        \n",
    "    def __iadd__(self, other):\n",
    "        self.value += other\n",
    "        return self\n"
   ]
  },
  {
   "cell_type": "code",
   "execution_count": 15,
   "id": "aabd5ee0",
   "metadata": {},
   "outputs": [
    {
     "name": "stdout",
     "output_type": "stream",
     "text": [
      "8\n"
     ]
    }
   ],
   "source": [
    "my_obj = MyClass(5)\n",
    "my_obj += 3\n",
    "print(my_obj.value)\n"
   ]
  },
  {
   "cell_type": "markdown",
   "id": "415c2c57",
   "metadata": {},
   "source": [
    "Q5. When is it appropriate to use operator overloading?"
   ]
  },
  {
   "cell_type": "markdown",
   "id": "dbd9925d",
   "metadata": {},
   "source": [
    "Here are some situations where operator overloading can be useful:\n",
    "\n",
    "Custom classes or objects that represent mathematical entities like vectors, matrices, complex numbers, etc. can benefit from operator overloading for arithmetic operations like addition, subtraction, multiplication, and division.\n",
    "\n",
    "Custom container classes or objects like lists, sets, and dictionaries can benefit from operator overloading for operations like concatenation (+), membership testing (in), and indexing ([]).\n",
    "\n",
    "Custom classes that represent dates, times, or intervals can benefit from operator overloading for operations like comparison (<, <=, >, >=, ==, !=) and arithmetic operations like addition and subtraction.\n",
    "\n",
    "Custom classes that represent file objects, database connections, network sockets, etc. can benefit from operator overloading for operations like context management (with statement)."
   ]
  },
  {
   "cell_type": "code",
   "execution_count": null,
   "id": "9a9d065b",
   "metadata": {},
   "outputs": [],
   "source": []
  }
 ],
 "metadata": {
  "kernelspec": {
   "display_name": "Python 3 (ipykernel)",
   "language": "python",
   "name": "python3"
  },
  "language_info": {
   "codemirror_mode": {
    "name": "ipython",
    "version": 3
   },
   "file_extension": ".py",
   "mimetype": "text/x-python",
   "name": "python",
   "nbconvert_exporter": "python",
   "pygments_lexer": "ipython3",
   "version": "3.9.13"
  }
 },
 "nbformat": 4,
 "nbformat_minor": 5
}
