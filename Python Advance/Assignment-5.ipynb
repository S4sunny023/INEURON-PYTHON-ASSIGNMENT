{
 "cells": [
  {
   "cell_type": "markdown",
   "id": "8d31102a",
   "metadata": {},
   "source": [
    "Q1. What is the meaning of multiple inheritance?"
   ]
  },
  {
   "cell_type": "markdown",
   "id": "a48a0863",
   "metadata": {},
   "source": [
    "Multiple inheritance is a feature in object-oriented programming languages where a class can inherit properties and behaviors from more than one parent class. In this way, a class can inherit attributes and methods from multiple classes, allowing it to combine their functionality into a single derived class. This can be useful in situations where a class needs to have characteristics from multiple sources or when creating complex class hierarchies. "
   ]
  },
  {
   "cell_type": "markdown",
   "id": "02779588",
   "metadata": {},
   "source": [
    "Q2. What is the concept of delegation?"
   ]
  },
  {
   "cell_type": "markdown",
   "id": "d2598f86",
   "metadata": {},
   "source": [
    "Delegation is a concept in object-oriented programming where an object passes on a task to another object to perform on its behalf. In other words, delegation is a way of sharing responsibilities between objects by assigning tasks to the most appropriate object for the job.\n",
    "\n",
    "In delegation, the delegating object passes the responsibility of a specific task to the delegated object, which then carries out the task. The delegating object remains in control of the overall process but relies on the delegated object to carry out a specific subtask."
   ]
  },
  {
   "cell_type": "markdown",
   "id": "29b4606c",
   "metadata": {},
   "source": [
    "Q3. What is the concept of composition?"
   ]
  },
  {
   "cell_type": "markdown",
   "id": "81b4bda0",
   "metadata": {},
   "source": [
    "Composition is a concept in object-oriented programming where a class is composed of one or more instances of other classes, with each instance representing a part or component of the whole. In other words, composition is a way of building complex objects by combining simpler objects or components.\n",
    "\n",
    "In composition, the objects that make up a composite object are typically designed to work together to achieve a specific functionality. The composite object acts as a wrapper for the components and provides a single interface to the outside world, abstracting away the complexity of its internal structure."
   ]
  },
  {
   "cell_type": "markdown",
   "id": "0be79b87",
   "metadata": {},
   "source": [
    "Q4. What are bound methods and how do we use them?"
   ]
  },
  {
   "cell_type": "markdown",
   "id": "a73b1161",
   "metadata": {},
   "source": [
    "In Python, a bound method is a method of an object that has been bound to the object instance. When a method is bound, it is associated with the object instance and can be called using that instance. Bound methods are created when a method is accessed on an instance of a class, and they are used to access and manipulate the object's attributes.\n",
    "\n",
    "\n",
    "To use a bound method, we first need to create an instance of the object that the method belongs to. Then we  can call the method using the dot notation, passing any necessary arguments. The instance is automatically passed as the first argument to the method, allowing it to access and modify the object's state."
   ]
  },
  {
   "cell_type": "markdown",
   "id": "1111ffd5",
   "metadata": {},
   "source": [
    "Q5. What is the purpose of pseudoprivate attributes?"
   ]
  },
  {
   "cell_type": "markdown",
   "id": "27768e77",
   "metadata": {},
   "source": [
    "In Python, pseudoprivate attributes are a convention used to indicate that an attribute is intended to be private, i.e., not accessed directly from outside the class. Pseudoprivate attributes are indicated by using two underscores (__) at the beginning of the attribute name.\n",
    "\n",
    "The purpose of pseudoprivate attributes is to provide a mechanism for encapsulation in Python, allowing classes to hide their internal implementation details and prevent outside code from directly accessing or modifying their attributes. By convention, pseudoprivate attributes are not intended to be accessed from outside the class, but they are not truly private since they can still be accessed using a slightly modified name."
   ]
  },
  {
   "cell_type": "code",
   "execution_count": null,
   "id": "67e2698f",
   "metadata": {},
   "outputs": [],
   "source": []
  },
  {
   "cell_type": "code",
   "execution_count": null,
   "id": "55e62d7f",
   "metadata": {},
   "outputs": [],
   "source": []
  },
  {
   "cell_type": "code",
   "execution_count": null,
   "id": "911a4661",
   "metadata": {},
   "outputs": [],
   "source": []
  },
  {
   "cell_type": "code",
   "execution_count": null,
   "id": "52d80b9a",
   "metadata": {},
   "outputs": [],
   "source": []
  }
 ],
 "metadata": {
  "kernelspec": {
   "display_name": "Python 3 (ipykernel)",
   "language": "python",
   "name": "python3"
  },
  "language_info": {
   "codemirror_mode": {
    "name": "ipython",
    "version": 3
   },
   "file_extension": ".py",
   "mimetype": "text/x-python",
   "name": "python",
   "nbconvert_exporter": "python",
   "pygments_lexer": "ipython3",
   "version": "3.9.13"
  }
 },
 "nbformat": 4,
 "nbformat_minor": 5
}
