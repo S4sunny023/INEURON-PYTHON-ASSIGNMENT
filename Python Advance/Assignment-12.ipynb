{
 "cells": [
  {
   "cell_type": "markdown",
   "id": "feebf477",
   "metadata": {},
   "source": [
    "Q1. Does assigning a value to a string&#39;s indexed character violate Python&#39;s string immutability?"
   ]
  },
  {
   "cell_type": "markdown",
   "id": "9bad3019",
   "metadata": {},
   "source": [
    "Yes, assigning a value to a string's indexed character violates Python's string immutability because strings are immutable objects in Python. Once a string is created, its contents cannot be changed.\n",
    "\n",
    "When we assign a value to a specific character in a string using its index, we are attempting to modify the string's contents. However, this will result in a TypeError because strings do not support item assignment."
   ]
  },
  {
   "cell_type": "code",
   "execution_count": 1,
   "id": "265cc406",
   "metadata": {},
   "outputs": [
    {
     "ename": "TypeError",
     "evalue": "'str' object does not support item assignment",
     "output_type": "error",
     "traceback": [
      "\u001b[1;31m---------------------------------------------------------------------------\u001b[0m",
      "\u001b[1;31mTypeError\u001b[0m                                 Traceback (most recent call last)",
      "\u001b[1;32m~\\AppData\\Local\\Temp\\ipykernel_29604\\277142790.py\u001b[0m in \u001b[0;36m<module>\u001b[1;34m\u001b[0m\n\u001b[0;32m      1\u001b[0m \u001b[0mmy_string\u001b[0m \u001b[1;33m=\u001b[0m \u001b[1;34m\"hello\"\u001b[0m\u001b[1;33m\u001b[0m\u001b[1;33m\u001b[0m\u001b[0m\n\u001b[1;32m----> 2\u001b[1;33m \u001b[0mmy_string\u001b[0m\u001b[1;33m[\u001b[0m\u001b[1;36m0\u001b[0m\u001b[1;33m]\u001b[0m \u001b[1;33m=\u001b[0m \u001b[1;34m\"H\"\u001b[0m\u001b[1;33m\u001b[0m\u001b[1;33m\u001b[0m\u001b[0m\n\u001b[0m",
      "\u001b[1;31mTypeError\u001b[0m: 'str' object does not support item assignment"
     ]
    }
   ],
   "source": [
    "my_string = \"hello\"\n",
    "my_string[0] = \"H\"\n"
   ]
  },
  {
   "cell_type": "markdown",
   "id": "05d9ab49",
   "metadata": {},
   "source": [
    "Instead of modifying a string in place, we can create a new string with the desired modifications using string manipulation functions like replace, join, and format."
   ]
  },
  {
   "cell_type": "markdown",
   "id": "d44daea9",
   "metadata": {},
   "source": [
    "Q2. Does using the += operator to concatenate strings violate Python&#39;s string immutability? Why or\n",
    "why not?"
   ]
  },
  {
   "cell_type": "markdown",
   "id": "ef36bfcf",
   "metadata": {},
   "source": [
    "Using the += operator to concatenate strings does not violate Python's string immutability. Although strings are immutable in Python, the += operator does not modify the existing string in place. Instead, it creates a new string object that is the concatenation of the two original strings."
   ]
  },
  {
   "cell_type": "code",
   "execution_count": 2,
   "id": "5fb0e9dc",
   "metadata": {},
   "outputs": [
    {
     "name": "stdout",
     "output_type": "stream",
     "text": [
      "helloworld\n"
     ]
    }
   ],
   "source": [
    "string1 = \"hello\"\n",
    "string2 = \"world\"\n",
    "string1 += string2\n",
    "print(string1)\n"
   ]
  },
  {
   "cell_type": "markdown",
   "id": "d6d8afa1",
   "metadata": {},
   "source": [
    "In this example, the += operator is used to concatenate string2 to string1. Although string1 is immutable, the += operation creates a new string object that contains the concatenated string \"helloworld\". The original string1 object is not modified, but the variable string1 is reassigned to refer to the new string object."
   ]
  },
  {
   "cell_type": "markdown",
   "id": "a7128db0",
   "metadata": {},
   "source": [
    "Q3. In Python, how many different ways are there to index a character?"
   ]
  },
  {
   "cell_type": "markdown",
   "id": "5fd63577",
   "metadata": {},
   "source": [
    "In Python, there is only one way to index a character in a string, and that is by using square brackets [] with the index value of the character you want to access.\n",
    "\n",
    "For example, if you have a string my_string and you want to access the first character of the string, you can use the following code:"
   ]
  },
  {
   "cell_type": "code",
   "execution_count": 4,
   "id": "09babd4e",
   "metadata": {},
   "outputs": [],
   "source": [
    "my_string = \"hello\"\n",
    "first_char = my_string[0]\n"
   ]
  },
  {
   "cell_type": "code",
   "execution_count": 5,
   "id": "fc98fa4a",
   "metadata": {},
   "outputs": [
    {
     "name": "stdout",
     "output_type": "stream",
     "text": [
      "h\n",
      "o\n"
     ]
    }
   ],
   "source": [
    "last_char = my_string[-1]\n",
    "\n",
    "print(first_char)\n",
    "print(last_char)\n"
   ]
  },
  {
   "cell_type": "markdown",
   "id": "cdff895b",
   "metadata": {},
   "source": [
    "Q4. What is the relationship between indexing and slicing?"
   ]
  },
  {
   "cell_type": "markdown",
   "id": "21fea6fc",
   "metadata": {},
   "source": [
    "Indexing and slicing are related concepts in programming languages that deal with sequences such as strings, lists, and tuples.\n",
    "\n",
    "Indexing refers to accessing a specific element of a sequence by its position within the sequence, which is typically represented by an integer index. For example, to access the first element of a list in Python, you can use the syntax my_list[0].\n",
    "\n",
    "\n",
    "\n",
    "Slicing, on the other hand, refers to extracting a subset of elements from a sequence, which is specified by a range of indices. For example, to extract the first three elements of a list in Python, you can use the syntax my_list[0:3]."
   ]
  },
  {
   "cell_type": "markdown",
   "id": "2cb915eb",
   "metadata": {},
   "source": [
    "Q5. What is an indexed character&#39;s exact data type? What is the data form of a slicing-generated\n",
    "substring?"
   ]
  },
  {
   "cell_type": "markdown",
   "id": "2bb495f2",
   "metadata": {},
   "source": [
    "\n",
    "The data type of an indexed character and a slicing-generated substring depends on the programming language and the type of sequence being indexed or sliced.\n",
    "\n",
    "In most programming languages, strings are sequences of characters, and indexing or slicing a string returns a character or a substring, respectively. The exact data type of a character or substring depends on the programming language.\n",
    "\n",
    "For example, in Python, indexing a string returns a single character, which is a string of length 1. The data type of the character is a string (i.e., str data type in Python). For example:\n",
    "\n"
   ]
  },
  {
   "cell_type": "code",
   "execution_count": 7,
   "id": "180f2bd0",
   "metadata": {},
   "outputs": [
    {
     "name": "stdout",
     "output_type": "stream",
     "text": [
      "e\n",
      "<class 'str'>\n"
     ]
    }
   ],
   "source": [
    "my_string = \"Hello, World!\"\n",
    "print(my_string[1])\n",
    "print(type(my_string[1]))"
   ]
  },
  {
   "cell_type": "markdown",
   "id": "72446f22",
   "metadata": {},
   "source": [
    "Similarly, slicing a string in Python returns a substring, which is also a string. The data type of the substring is also a string. For example:"
   ]
  },
  {
   "cell_type": "code",
   "execution_count": 9,
   "id": "0e394cd5",
   "metadata": {},
   "outputs": [
    {
     "name": "stdout",
     "output_type": "stream",
     "text": [
      "Hello\n",
      "<class 'str'>\n"
     ]
    }
   ],
   "source": [
    "my_string = \"Hello, World!\"\n",
    "print(my_string[0:5]) \n",
    "print(type(my_string[0:5]))\n"
   ]
  },
  {
   "cell_type": "markdown",
   "id": "c3daee33",
   "metadata": {},
   "source": [
    "Q6. What is the relationship between string and character &quot;types&quot; in Python?"
   ]
  },
  {
   "cell_type": "markdown",
   "id": "6cb05f2f",
   "metadata": {},
   "source": [
    "In Python, a string is a sequence of characters, and each character in the string is itself a string of length 1. Therefore, there is no separate \"character type\" in Python; characters are simply represented as strings of length 1."
   ]
  },
  {
   "cell_type": "code",
   "execution_count": 10,
   "id": "6b38bed3",
   "metadata": {},
   "outputs": [],
   "source": [
    "my_string1 = 'Hello, World!'\n",
    "my_string2 = \"Hello, World!\"\n"
   ]
  },
  {
   "cell_type": "markdown",
   "id": "ba910d8d",
   "metadata": {},
   "source": [
    "To access a specific character within the string, you can use indexing syntax with an integer index:"
   ]
  },
  {
   "cell_type": "code",
   "execution_count": 12,
   "id": "00d9bd12",
   "metadata": {},
   "outputs": [
    {
     "data": {
      "text/plain": [
       "'H'"
      ]
     },
     "execution_count": 12,
     "metadata": {},
     "output_type": "execute_result"
    }
   ],
   "source": [
    "my_string = \"Hello, World!\"\n",
    "first_char = my_string[0]\n",
    "first_char\n"
   ]
  },
  {
   "cell_type": "markdown",
   "id": "61947060",
   "metadata": {},
   "source": [
    "Q7. Identify at least two operators and one method that allow you to combine one or more smaller\n",
    "strings to create a larger string."
   ]
  },
  {
   "cell_type": "markdown",
   "id": "66f617fd",
   "metadata": {},
   "source": [
    "There are several operators and methods in Python that allow you to combine smaller strings to create a larger string. Here are two operators and one method:\n",
    "\n",
    "The + operator: The + operator can be used to concatenate two or more strings. For example:"
   ]
  },
  {
   "cell_type": "code",
   "execution_count": 13,
   "id": "9925bdfe",
   "metadata": {},
   "outputs": [
    {
     "name": "stdout",
     "output_type": "stream",
     "text": [
      "John Doe\n"
     ]
    }
   ],
   "source": [
    "first_name = \"John\"\n",
    "last_name = \"Doe\"\n",
    "full_name = first_name + \" \" + last_name\n",
    "print(full_name)\n"
   ]
  },
  {
   "cell_type": "markdown",
   "id": "42a0ba20",
   "metadata": {},
   "source": [
    "In this example, the + operator is used to concatenate the first_name, a space character, and the last_name to create the full_name string.\n",
    "\n",
    "The join() method: The join() method can be used to join a list of strings into a single string, with a specified separator character. For example:"
   ]
  },
  {
   "cell_type": "code",
   "execution_count": 14,
   "id": "80d1ba22",
   "metadata": {},
   "outputs": [
    {
     "name": "stdout",
     "output_type": "stream",
     "text": [
      "Hello world !\n"
     ]
    }
   ],
   "source": [
    "words = [\"Hello\", \"world\", \"!\"]\n",
    "sentence = \" \".join(words)\n",
    "print(sentence)\n"
   ]
  },
  {
   "cell_type": "markdown",
   "id": "1ce852e7",
   "metadata": {},
   "source": [
    "In this example, the join() method is used to join the list of strings words into a single string, with a space character as the separator.\n",
    "\n",
    "The f-string syntax: The f-string syntax (introduced in Python 3.6) allows you to embed the values of variables or expressions directly into a string. For example:"
   ]
  },
  {
   "cell_type": "code",
   "execution_count": 16,
   "id": "e2a22ebe",
   "metadata": {},
   "outputs": [
    {
     "name": "stdout",
     "output_type": "stream",
     "text": [
      "My name is Alice and I am 25 years old.\n"
     ]
    }
   ],
   "source": [
    "name = \"Alice\"\n",
    "age = 25\n",
    "message = f\"My name is {name} and I am {age} years old.\"\n",
    "print(message) \n"
   ]
  },
  {
   "cell_type": "markdown",
   "id": "39b636df",
   "metadata": {},
   "source": [
    "In this example, the f-string syntax is used to embed the values of the variables name and age into the string message."
   ]
  },
  {
   "cell_type": "markdown",
   "id": "9ff6bc4e",
   "metadata": {},
   "source": [
    "Q8. What is the benefit of first checking the target string with in or not in before using the index\n",
    "method to find a substring?"
   ]
  },
  {
   "cell_type": "markdown",
   "id": "2c698f71",
   "metadata": {},
   "source": [
    "Checking whether a substring is present in a string using the in or not in operators before using the index method to find the position of the substring can be beneficial in several ways:\n",
    "\n",
    "Avoiding errors: If the substring is not present in the string, using the index method will raise a ValueError. By checking for the presence of the substring first, you can avoid this error and handle the case where the substring is not found gracefully.\n",
    "\n",
    "Improving efficiency: If the substring is not present in the string, using the index method will needlessly search through the entire string to determine that the substring is not there. By checking for the presence of the substring first, you can avoid this unnecessary search and improve the efficiency of your code.\n",
    "\n",
    "Simplifying code: Checking for the presence of a substring using the in or not in operators can be a simpler and more intuitive way to determine if a substring is present in a string than using the index method.\n",
    "\n",
    "Therefore, it is generally a good practice to check for the presence of a substring using the in or not in operators before using the index method to find the position of the substring."
   ]
  },
  {
   "cell_type": "markdown",
   "id": "c1e0b1a4",
   "metadata": {},
   "source": [
    "Q9. Which operators and built-in string methods produce simple Boolean (true/false) results?"
   ]
  },
  {
   "cell_type": "markdown",
   "id": "62253deb",
   "metadata": {},
   "source": [
    "There are several operators and built-in string methods in Python that produce simple Boolean (true/false) results:\n",
    "\n",
    "Operators:\n",
    "\n",
    "Comparison operators such as == (equal to), != (not equal to), < (less than), > (greater than), <= (less than or equal to), >= (greater than or equal to) all produce Boolean results based on the comparison between two values.\n",
    "\n",
    "Logical operators such as and, or, and not produce Boolean results based on the logical combination of two or more conditions."
   ]
  },
  {
   "cell_type": "markdown",
   "id": "dcdbac98",
   "metadata": {},
   "source": [
    "\n",
    "There are several operators and built-in string methods in Python that produce simple Boolean (true/false) results:\n",
    "\n",
    "Operators:\n",
    "\n",
    "Comparison operators such as == (equal to), != (not equal to), < (less than), > (greater than), <= (less than or equal to), >= (greater than or equal to) all produce Boolean results based on the comparison between two values.\n",
    "\n",
    "Logical operators such as and, or, and not produce Boolean results based on the logical combination of two or more conditions.\n",
    "\n",
    "Built-in String methods:\n",
    "\n",
    "startswith(prefix) returns True if the string starts with the specified prefix, and False otherwise.\n",
    "\n",
    "endswith(suffix) returns True if the string ends with the specified suffix, and False otherwise.\n",
    "\n",
    "isalnum() returns True if the string contains only alphanumeric characters, and False otherwise.\n",
    "\n",
    "isalpha() returns True if the string contains only alphabetic characters, and False otherwise.\n",
    "\n",
    "isdigit() returns True if the string contains only digits, and False otherwise.\n",
    "\n",
    "islower() returns True if all alphabetic characters in the string are lowercase, and False otherwise.\n",
    "\n",
    "isupper() returns True if all alphabetic characters in the string are uppercase, and False otherwise.\n",
    "\n",
    "isspace() returns True if the string contains only whitespace characters, and False otherwise."
   ]
  },
  {
   "cell_type": "code",
   "execution_count": null,
   "id": "d5929de3",
   "metadata": {},
   "outputs": [],
   "source": []
  },
  {
   "cell_type": "code",
   "execution_count": null,
   "id": "9e3d2997",
   "metadata": {},
   "outputs": [],
   "source": []
  },
  {
   "cell_type": "code",
   "execution_count": null,
   "id": "36cfe00e",
   "metadata": {},
   "outputs": [],
   "source": []
  },
  {
   "cell_type": "code",
   "execution_count": null,
   "id": "00567b49",
   "metadata": {},
   "outputs": [],
   "source": []
  },
  {
   "cell_type": "code",
   "execution_count": null,
   "id": "a76eb96e",
   "metadata": {},
   "outputs": [],
   "source": []
  }
 ],
 "metadata": {
  "kernelspec": {
   "display_name": "Python 3 (ipykernel)",
   "language": "python",
   "name": "python3"
  },
  "language_info": {
   "codemirror_mode": {
    "name": "ipython",
    "version": 3
   },
   "file_extension": ".py",
   "mimetype": "text/x-python",
   "name": "python",
   "nbconvert_exporter": "python",
   "pygments_lexer": "ipython3",
   "version": "3.9.13"
  }
 },
 "nbformat": 4,
 "nbformat_minor": 5
}
