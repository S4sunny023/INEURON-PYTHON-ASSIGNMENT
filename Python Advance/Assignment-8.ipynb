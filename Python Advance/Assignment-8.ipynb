{
 "cells": [
  {
   "cell_type": "markdown",
   "id": "5e8bab99",
   "metadata": {},
   "source": [
    "Q1. What are the two latest user-defined exception constraints in Python 3.X?"
   ]
  },
  {
   "cell_type": "markdown",
   "id": "3bc8caca",
   "metadata": {},
   "source": [
    "There are no \"latest\" user-defined exception constraints in Python 3.X, as exception handling is not version-specific. However, Python 3.X does not introduce any new user-defined exception constraints compared to Python 2.X.\n",
    "\n",
    "In Python, you can define your own exceptions by creating a new class that inherits from the built-in Exception class or any of its subclasses. You can define any number of user-defined exceptions as needed for your program.\n",
    "\n",
    "That being said, some of the built-in exception classes that are commonly used in Python 3.X include ValueError, TypeError, IndexError, and NameError, among others. You can also define your own subclasses of these exceptions or create entirely new exceptions for your specific needs."
   ]
  },
  {
   "cell_type": "markdown",
   "id": "01ed792a",
   "metadata": {},
   "source": [
    "Q2. How are class-based exceptions that have been raised matched to handlers?"
   ]
  },
  {
   "cell_type": "markdown",
   "id": "218b91a6",
   "metadata": {},
   "source": [
    "When an exception is raised in a Python program, the interpreter looks for an exception handler to catch the exception and provide a way to handle the error. The process of matching a raised exception to a handler is called exception handling.\n",
    "\n",
    "In Python, when we define an exception handler using the try-except block, we can specify one or more exception classes that the handler will catch.\n",
    "\n",
    "When we define your own exception classes in Python, we can raise them using the raise statement and catch them using the except block, just like built-in exceptions. To catch a specific exception class,we can specify the name of the class after the except keyword"
   ]
  },
  {
   "cell_type": "markdown",
   "id": "5f83153e",
   "metadata": {},
   "source": [
    "Q3. Describe two methods for attaching context information to exception artefacts."
   ]
  },
  {
   "cell_type": "markdown",
   "id": "57624645",
   "metadata": {},
   "source": [
    "When an exception is raised in a Python program, it can be useful to attach additional context information to the exception object to help with debugging and error reporting. Here are two methods for attaching context information to exception artifacts:\n",
    "\n",
    "Using the raise ... from ... syntax:\n",
    "Python 3 introduced a new from keyword that allows you to attach the original exception to a new exception that you are raising. This is useful when you want to provide more context about the error, but don't want to lose the original exception information.\n",
    "\n",
    "\n",
    "Using exception attributes:\n",
    "You can also attach context information to an exception by setting attributes on the exception object itself. "
   ]
  },
  {
   "cell_type": "markdown",
   "id": "0327bbb0",
   "metadata": {},
   "source": [
    "Q4. Describe two methods for specifying the text of an exception object&#39;s error message."
   ]
  },
  {
   "cell_type": "markdown",
   "id": "b0f7ed6e",
   "metadata": {},
   "source": [
    "When we raise an exception in a Python program, we can provide an error message that describes the reason for the exception. Here are two methods for specifying the text of an exception object's error message:\n",
    "\n",
    "Using the raise statement with an exception object:\n",
    "You can raise an exception object with a custom error message by passing the message as an argument to the exception constructor\n",
    "\n",
    "\n",
    "Defining an error message attribute in the exception class:\n",
    "You can also define an error message attribute in the exception class itself, which allows you to change the error message dynamically based on the context in which the exception is raised. "
   ]
  },
  {
   "cell_type": "markdown",
   "id": "e346a444",
   "metadata": {},
   "source": [
    "Q5. Why do you no longer use string-based exceptions?"
   ]
  },
  {
   "cell_type": "markdown",
   "id": "e933db5e",
   "metadata": {},
   "source": [
    "In earlier versions of Python, it was possible to raise exceptions by passing a string message as an argument to the raise statement\n",
    "However, this approach is no longer recommended in Python. Here are some reasons why string-based exceptions are no longer used:\n",
    "\n",
    "They are less expressive: Raising an exception with a string message provides less information about the nature of the exception. By contrast, defining a custom exception class with specific properties and methods provides more information about the exception type and its properties, which can be useful for debugging and handling the exception.\n",
    "\n",
    "They are harder to catch: Because string-based exceptions are simply strings, they can be raised by any part of the code, which makes it harder to catch specific exceptions. By contrast, using custom exception classes allows you to catch specific types of exceptions, which can help you handle errors more effectively.\n",
    "\n",
    "They are less maintainable: When using string-based exceptions, it can be difficult to maintain consistency in the error messages used throughout your codebase. By contrast, defining custom exception classes with consistent error messages makes your code more maintainable and easier to understand."
   ]
  },
  {
   "cell_type": "code",
   "execution_count": null,
   "id": "175b904f",
   "metadata": {},
   "outputs": [],
   "source": []
  },
  {
   "cell_type": "code",
   "execution_count": null,
   "id": "48cf28fe",
   "metadata": {},
   "outputs": [],
   "source": []
  },
  {
   "cell_type": "code",
   "execution_count": null,
   "id": "68b2bf95",
   "metadata": {},
   "outputs": [],
   "source": []
  },
  {
   "cell_type": "code",
   "execution_count": null,
   "id": "8c377168",
   "metadata": {},
   "outputs": [],
   "source": []
  },
  {
   "cell_type": "code",
   "execution_count": null,
   "id": "7ae35922",
   "metadata": {},
   "outputs": [],
   "source": []
  }
 ],
 "metadata": {
  "kernelspec": {
   "display_name": "Python 3 (ipykernel)",
   "language": "python",
   "name": "python3"
  },
  "language_info": {
   "codemirror_mode": {
    "name": "ipython",
    "version": 3
   },
   "file_extension": ".py",
   "mimetype": "text/x-python",
   "name": "python",
   "nbconvert_exporter": "python",
   "pygments_lexer": "ipython3",
   "version": "3.9.13"
  }
 },
 "nbformat": 4,
 "nbformat_minor": 5
}
