{
 "cells": [
  {
   "cell_type": "markdown",
   "id": "66fa30a0",
   "metadata": {},
   "source": [
    "Q1. Describe three applications for exception processing."
   ]
  },
  {
   "cell_type": "markdown",
   "id": "9a6a3b31",
   "metadata": {},
   "source": [
    "Exception processing is a technique used in programming to handle unexpected errors or events that occur during the execution of a program. Here are three applications for exception processing:\n",
    "\n",
    "Error handling: One of the most common applications of exception processing is error handling. When a program encounters an unexpected error or exception, it can use exception processing to handle the error gracefully instead of crashing. For example, if a file is not found when the program tries to open it, the program can catch the exception and display an error message to the user instead of crashing.\n",
    "\n",
    "Resource management: Another application of exception processing is resource management. In some cases, a program may need to acquire resources such as memory or network connections to execute its tasks. If the program encounters an exception while acquiring resources, it can use exception processing to release the resources it acquired before terminating. This ensures that resources are not left in an inconsistent state that could cause further problems.\n",
    "\n",
    "Program flow control: Exception processing can also be used to control the flow of a program. For example, a program may use exceptions to implement a retry mechanism when a network request fails. Instead of exiting the program, the program can catch the exception, wait for a certain period of time, and then try the request again. This can improve the reliability of the program by allowing it to recover from transient errors."
   ]
  },
  {
   "cell_type": "markdown",
   "id": "53577932",
   "metadata": {},
   "source": [
    "Q2. What happens if you don&#39;t do something extra to treat an exception?"
   ]
  },
  {
   "cell_type": "markdown",
   "id": "668528e8",
   "metadata": {},
   "source": [
    " you don't handle or treat an exception in your code, the program will typically terminate abruptly when the exception occurs. This is because the exception represents an error or unexpected event that the program is not designed to handle, and continuing to execute the program in this state could lead to unpredictable or incorrect behavior.\n",
    "\n",
    "When an exception is not treated or handled, the program will typically print an error message to the console or log file indicating the type of exception that occurred, along with a stack trace that shows where the exception was thrown in the code. After printing the error message, the program will terminate."
   ]
  },
  {
   "cell_type": "markdown",
   "id": "5ba186f1",
   "metadata": {},
   "source": [
    "Q3. What are your options for recovering from an exception in your script?"
   ]
  },
  {
   "cell_type": "markdown",
   "id": "ece88f1b",
   "metadata": {},
   "source": [
    "\n",
    "When an exception occurs in a script, there are several options for recovering from the exception:\n",
    "\n",
    "Handle the exception: You can use a try-catch block to catch and handle the exception. Inside the catch block, you can provide alternative code to execute in case of the exception. For example, you can log the error, display a user-friendly message, or attempt to recover from the error.\n",
    "\n",
    "Retry the operation: Depending on the nature of the exception, it may be possible to retry the operation that caused the exception. For example, if a network connection times out, you can attempt to reconnect and retry the operation. You can use a loop to keep retrying until the operation succeeds or a maximum number of retries is reached.\n",
    "\n",
    "Roll back the transaction: If the exception occurred during a transaction that modifies data, you can roll back the transaction to undo any changes made before the exception occurred. This can help ensure data consistency and integrity.\n",
    "\n",
    "Graceful exit: If the exception cannot be recovered from, you can gracefully exit the program, ensuring that any open resources are properly closed and any cleanup tasks are performed before the program terminates."
   ]
  },
  {
   "cell_type": "markdown",
   "id": "8e957e54",
   "metadata": {},
   "source": [
    "Q4. Describe two methods for triggering exceptions in your script."
   ]
  },
  {
   "cell_type": "markdown",
   "id": "110cc611",
   "metadata": {},
   "source": [
    "Here are two methods for triggering exceptions in your script:\n",
    "\n",
    "Raise an exception explicitly: You can raise an exception explicitly using the raise keyword followed by the type of exception you want to raise. For example, you can raise a ValueError exception if an input parameter is out of range\n",
    "\n",
    "\n",
    "Let an exception occur naturally: Exceptions can also occur naturally during the execution of your script. For example, if you attempt to open a file that does not exist, a FileNotFoundError exception will be raised automatically"
   ]
  },
  {
   "cell_type": "markdown",
   "id": "da00e3c4",
   "metadata": {},
   "source": [
    "Q5. Identify two methods for specifying actions to be executed at termination time, regardless of\n",
    "whether or not an exception exists."
   ]
  },
  {
   "cell_type": "markdown",
   "id": "c8326638",
   "metadata": {},
   "source": [
    "Here are two methods for specifying actions to be executed at termination time, regardless of whether or not an exception exists:\n",
    "\n",
    "Using the finally block: The finally block is used to specify code that should be executed at the end of a try-except block, regardless of whether an exception was raised or not. This is useful for ensuring that certain cleanup tasks are always performed, such as closing files or releasing resources\n",
    "\n",
    "Using the atexit module: The atexit module provides a way to register functions that should be executed when the program exits, regardless of whether an exception was raised or not. "
   ]
  },
  {
   "cell_type": "code",
   "execution_count": null,
   "id": "bbe04305",
   "metadata": {},
   "outputs": [],
   "source": []
  },
  {
   "cell_type": "code",
   "execution_count": null,
   "id": "102652c0",
   "metadata": {},
   "outputs": [],
   "source": []
  }
 ],
 "metadata": {
  "kernelspec": {
   "display_name": "Python 3 (ipykernel)",
   "language": "python",
   "name": "python3"
  },
  "language_info": {
   "codemirror_mode": {
    "name": "ipython",
    "version": 3
   },
   "file_extension": ".py",
   "mimetype": "text/x-python",
   "name": "python",
   "nbconvert_exporter": "python",
   "pygments_lexer": "ipython3",
   "version": "3.9.13"
  }
 },
 "nbformat": 4,
 "nbformat_minor": 5
}
