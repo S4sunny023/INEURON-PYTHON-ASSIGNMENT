{
 "cells": [
  {
   "cell_type": "markdown",
   "id": "ad042d64",
   "metadata": {},
   "source": [
    "Q1. What is the purpose of Python&#39;s OOP?"
   ]
  },
  {
   "cell_type": "markdown",
   "id": "77cbc5c6",
   "metadata": {},
   "source": [
    "The purpose of Python's Object-Oriented Programming (OOP) is to provide a way to organize and structure code in a way that makes it more modular, reusable, and easier to maintain.\n",
    "\n",
    "OOP in Python allows developers to define classes, which are templates for creating objects with certain properties and behaviors. Classes encapsulate data and methods into a single unit, providing a way to represent real-world entities or concepts in code.\n",
    "\n",
    "OOP also enables developers to use inheritance, which allows them to create new classes based on existing ones, inheriting their properties and behaviors. This reduces code duplication and makes it easier to make changes to the codebase."
   ]
  },
  {
   "cell_type": "markdown",
   "id": "8f039d84",
   "metadata": {},
   "source": [
    "Q2. Where does an inheritance search look for an attribute?"
   ]
  },
  {
   "cell_type": "markdown",
   "id": "5aadf88b",
   "metadata": {},
   "source": [
    " inheritance search for an attribute looks for the attribute in the following order:\n",
    "\n",
    "The instance itself\n",
    "\n",
    "The class of the instance\n",
    "\n",
    "The base classes of the class, in the order specified by the MRO"
   ]
  },
  {
   "cell_type": "markdown",
   "id": "16503059",
   "metadata": {},
   "source": [
    "Q3. How do you distinguish between a class object and an instance object?"
   ]
  },
  {
   "cell_type": "markdown",
   "id": "1eff4eb0",
   "metadata": {},
   "source": [
    "To distinguish between a class object and an instance object, you can consider the following:\n",
    "\n",
    "Class object: A class object is created when a class is defined. It represents the class as a whole, including its attributes and methods. Class objects can be used to create new instances of the class, as well as to access and modify class-level attributes.\n",
    "\n",
    "Instance object: An instance object is created when a class is instantiated. It represents a specific object created from the class, with its own set of attributes and methods. Instance objects can be used to access and modify instance-level attributes and methods."
   ]
  },
  {
   "cell_type": "markdown",
   "id": "bd1c6c22",
   "metadata": {},
   "source": [
    "Q4. What makes the first argument in a class’s method function special?"
   ]
  },
  {
   "cell_type": "markdown",
   "id": "a39193bf",
   "metadata": {},
   "source": [
    "In Python, the first argument in a class's method function is conventionally named self, although any other name can be used. This argument represents the instance object that the method is being called on.\n",
    "\n",
    "The self argument is not a keyword in Python; it is simply a naming convention that is widely used in Python code. When a method is called on an instance object, Python automatically passes the instance object as the first argument to the method, which is assigned to the self parameter."
   ]
  },
  {
   "cell_type": "markdown",
   "id": "535c49a6",
   "metadata": {},
   "source": [
    "Q5. What is the purpose of the __init__ method?"
   ]
  },
  {
   "cell_type": "markdown",
   "id": "24f55516",
   "metadata": {},
   "source": [
    "In Python, the __init__ method is a special method that is called automatically when an instance of a class is created. The purpose of the __init__ method is to initialize the attributes of the instance object with the values passed as arguments when the instance is created."
   ]
  },
  {
   "cell_type": "markdown",
   "id": "8d33da3a",
   "metadata": {},
   "source": [
    "Q6. What is the process for creating a class instance?"
   ]
  },
  {
   "cell_type": "markdown",
   "id": "02f5d68b",
   "metadata": {},
   "source": [
    "In Python, creating an instance of a class involves the following steps:\n",
    "\n",
    "Define the class: First, define the class with the required attributes and methods.\n",
    "\n",
    "Instantiate the class: To create an instance of the class, call the class constructor with the required arguments. This creates a new instance of the class and returns a reference to the instance.\n",
    "\n",
    "Assign the instance to a variable: Assign the reference to the instance returned by the class constructor to a variable."
   ]
  },
  {
   "cell_type": "markdown",
   "id": "15cc3aa3",
   "metadata": {},
   "source": [
    "Q7. What is the process for creating a class?"
   ]
  },
  {
   "cell_type": "markdown",
   "id": "f437a7a1",
   "metadata": {},
   "source": [
    "In Python, creating a class involves the following steps:\n",
    "\n",
    "Define the class: To define a class, use the class keyword followed by the name of the class. Inside the class definition, define the attributes and methods of the class.\n",
    "\n",
    "Define the attributes: Use the def keyword to define instance attributes (variables) and class attributes. Instance attributes are specific to each instance of the class, while class attributes are shared by all instances of the class.\n",
    "\n",
    "Define the methods: Use the def keyword to define the methods of the class. Methods are functions that are defined inside the class definition and can be called on instances of the class."
   ]
  },
  {
   "cell_type": "markdown",
   "id": "a39a746d",
   "metadata": {},
   "source": [
    "Q8. How would you define the superclasses of a class?"
   ]
  },
  {
   "cell_type": "markdown",
   "id": "6b8e629d",
   "metadata": {},
   "source": [
    "In Python, the superclasses of a class are the parent classes from which the class inherits. To define the superclasses of a class, you need to specify them inside the parentheses after the class name in the class definition."
   ]
  },
  {
   "cell_type": "code",
   "execution_count": 6,
   "id": "68178048",
   "metadata": {},
   "outputs": [],
   "source": [
    "class Animal:\n",
    "    def __init__(self, name):\n",
    "        self.name = name\n",
    "\n",
    "class Dog(Animal):\n",
    "    def bark(self):\n",
    "        print(\"Woof!\")\n"
   ]
  },
  {
   "cell_type": "code",
   "execution_count": null,
   "id": "5793cbac",
   "metadata": {},
   "outputs": [],
   "source": []
  },
  {
   "cell_type": "code",
   "execution_count": null,
   "id": "48c9f681",
   "metadata": {},
   "outputs": [],
   "source": []
  },
  {
   "cell_type": "code",
   "execution_count": null,
   "id": "8da7bd0d",
   "metadata": {},
   "outputs": [],
   "source": []
  },
  {
   "cell_type": "code",
   "execution_count": null,
   "id": "da960a29",
   "metadata": {},
   "outputs": [],
   "source": []
  }
 ],
 "metadata": {
  "kernelspec": {
   "display_name": "Python 3 (ipykernel)",
   "language": "python",
   "name": "python3"
  },
  "language_info": {
   "codemirror_mode": {
    "name": "ipython",
    "version": 3
   },
   "file_extension": ".py",
   "mimetype": "text/x-python",
   "name": "python",
   "nbconvert_exporter": "python",
   "pygments_lexer": "ipython3",
   "version": "3.9.13"
  }
 },
 "nbformat": 4,
 "nbformat_minor": 5
}
