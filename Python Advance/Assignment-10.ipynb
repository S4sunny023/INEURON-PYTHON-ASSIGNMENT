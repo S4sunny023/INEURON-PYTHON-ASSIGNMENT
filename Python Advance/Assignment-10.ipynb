{
 "cells": [
  {
   "cell_type": "markdown",
   "id": "c90a0720",
   "metadata": {},
   "source": [
    "Q1. What is the difference between __getattr__ and __getattribute__?"
   ]
  },
  {
   "cell_type": "markdown",
   "id": "5ca8828d",
   "metadata": {},
   "source": [
    "In Python, __getattr__ and __getattribute__ are both special methods that are used to handle attribute access in objects, but they are used in different ways and have different behaviors.\n",
    "\n",
    "__getattr__ is called when an attribute is not found in the usual way, i.e., when it is not an instance attribute or a class attribute. It takes one argument, the name of the attribute being accessed, and it should return the value of the attribute or raise an AttributeError if the attribute does not exist.\n",
    "\n",
    "\n",
    "On the other hand, __getattribute__ is called every time an attribute is accessed, regardless of whether it exists or not. It takes one argument, the name of the attribute being accessed, and it should return the value of the attribute or raise an AttributeError if the attribute does not exist."
   ]
  },
  {
   "cell_type": "markdown",
   "id": "6e5c4cbb",
   "metadata": {},
   "source": [
    "Q2. What is the difference between properties and descriptors?"
   ]
  },
  {
   "cell_type": "markdown",
   "id": "59d48d2a",
   "metadata": {},
   "source": [
    "In Python, both properties and descriptors are mechanisms to control attribute access, but they differ in their level of abstraction and flexibility.\n",
    "\n",
    "A property is a built-in Python feature that allows you to define getter, setter, and deleter methods for a class attribute. Properties are defined using the property decorator and are accessed using the dot notation, just like regular attributes. When a property is accessed, its getter method is called, and when it is assigned to, its setter method is called."
   ]
  },
  {
   "cell_type": "markdown",
   "id": "13364644",
   "metadata": {},
   "source": [
    "Descriptors, on the other hand, are a more low-level mechanism that allows you to define classes that customize attribute access for instances of other classes. Descriptors are defined by implementing one or more of the special methods __get__, __set__, and __delete__. When an instance of a class that uses a descriptor is accessed or assigned to, the descriptor's __get__, __set__, or __delete__ method is called, as appropriate."
   ]
  },
  {
   "cell_type": "markdown",
   "id": "d9273d1b",
   "metadata": {},
   "source": [
    "Q3. What are the key differences in functionality between __getattr__ and __getattribute__, as well as\n",
    "properties and descriptors?"
   ]
  },
  {
   "cell_type": "markdown",
   "id": "c46c7e0d",
   "metadata": {},
   "source": [
    "The main differences in functionality between __getattr__ and __getattribute__, as well as properties and descriptors, can be summarized as follows:\n",
    "\n",
    "__getattr__ vs. __getattribute__:\n",
    "\n",
    "__getattr__ is only called when an attribute is not found by the usual mechanism, while __getattribute__ is called every time an attribute is accessed.\n",
    "__getattr__ is a fallback mechanism, while __getattribute__ is a low-level mechanism that can be used to intercept and customize all attribute access for an object.\n",
    "__getattr__ can return a value or raise an AttributeError, while __getattribute__ should return the attribute value or raise an AttributeError if the attribute does not exist.\n",
    "Properties vs. Descriptors:\n",
    "\n",
    "Properties are a high-level mechanism that allow you to define getter, setter, and deleter methods for a class attribute, while descriptors are a lower-level mechanism that allow you to customize attribute access for instances of other classes.\n",
    "Properties are defined using the property decorator, while descriptors are defined by implementing one or more of the special methods __get__, __set__, and __delete__.\n",
    "Properties are accessed using the dot notation, just like regular attributes, while descriptors are accessed indirectly through their containing objects.\n",
    "Properties are often used for simple cases where you need to control access to a single attribute, while descriptors are more powerful and flexible, and can be used to implement complex behavior for multiple attributes."
   ]
  },
  {
   "cell_type": "code",
   "execution_count": null,
   "id": "34f981be",
   "metadata": {},
   "outputs": [],
   "source": []
  },
  {
   "cell_type": "code",
   "execution_count": null,
   "id": "dfcad39e",
   "metadata": {},
   "outputs": [],
   "source": []
  },
  {
   "cell_type": "code",
   "execution_count": null,
   "id": "8ee426ba",
   "metadata": {},
   "outputs": [],
   "source": []
  },
  {
   "cell_type": "code",
   "execution_count": null,
   "id": "d67ed086",
   "metadata": {},
   "outputs": [],
   "source": []
  },
  {
   "cell_type": "code",
   "execution_count": null,
   "id": "efec1a24",
   "metadata": {},
   "outputs": [],
   "source": []
  },
  {
   "cell_type": "code",
   "execution_count": null,
   "id": "3a66f16b",
   "metadata": {},
   "outputs": [],
   "source": []
  },
  {
   "cell_type": "code",
   "execution_count": null,
   "id": "29d2b011",
   "metadata": {},
   "outputs": [],
   "source": []
  },
  {
   "cell_type": "code",
   "execution_count": null,
   "id": "bd84a560",
   "metadata": {},
   "outputs": [],
   "source": []
  },
  {
   "cell_type": "code",
   "execution_count": null,
   "id": "67ac0e2c",
   "metadata": {},
   "outputs": [],
   "source": []
  }
 ],
 "metadata": {
  "kernelspec": {
   "display_name": "Python 3 (ipykernel)",
   "language": "python",
   "name": "python3"
  },
  "language_info": {
   "codemirror_mode": {
    "name": "ipython",
    "version": 3
   },
   "file_extension": ".py",
   "mimetype": "text/x-python",
   "name": "python",
   "nbconvert_exporter": "python",
   "pygments_lexer": "ipython3",
   "version": "3.9.13"
  }
 },
 "nbformat": 4,
 "nbformat_minor": 5
}
