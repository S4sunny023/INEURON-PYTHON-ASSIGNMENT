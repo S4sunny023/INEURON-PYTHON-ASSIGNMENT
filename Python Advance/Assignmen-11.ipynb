{
 "cells": [
  {
   "cell_type": "markdown",
   "id": "b45a3ae0",
   "metadata": {},
   "source": [
    "Q1. What is the concept of a metaclass?"
   ]
  },
  {
   "cell_type": "markdown",
   "id": "1262abf2",
   "metadata": {},
   "source": [
    "In object-oriented programming, a metaclass is a class whose instances are also classes. In other words, a metaclass is a class of classes.\n",
    "\n",
    "Metaclasses are used to define the behavior and structure of classes. They allow you to customize the way classes are created, by providing hooks for controlling the creation process. For example, you can use a metaclass to automatically add methods to classes, or to enforce certain constraints on the attributes of a class.\n",
    "\n",
    "In Python, metaclasses are implemented using the type class. When you define a new class, Python calls the type metaclass to create the class object. You can customize this process by defining your own metaclass that inherits from type.\n",
    "\n",
    "Metaclasses are a powerful but advanced concept in object-oriented programming, and are typically only used in complex projects where fine-grained control over class behavior is required."
   ]
  },
  {
   "cell_type": "markdown",
   "id": "e53739ac",
   "metadata": {},
   "source": [
    "Q2. What is the best way to declare a class&#39;s metaclass?"
   ]
  },
  {
   "cell_type": "markdown",
   "id": "3f8ca654",
   "metadata": {},
   "source": [
    "In Python,we can declare a class's metaclass by setting the __metaclass__ attribute of the class. The __metaclass__ attribute should be set to a type, which is the class that will be used as the metaclass for the class."
   ]
  },
  {
   "cell_type": "markdown",
   "id": "17c7f01c",
   "metadata": {},
   "source": [
    "Q3. How do class decorators overlap with metaclasses for handling classes?"
   ]
  },
  {
   "cell_type": "markdown",
   "id": "40cd6856",
   "metadata": {},
   "source": [
    "The decorator function my_decorator can modify the class object MyClass in any way it likes before returning it. This can include adding new methods, modifying existing ones, or changing class-level variables."
   ]
  },
  {
   "cell_type": "code",
   "execution_count": 2,
   "id": "19c84864",
   "metadata": {},
   "outputs": [],
   "source": [
    "class MyMeta(type):\n",
    "    def __new__(cls, name, bases, attrs):\n",
    "        # modify attrs dictionary here\n",
    "        return super().__new__(cls, name, bases, attrs)\n",
    "\n",
    "class MyClass(metaclass=MyMeta):\n",
    "    pass\n"
   ]
  },
  {
   "cell_type": "markdown",
   "id": "9badce1c",
   "metadata": {},
   "source": [
    "The MyMeta class defines a __new__ method, which is called to create the MyClass class object. The __new__ method can modify the attributes dictionary attrs in any way it likes before passing it up to the parent type class to create the class object."
   ]
  },
  {
   "cell_type": "markdown",
   "id": "1f42308e",
   "metadata": {},
   "source": [
    "Q4. How do class decorators overlap with metaclasses for handling instances?"
   ]
  },
  {
   "cell_type": "markdown",
   "id": "1143df98",
   "metadata": {},
   "source": [
    "Class decorators and metaclasses can overlap in their ability to modify the behavior of instances. Here's an example that demonstrates how they can be used to achieve similar results:"
   ]
  },
  {
   "cell_type": "code",
   "execution_count": 3,
   "id": "13515cc0",
   "metadata": {},
   "outputs": [
    {
     "name": "stdout",
     "output_type": "stream",
     "text": [
      "Prefix: Hello\n",
      "Prefix: Hello\n"
     ]
    }
   ],
   "source": [
    "# Using a class decorator to modify instance behavior\n",
    "def add_prefix(cls):\n",
    "    def __init__(self, value):\n",
    "        self.value = f\"Prefix: {value}\"\n",
    "    cls.__init__ = __init__\n",
    "    return cls\n",
    "\n",
    "@add_prefix\n",
    "class MyClass:\n",
    "    pass\n",
    "\n",
    "my_instance = MyClass(\"Hello\")\n",
    "print(my_instance.value) \n",
    "\n",
    "# Using a metaclass to modify instance behavior\n",
    "class PrefixMeta(type):\n",
    "    def __new__(cls, name, bases, attrs):\n",
    "        if '__init__' not in attrs:\n",
    "            def __init__(self, value):\n",
    "                self.value = f\"Prefix: {value}\"\n",
    "            attrs['__init__'] = __init__\n",
    "        return super().__new__(cls, name, bases, attrs)\n",
    "\n",
    "class MyClass(metaclass=PrefixMeta):\n",
    "    pass\n",
    "\n",
    "my_instance = MyClass(\"Hello\")\n",
    "print(my_instance.value)\n"
   ]
  },
  {
   "cell_type": "markdown",
   "id": "22878426",
   "metadata": {},
   "source": [
    "In this example, we have defined a class decorator add_prefix that modifies the __init__ method of a class to add a prefix to the value passed to it. We have then applied this decorator to a class MyClass and created an instance of it, which has the prefix added to its value.\n",
    "\n",
    "We have also defined a metaclass PrefixMeta that modifies the __init__ method of a class in a similar way. We have then used this metaclass to create a class MyClass and created an instance of it, which also has the prefix added to its value"
   ]
  },
  {
   "cell_type": "code",
   "execution_count": null,
   "id": "9be48003",
   "metadata": {},
   "outputs": [],
   "source": []
  }
 ],
 "metadata": {
  "kernelspec": {
   "display_name": "Python 3 (ipykernel)",
   "language": "python",
   "name": "python3"
  },
  "language_info": {
   "codemirror_mode": {
    "name": "ipython",
    "version": 3
   },
   "file_extension": ".py",
   "mimetype": "text/x-python",
   "name": "python",
   "nbconvert_exporter": "python",
   "pygments_lexer": "ipython3",
   "version": "3.9.13"
  }
 },
 "nbformat": 4,
 "nbformat_minor": 5
}
