{
 "cells": [
  {
   "cell_type": "markdown",
   "id": "76978782",
   "metadata": {},
   "source": [
    "1. What are the new features added in Python 3.8 version?"
   ]
  },
  {
   "cell_type": "markdown",
   "id": "502130e6",
   "metadata": {},
   "source": [
    "Python 3.8 was released in October 2019 and introduced several new features and improvements. Here are some of the major changes:\n",
    "\n",
    "Assignment Expressions (or the \"walrus operator\"): This is a new way to assign values to variables within an expression. It uses the := syntax and can be useful for simplifying code that involves repeated expressions.\n",
    "\n",
    "Positional-Only Parameters: This feature allows developers to specify certain function parameters as positional-only, meaning that they can only be specified by position and not by keyword. This can help improve code clarity and maintainability.\n",
    "\n",
    "f-strings support \"=\" for self-documenting expressions and debugging: In Python 3.8, f-strings now support an \"=\" specifier, which makes it easier to debug and document the expression within the string.\n",
    "\n",
    "The 'match' statement: This is a new language feature that allows for more concise and readable pattern matching in Python. The match statement is similar to the switch statement in other languages.\n",
    "\n",
    "Improved performance and new modules: Python 3.8 includes several performance optimizations and new modules, such as the 'zoneinfo' module for working with time zones and the 'importlib.metadata' module for accessing distribution metadata."
   ]
  },
  {
   "cell_type": "markdown",
   "id": "ea41522f",
   "metadata": {},
   "source": [
    "2. What is monkey patching in Python?"
   ]
  },
  {
   "cell_type": "markdown",
   "id": "cbe252c8",
   "metadata": {},
   "source": [
    "Monkey patching is a technique in Python that allows you to dynamically modify the behavior of a module, class, or instance at runtime. It involves replacing or adding methods or attributes to an existing object to modify its behavior."
   ]
  },
  {
   "cell_type": "markdown",
   "id": "a9502f1b",
   "metadata": {},
   "source": [
    "While monkey patching can be useful in certain situations, it can also make code difficult to understand and maintain. It should be used judiciously and with caution. It's generally a good practice to avoid monkey patching whenever possible and instead use proper inheritance or composition techniques to modify or extend the behavior of a class or module.\n",
    "\n",
    "\n",
    "\n",
    "\n",
    "\n",
    "\n"
   ]
  },
  {
   "cell_type": "markdown",
   "id": "b4c517f6",
   "metadata": {},
   "source": [
    "3. What is the difference between a shallow copy and deep copy?"
   ]
  },
  {
   "cell_type": "markdown",
   "id": "027f65b4",
   "metadata": {},
   "source": [
    "In Python, when you create a copy of an object, you can either create a shallow copy or a deep copy. The main difference between the two is in how they handle nested objects.\n",
    "\n",
    "A shallow copy creates a new object, but does not create new copies of the nested objects within the original object. Instead, it simply references the same nested objects in both the original and copied objects. This means that changes to the nested objects in either the original or copied object will affect both objects."
   ]
  },
  {
   "cell_type": "code",
   "execution_count": 4,
   "id": "f4ade82b",
   "metadata": {},
   "outputs": [
    {
     "name": "stdout",
     "output_type": "stream",
     "text": [
      "[[5, 2], [3, 4]]\n",
      "[[5, 2], [3, 4]]\n"
     ]
    }
   ],
   "source": [
    "original_list = [[1, 2], [3, 4]]\n",
    "shallow_copy = original_list.copy()\n",
    "\n",
    "\n",
    "shallow_copy[0][0] = 5\n",
    "\n",
    "print(original_list) \n",
    "print(shallow_copy) \n"
   ]
  },
  {
   "cell_type": "markdown",
   "id": "ec3a8a79",
   "metadata": {},
   "source": [
    "A deep copy, on the other hand, creates a new object and also creates new copies of all the nested objects within the original object. This means that changes to the nested objects in either the original or copied object will not affect the other object."
   ]
  },
  {
   "cell_type": "code",
   "execution_count": 3,
   "id": "c4e0dfdb",
   "metadata": {},
   "outputs": [
    {
     "name": "stdout",
     "output_type": "stream",
     "text": [
      "[[1, 2], [3, 4]]\n",
      "[[5, 2], [3, 4]]\n"
     ]
    }
   ],
   "source": [
    "import copy\n",
    "\n",
    "original_list = [[1, 2], [3, 4]]\n",
    "deep_copy = copy.deepcopy(original_list)\n",
    "\n",
    "\n",
    "deep_copy[0][0] = 5\n",
    "\n",
    "print(original_list)  \n",
    "print(deep_copy)\n"
   ]
  },
  {
   "cell_type": "markdown",
   "id": "30baed8a",
   "metadata": {},
   "source": [
    "4. What is the maximum possible length of an identifier?"
   ]
  },
  {
   "cell_type": "markdown",
   "id": "8e128866",
   "metadata": {},
   "source": [
    "The maximum length of an identifier typically depends on the programming language being used. In most programming languages, identifiers can be composed of letters, digits, and underscores, and the maximum length varies between 31 and 255 characters.\n",
    "\n",
    "For example, in Python, an identifier can be of any length, but only the first 79 characters are significant. In C and C++, identifiers can be up to 31 characters long. In Java, identifiers can be up to 63 characters long."
   ]
  },
  {
   "cell_type": "markdown",
   "id": "4d6cbd82",
   "metadata": {},
   "source": [
    "5. What is generator comprehension?"
   ]
  },
  {
   "cell_type": "markdown",
   "id": "24e2995b",
   "metadata": {},
   "source": [
    "A generator comprehension is a compact way to create a generator in Python. It is a one-line syntax that allows you to define a generator by specifying its elements using a concise expression.\n",
    "\n",
    "Generator comprehensions have a similar syntax to list comprehensions, but instead of creating a list, they create a generator object that can be iterated over. The generator object is created lazily, meaning that it generates the next element only when it's requested. This makes them more memory-efficient than creating a list, especially for large data sets."
   ]
  },
  {
   "cell_type": "markdown",
   "id": "ee1066d2",
   "metadata": {},
   "source": []
  },
  {
   "cell_type": "code",
   "execution_count": null,
   "id": "adc4c8e8",
   "metadata": {},
   "outputs": [],
   "source": []
  },
  {
   "cell_type": "code",
   "execution_count": null,
   "id": "c2605133",
   "metadata": {},
   "outputs": [],
   "source": []
  },
  {
   "cell_type": "code",
   "execution_count": null,
   "id": "ed589dc2",
   "metadata": {},
   "outputs": [],
   "source": []
  },
  {
   "cell_type": "code",
   "execution_count": null,
   "id": "483d44c4",
   "metadata": {},
   "outputs": [],
   "source": []
  }
 ],
 "metadata": {
  "kernelspec": {
   "display_name": "Python 3 (ipykernel)",
   "language": "python",
   "name": "python3"
  },
  "language_info": {
   "codemirror_mode": {
    "name": "ipython",
    "version": 3
   },
   "file_extension": ".py",
   "mimetype": "text/x-python",
   "name": "python",
   "nbconvert_exporter": "python",
   "pygments_lexer": "ipython3",
   "version": "3.9.13"
  }
 },
 "nbformat": 4,
 "nbformat_minor": 5
}
