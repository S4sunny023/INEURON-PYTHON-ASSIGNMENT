{
 "cells": [
  {
   "cell_type": "markdown",
   "id": "f67e7e1b",
   "metadata": {},
   "source": [
    "1. Compare and contrast the float and Decimal classes&#39; benefits and drawbacks."
   ]
  },
  {
   "cell_type": "markdown",
   "id": "ad1dbc3d",
   "metadata": {},
   "source": [
    "The float and Decimal classes in Python are used to represent real numbers with different levels of precision. The main difference between the two is the way they store and manipulate the numbers.\n",
    "\n",
    "Here are the benefits and drawbacks of each:\n",
    "\n",
    "Float\n",
    "\n",
    "Benefits:\n",
    "\n",
    "Fast computation: float operations are performed by the hardware, making them much faster than Decimal operations.\n",
    "\n",
    "Memory efficient: float uses 32 or 64 bits of memory, depending on the implementation, which makes them more memory efficient than Decimal.\n",
    "\n",
    "Interoperability: float is the default representation for real numbers in Python and most other programming languages, making it easy to interface with other systems.\n",
    "\n",
    "\n",
    "Drawbacks:\n",
    "\n",
    "Limited precision: float is limited to 15-17 significant digits, and can only represent a finite subset of the real numbers. This can lead to rounding errors and loss of precision in some calculations.\n",
    "\n",
    "Inexact arithmetic: float uses binary arithmetic, which can result in unexpected results when working with decimal numbers that cannot be represented exactly in binary.\n",
    "Decimal\n",
    "\n",
    "Benefits:\n",
    "\n",
    "High precision: Decimal can represent real numbers with up to 28-29 significant digits, making it suitable for financial and scientific applications that require high precision.\n",
    "\n",
    "Exact arithmetic: Decimal uses decimal arithmetic, which can represent decimal fractions exactly, avoiding the rounding errors that can occur with float.\n",
    "\n",
    "Control over rounding: Decimal allows for more control over rounding and precision than float.\n",
    "\n",
    "Drawbacks:\n",
    "\n",
    "Slower computation: Decimal operations are performed in software, which makes them slower than float operations.\n",
    "\n",
    "Higher memory usage: Decimal uses more memory than float, especially for large numbers, which can be a concern in memory-\n",
    "constrained applications.\n",
    "\n",
    "Limited interoperability: Decimal is not the default representation for real numbers in most programming languages, which can make it more difficult to interface with other systems."
   ]
  },
  {
   "cell_type": "markdown",
   "id": "8d7880a9",
   "metadata": {},
   "source": [
    "2. Decimal(&#39;1.200&#39;) and Decimal(&#39;1.2&#39;) are two objects to consider. In what sense are these the same\n",
    "object? Are these just two ways of representing the exact same value, or do they correspond to\n",
    "different internal states?"
   ]
  },
  {
   "cell_type": "markdown",
   "id": "a668ed01",
   "metadata": {},
   "source": [
    "In Python's Decimal class, Decimal('1.200') and Decimal('1.2') represent the same value, but they are not the same object. They correspond to different internal states.\n",
    "\n",
    "When a Decimal object is created from a string, the string is parsed and converted to an internal representation. In this case, both strings represent the same value of 1.2, but the internal representation of Decimal('1.200') includes an extra digit of precision compared to Decimal('1.2').\n",
    "\n",
    "To compare two Decimal objects for equality, their values and internal states must be considered. In this case, Decimal('1.200') == Decimal('1.2') would return True, because the values are the same, even though the internal states are different.\n",
    "\n",
    "It's important to note that when working with Decimal objects, the number of significant digits can affect the outcome of mathematical operations. For example, adding Decimal('1.200') and Decimal('1.2') would result in Decimal('2.4'), because the extra digit of precision in Decimal('1.200') is preserved in the result. Therefore, it's important to be consistent in the number of significant digits used in Decimal objects when performing operations."
   ]
  },
  {
   "cell_type": "markdown",
   "id": "64d1bd08",
   "metadata": {},
   "source": [
    "3. What happens if the equality of Decimal(&#39;1.200&#39;) and Decimal(&#39;1.2&#39;) is checked?"
   ]
  },
  {
   "cell_type": "markdown",
   "id": "9af51561",
   "metadata": {},
   "source": [
    "If the equality of Decimal('1.200') and Decimal('1.2') is checked using the == operator, the result would be True, because both values represent the same number.\n",
    "\n",
    "In Python, the == operator checks the value of the operands for equality, not their internal states. In this case, Decimal('1.200') and Decimal('1.2') represent the same value of 1.2, even though their internal states may be different. Therefore, the == operator would return True when comparing them."
   ]
  },
  {
   "cell_type": "code",
   "execution_count": 1,
   "id": "878e30f7",
   "metadata": {},
   "outputs": [
    {
     "name": "stdout",
     "output_type": "stream",
     "text": [
      "d1 and d2 are equal\n"
     ]
    }
   ],
   "source": [
    "from decimal import Decimal\n",
    "\n",
    "d1 = Decimal('1.200')\n",
    "d2 = Decimal('1.2')\n",
    "\n",
    "if d1 == d2:\n",
    "    print(\"d1 and d2 are equal\")\n",
    "else:\n",
    "    print(\"d1 and d2 are not equal\")\n"
   ]
  },
  {
   "cell_type": "markdown",
   "id": "4646e973",
   "metadata": {},
   "source": [
    "4. Why is it preferable to start a Decimal object with a string rather than a floating-point value?"
   ]
  },
  {
   "cell_type": "markdown",
   "id": "784df5cc",
   "metadata": {},
   "source": [
    "It's preferable to start a Decimal object with a string rather than a floating-point value because floating-point values are subject to rounding errors and may not represent exact decimal values.\n",
    "\n",
    "Floating-point values in Python are represented in binary, which means that decimal fractions may not be represented exactly. For example, the floating-point value 0.1 cannot be represented exactly in binary and is actually represented as a repeating binary fraction. When a floating-point value is converted to a Decimal object, the resulting value may not be exact.\n",
    "\n",
    "On the other hand, when a Decimal object is created from a string, the string is parsed and the exact decimal value is preserved. This makes Decimal objects ideal for representing values that require exact decimal arithmetic, such as financial calculations."
   ]
  },
  {
   "cell_type": "code",
   "execution_count": 3,
   "id": "b65a1f1c",
   "metadata": {},
   "outputs": [
    {
     "name": "stdout",
     "output_type": "stream",
     "text": [
      "0.1\n",
      "0.1000000000000000055511151231257827021181583404541015625\n"
     ]
    }
   ],
   "source": [
    "from decimal import Decimal\n",
    "\n",
    "# create Decimal objects from a string and a floating-point value\n",
    "d1 = Decimal('0.1')\n",
    "d2 = Decimal(0.1)\n",
    "\n",
    "# print the values of the two objects\n",
    "print(d1)   \n",
    "print(d2) \n"
   ]
  },
  {
   "cell_type": "markdown",
   "id": "deb078e8",
   "metadata": {},
   "source": [
    "5. In an arithmetic phrase, how simple is it to combine Decimal objects with integers?"
   ]
  },
  {
   "cell_type": "markdown",
   "id": "4b9319eb",
   "metadata": {},
   "source": [
    "In Python, it is simple to combine Decimal objects with integers in an arithmetic expression, because the Decimal class supports arithmetic operations with other numeric types, including integers."
   ]
  },
  {
   "cell_type": "code",
   "execution_count": 4,
   "id": "a6174432",
   "metadata": {},
   "outputs": [
    {
     "name": "stdout",
     "output_type": "stream",
     "text": [
      "5.23\n"
     ]
    }
   ],
   "source": [
    "from decimal import Decimal\n",
    "\n",
    "d = Decimal('1.23')\n",
    "i = 4\n",
    "\n",
    "result = d + i\n",
    "\n",
    "print(result)   # prints 5.23\n"
   ]
  },
  {
   "cell_type": "markdown",
   "id": "2a0cc365",
   "metadata": {},
   "source": [
    "6. Can Decimal objects and floating-point values be combined easily?"
   ]
  },
  {
   "cell_type": "markdown",
   "id": "da7d6b4f",
   "metadata": {},
   "source": [
    "In Python, Decimal objects and floating-point values can be combined easily in an arithmetic expression, because the Decimal class supports arithmetic operations with other numeric types, including floating-point values."
   ]
  },
  {
   "cell_type": "code",
   "execution_count": 8,
   "id": "cc721447",
   "metadata": {},
   "outputs": [
    {
     "name": "stdout",
     "output_type": "stream",
     "text": [
      "3.075\n"
     ]
    }
   ],
   "source": [
    "from decimal import Decimal\n",
    "\n",
    "d = Decimal('1.23')\n",
    "f = 2.5\n",
    "\n",
    "result = d * Decimal(str(f))\n",
    "\n",
    "print(result) \n"
   ]
  },
  {
   "cell_type": "markdown",
   "id": "6ab49536",
   "metadata": {},
   "source": [
    "7. Using the Fraction class but not the Decimal class, give an example of a quantity that can be\n",
    "expressed with absolute precision."
   ]
  },
  {
   "cell_type": "markdown",
   "id": "37324c47",
   "metadata": {},
   "source": [
    "The Fraction class in Python allows for exact representation of rational numbers with no loss of precision, and is especially useful for cases where absolute precision is required."
   ]
  },
  {
   "cell_type": "code",
   "execution_count": 11,
   "id": "2a014029",
   "metadata": {},
   "outputs": [
    {
     "name": "stdout",
     "output_type": "stream",
     "text": [
      "1/2\n"
     ]
    }
   ],
   "source": [
    "from fractions import Fraction\n",
    "\n",
    "x = Fraction(1, 3)\n",
    "y = Fraction(1, 6)\n",
    "\n",
    "result = x + y\n",
    "\n",
    "print(result)  \n"
   ]
  },
  {
   "cell_type": "markdown",
   "id": "2e75c94d",
   "metadata": {},
   "source": [
    "8. Describe a quantity that can be accurately expressed by the Decimal or Fraction classes but not by\n",
    "a floating-point value."
   ]
  },
  {
   "cell_type": "markdown",
   "id": "0a4046b1",
   "metadata": {},
   "source": [
    "Floating-point values have limited precision, which can lead to rounding errors and imprecision in certain calculations. In contrast, the Decimal and Fraction classes in Python provide exact representations of decimal and rational numbers, respectively, with no loss of precision."
   ]
  },
  {
   "cell_type": "code",
   "execution_count": 12,
   "id": "1e44ea3b",
   "metadata": {},
   "outputs": [
    {
     "name": "stdout",
     "output_type": "stream",
     "text": [
      "0.3333333333333333\n",
      "0.3333333333333333333333333333\n",
      "1/3\n"
     ]
    }
   ],
   "source": [
    "from decimal import Decimal\n",
    "from fractions import Fraction\n",
    "\n",
    "# Using floating-point division\n",
    "result_float = 1 / 3\n",
    "print(result_float)   \n",
    "# Using the Decimal class\n",
    "result_decimal = Decimal('1') / Decimal('3')\n",
    "print(result_decimal)  \n",
    "\n",
    "# Using the Fraction class\n",
    "result_fraction = Fraction(1, 3)\n",
    "print(result_fraction)  \n"
   ]
  },
  {
   "cell_type": "markdown",
   "id": "dc7a9a07",
   "metadata": {},
   "source": [
    "Q9.Consider the following two fraction objects: Fraction(1, 2) and Fraction(1, 2). (5, 10). Is the internal\n",
    "state of these two objects the same? Why do you think that is?"
   ]
  },
  {
   "cell_type": "code",
   "execution_count": 13,
   "id": "b78586ee",
   "metadata": {},
   "outputs": [
    {
     "name": "stdout",
     "output_type": "stream",
     "text": [
      "1/2\n",
      "1/2\n"
     ]
    }
   ],
   "source": [
    "from fractions import Fraction\n",
    "\n",
    "f1 = Fraction(1, 2)\n",
    "f2 = Fraction(5, 10)\n",
    "\n",
    "print(f1)   \n",
    "print(f2)   \n"
   ]
  },
  {
   "cell_type": "markdown",
   "id": "db6ba8f3",
   "metadata": {},
   "source": [
    "In this case, the Fraction object Fraction(5, 10) is automatically reduced to its lowest terms of Fraction(1, 2) when it is created, so it has the same internal state as Fraction(1, 2). This is why both Fraction objects represent the same mathematical fraction and have the same internal state."
   ]
  },
  {
   "cell_type": "markdown",
   "id": "58604f52",
   "metadata": {},
   "source": [
    "Q10. How do the Fraction class and the integer type (int) relate to each other? Containment or\n",
    "inheritance?"
   ]
  },
  {
   "cell_type": "markdown",
   "id": "3bff79c8",
   "metadata": {},
   "source": [
    "The Fraction class and the integer type (int) in Python are related through containment rather than inheritance.\n",
    "\n",
    "The Fraction class is a built-in class in Python's fractions module that represents rational numbers as pairs of integers: a numerator and a denominator. The int type, on the other hand, is a built-in numeric type in Python that represents integers.\n",
    "\n",
    "While the Fraction class can represent integers as fractions with a denominator of 1, it does not inherit from the int type or any other numeric type in Python. Instead, Fraction objects contain two int values: the numerator and denominator."
   ]
  },
  {
   "cell_type": "code",
   "execution_count": 14,
   "id": "dfd29124",
   "metadata": {},
   "outputs": [
    {
     "name": "stdout",
     "output_type": "stream",
     "text": [
      "4\n"
     ]
    }
   ],
   "source": [
    "from fractions import Fraction\n",
    "\n",
    "x = Fraction(4)   \n",
    "print(x)          \n"
   ]
  },
  {
   "cell_type": "markdown",
   "id": "6da7c6cf",
   "metadata": {},
   "source": [
    "In this example, an int value of 4 is passed as the argument to the Fraction constructor, creating a Fraction object with a numerator of 4 and a denominator of 1."
   ]
  },
  {
   "cell_type": "code",
   "execution_count": null,
   "id": "771e437f",
   "metadata": {},
   "outputs": [],
   "source": []
  }
 ],
 "metadata": {
  "kernelspec": {
   "display_name": "Python 3 (ipykernel)",
   "language": "python",
   "name": "python3"
  },
  "language_info": {
   "codemirror_mode": {
    "name": "ipython",
    "version": 3
   },
   "file_extension": ".py",
   "mimetype": "text/x-python",
   "name": "python",
   "nbconvert_exporter": "python",
   "pygments_lexer": "ipython3",
   "version": "3.9.13"
  }
 },
 "nbformat": 4,
 "nbformat_minor": 5
}
