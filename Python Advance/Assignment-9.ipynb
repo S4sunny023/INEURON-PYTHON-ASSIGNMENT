{
 "cells": [
  {
   "cell_type": "markdown",
   "id": "a2caa4ff",
   "metadata": {},
   "source": [
    "Q1. In Python 3.X, what are the names and functions of string object types?"
   ]
  },
  {
   "cell_type": "markdown",
   "id": "a30320b7",
   "metadata": {},
   "source": [
    "In Python 3.x, there are three main string object types:\n",
    "\n",
    "str: This is the most commonly used string object type in Python. It represents a sequence of Unicode characters and is used for most string operations.\n",
    "\n",
    "bytes: This object type is used to represent a sequence of bytes. It is used for operations that involve binary data, such as reading and writing files.\n",
    "\n",
    "bytearray: This is a mutable version of the bytes object type. It allows you to modify the contents of a byte sequence in place.\n",
    "\n",
    "Some common functions and methods for working with str objects in Python 3.x include:\n",
    "\n",
    "len(): returns the length of the string\n",
    "\n",
    "str.upper(): returns a new string with all characters converted to uppercase\n",
    "\n",
    "str.lower(): returns a new string with all characters converted to lowercase\n",
    "\n",
    "str.strip(): returns a new string with leading and trailing whitespace removed\n",
    "\n",
    "str.split(): returns a list of substrings separated by a specified delimiter\n",
    "\n",
    "\n",
    "There are many more functions and methods available for working with str objects in Python 3.x, but these are some of the most commonly used ones."
   ]
  },
  {
   "cell_type": "markdown",
   "id": "14383f4e",
   "metadata": {},
   "source": [
    "Q2. How do the string forms in Python 3.X vary in terms of operations?"
   ]
  },
  {
   "cell_type": "markdown",
   "id": "b65c5e86",
   "metadata": {},
   "source": [
    "In Python 3.x, there are three main string object types: str, bytes, and bytearray. Each of these types has different operations that can be performed on them.\n",
    "\n",
    "    \n",
    "    \n",
    "str objects:\n",
    "str objects are the most commonly used string objects in Python. They are immutable, meaning that once a string is created, its contents cannot be changed. Some operations that can be performed on str objects include:\n",
    "Concatenation: Strings can be concatenated using the + operator or the str.join() method.\n",
    "Slicing: A substring can be extracted from a string using slicing notation, e.g., my_str[2:5] to extract characters 2 through 4 (inclusive).\n",
    "Formatting: Strings can be formatted using the str.format() method or f-strings.\n",
    "Comparison: Strings can be compared using the comparison operators (<, <=, ==, !=, >, >=) based on their Unicode values.\n",
    "    \n",
    "    \n",
    "bytes objects:\n",
    "bytes objects represent a sequence of bytes and are used for binary data. They are immutable, and some operations that can be performed on bytes objects include:\n",
    "Concatenation: Bytes can be concatenated using the + operator.\n",
    "Slicing: A slice of bytes can be extracted using slicing notation.\n",
    "Indexing: An individual byte can be accessed using indexing notation, e.g., my_bytes[0] to access the first byte.\n",
    "Comparison: Bytes can be compared using the comparison operators based on their integer values.\n",
    "    \n",
    "    \n",
    "bytearray objects:\n",
    "bytearray objects are mutable versions of bytes objects. They have the same operations as bytes objects, but they also support operations that modify their contents, such as:\n",
    "Assignment: Bytes can be assigned to individual indices in a bytearray, e.g., my_bytearray[0] = 0x41 to assign the ASCII value for 'A' to the first byte.\n",
    "Modification: Bytes can be modified using the bytearray method my_bytearray[i:j] = my_new_bytes."
   ]
  },
  {
   "cell_type": "markdown",
   "id": "ada1098d",
   "metadata": {},
   "source": [
    "Q3. In 3.X, how do you put non-ASCII Unicode characters in a string?"
   ]
  },
  {
   "cell_type": "markdown",
   "id": "47b47320",
   "metadata": {},
   "source": [
    "In Python 3.x, non-ASCII Unicode characters can be put in a string by using Unicode string literals. Unicode string literals are created by adding a \"u\" prefix before the opening quotation mark of a string literal. For example:"
   ]
  },
  {
   "cell_type": "code",
   "execution_count": 2,
   "id": "478f97e3",
   "metadata": {},
   "outputs": [],
   "source": [
    "my_string = u\"Hello, こんにちは, مرحبا\"\n"
   ]
  },
  {
   "cell_type": "markdown",
   "id": "af88c1a1",
   "metadata": {},
   "source": [
    "Q4. In Python 3.X, what are the key differences between text-mode and binary-mode files?"
   ]
  },
  {
   "cell_type": "markdown",
   "id": "9b88bdd8",
   "metadata": {},
   "source": [
    "In Python 3.x, there are two main modes in which you can open a file: text mode and binary mode. The key differences between these two modes are:\n",
    "\n",
    "Encoding: In text mode, the contents of the file are assumed to be Unicode text, and Python will automatically decode the bytes in the file using the specified encoding (which defaults to UTF-8 if not specified). In binary mode, the contents of the file are treated as raw bytes, and no decoding is done.\n",
    "\n",
    "Newline handling: In text mode, Python will automatically handle newline characters (\\n, \\r, and \\r\\n) according to the platform-specific convention (\\n on Unix-based systems and \\r\\n on Windows). In binary mode, newline characters are not automatically translated, and are read and written as-is.\n",
    "\n",
    "File access: In text mode, files are read and written as text, so operations like read() and write() operate on strings. In binary mode, files are read and written as raw bytes, so operations like read() and write() operate on bytes objects.\n",
    "\n",
    "Compatibility with certain operations: Some operations, such as seeking to a specific byte offset in a file, are only supported in binary mode."
   ]
  },
  {
   "cell_type": "markdown",
   "id": "c08ca8d4",
   "metadata": {},
   "source": [
    "Q5. How can you interpret a Unicode text file containing text encoded in a different encoding than\n",
    "your platform&#39;s default?"
   ]
  },
  {
   "cell_type": "markdown",
   "id": "d175c08d",
   "metadata": {},
   "source": [
    "To interpret a Unicode text file containing text encoded in a different encoding than your platform's default, you can specify the encoding of the file explicitly when you open it using the open() function."
   ]
  },
  {
   "cell_type": "markdown",
   "id": "cc24c952",
   "metadata": {},
   "source": [
    "with open('my_file.txt', encoding = 'windows-1252') as f:\n",
    "\n",
    "    content = f.read()\n"
   ]
  },
  {
   "cell_type": "markdown",
   "id": "d3c168ff",
   "metadata": {},
   "source": [
    "Q6. What is the best way to make a Unicode text file in a particular encoding format?"
   ]
  },
  {
   "cell_type": "code",
   "execution_count": 6,
   "id": "711101a4",
   "metadata": {},
   "outputs": [],
   "source": [
    "import pandas as pd\n",
    "\n",
    "df = pd.DataFrame({'col1': [1, 2, 3], 'col2': ['a', 'b', 'c']})\n",
    "df.to_csv('filename.csv', encoding='utf-8', index=False)\n"
   ]
  },
  {
   "cell_type": "markdown",
   "id": "7b2c4c3d",
   "metadata": {},
   "source": [
    "Q7. What qualifies ASCII text as a form of Unicode text?"
   ]
  },
  {
   "cell_type": "markdown",
   "id": "65c5ce7e",
   "metadata": {},
   "source": [
    "ASCII (American Standard Code for Information Interchange) is a subset of Unicode. Unicode is a standard for encoding, representing, and managing text in different writing systems, languages, and scripts. ASCII is a 7-bit character encoding system that includes 128 characters, which are primarily used for representing English alphabets, numerals, and special characters.\n",
    "\n",
    "Unicode, on the other hand, is a much broader and extensive character encoding standard that includes ASCII as one of its subsets. Unicode includes a vast range of characters, symbols, and scripts that are used in various languages and writing systems across the world. Unicode uses a 16-bit or 32-bit encoding scheme, which can represent over a million different characters.\n",
    "\n",
    "Therefore, ASCII text qualifies as a form of Unicode text because Unicode supports ASCII as a subset, and any ASCII character can be represented in Unicode format. In fact, many modern computer systems and software programs use Unicode as their default character encoding scheme, which means that even if you input ASCII text, it will be automatically converted to Unicode format."
   ]
  },
  {
   "cell_type": "markdown",
   "id": "b885ef2b",
   "metadata": {},
   "source": [
    "Q8. How much of an effect does the change in string types in Python 3.X have on your code?"
   ]
  },
  {
   "cell_type": "markdown",
   "id": "4772d6ca",
   "metadata": {},
   "source": [
    "The change in string types between Python 2 and Python 3 can have a significant impact on code that relies heavily on strings, especially if it was written for Python 2 and needs to be ported to Python 3.\n",
    "\n",
    "In Python 2, the default string type is a byte string (str), which is a sequence of bytes representing ASCII characters. However, in Python 3, the default string type is a Unicode string (str), which can represent characters from any writing system, including ASCII.\n",
    "\n",
    "This means that code that relies on byte strings may not work correctly in Python 3 because of the way it handles Unicode. For example, if you try to concatenate a byte string with a Unicode string, you will get a TypeError.\n",
    "\n",
    "To avoid such issues, you may need to modify your code to ensure that it handles Unicode correctly. This could involve converting byte strings to Unicode strings explicitly, using the 'b' prefix to indicate byte strings, or using appropriate encoding and decoding functions."
   ]
  },
  {
   "cell_type": "code",
   "execution_count": null,
   "id": "e313caed",
   "metadata": {},
   "outputs": [],
   "source": []
  },
  {
   "cell_type": "code",
   "execution_count": null,
   "id": "7b14a911",
   "metadata": {},
   "outputs": [],
   "source": []
  },
  {
   "cell_type": "code",
   "execution_count": null,
   "id": "1104378f",
   "metadata": {},
   "outputs": [],
   "source": []
  }
 ],
 "metadata": {
  "kernelspec": {
   "display_name": "Python 3 (ipykernel)",
   "language": "python",
   "name": "python3"
  },
  "language_info": {
   "codemirror_mode": {
    "name": "ipython",
    "version": 3
   },
   "file_extension": ".py",
   "mimetype": "text/x-python",
   "name": "python",
   "nbconvert_exporter": "python",
   "pygments_lexer": "ipython3",
   "version": "3.9.13"
  }
 },
 "nbformat": 4,
 "nbformat_minor": 5
}
