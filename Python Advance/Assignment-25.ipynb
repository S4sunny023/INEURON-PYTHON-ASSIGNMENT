{
 "cells": [
  {
   "cell_type": "markdown",
   "id": "9a5606db",
   "metadata": {},
   "source": [
    "Q1. What is the distinction between a numpy array and a pandas data frame? Is there a way to\n",
    "convert between the two if there is?"
   ]
  },
  {
   "cell_type": "markdown",
   "id": "0f67d199",
   "metadata": {},
   "source": [
    "\n",
    "NumPy arrays and Pandas DataFrames are both data structures commonly used in data analysis and manipulation, but they have some differences in their features and functionalities.\n",
    "\n",
    "A NumPy array is a multidimensional array of homogeneous data types (i.e., all elements have the same data type). NumPy arrays have a fixed size and shape, and can only hold numerical data, such as integers and floating-point numbers. NumPy arrays are efficient for mathematical operations and calculations.\n",
    "\n",
    "On the other hand, a Pandas DataFrame is a two-dimensional table with labeled axes (i.e., rows and columns) that can hold data of different data types, including numerical data, text, and categorical data. Pandas DataFrames are versatile and can handle various data formats, such as CSV, Excel, and SQL databases. They also have built-in functions for data cleaning, transformation, and analysis."
   ]
  },
  {
   "cell_type": "code",
   "execution_count": 1,
   "id": "f2d825bc",
   "metadata": {},
   "outputs": [
    {
     "name": "stdout",
     "output_type": "stream",
     "text": [
      "   0  1  2\n",
      "0  1  2  3\n",
      "1  4  5  6\n"
     ]
    }
   ],
   "source": [
    "import pandas as pd\n",
    "import numpy as np\n",
    "\n",
    "arr = np.array([[1, 2, 3], [4, 5, 6]])\n",
    "\n",
    "df = pd.DataFrame(arr)\n",
    "\n",
    "print(df)\n"
   ]
  },
  {
   "cell_type": "code",
   "execution_count": 2,
   "id": "84700197",
   "metadata": {},
   "outputs": [
    {
     "name": "stdout",
     "output_type": "stream",
     "text": [
      "[[1 4]\n",
      " [2 5]\n",
      " [3 6]]\n"
     ]
    }
   ],
   "source": [
    "import pandas as pd\n",
    "import numpy as np\n",
    "\n",
    "# create a Pandas DataFrame\n",
    "df = pd.DataFrame({'A': [1, 2, 3], 'B': [4, 5, 6]})\n",
    "\n",
    "# convert the Pandas DataFrame to a NumPy array\n",
    "arr = df.values\n",
    "\n",
    "print(arr)\n"
   ]
  },
  {
   "cell_type": "markdown",
   "id": "6b0f7378",
   "metadata": {},
   "source": [
    "Q2. What can go wrong when an user enters in a stock-ticker symbol, and how do you handle it?"
   ]
  },
  {
   "cell_type": "markdown",
   "id": "7c8330ea",
   "metadata": {},
   "source": [
    "There are several potential issues that can arise when a user enters a stock-ticker symbol, such as:\n",
    "\n",
    "Invalid or incorrect ticker symbol: The user may enter an invalid or incorrect ticker symbol, which can result in errors or incorrect data. For example, the user may misspell the ticker symbol, or the ticker symbol may be outdated or no longer valid.\n",
    "\n",
    "Multiple stocks with the same ticker symbol: Some companies may have multiple stocks with the same ticker symbol, such as different share classes or stocks listed on different stock exchanges. This can result in confusion and incorrect data.\n",
    "\n",
    "Case sensitivity: Some ticker symbols are case sensitive, so the user must enter the ticker symbol exactly as it appears, including the correct capitalization.\n",
    "\n",
    "To handle these issues, you can implement the following approaches:\n",
    "\n",
    "Validate the ticker symbol: Before using the ticker symbol, validate it to ensure that it is a valid and current ticker symbol. You can use a financial data API or service that provides a list of valid and current ticker symbols, and compare the user input against this list. If the user input is not a valid ticker symbol, you can prompt the user to enter a valid ticker symbol.\n",
    "\n",
    "Provide suggestions: If the user input is not a valid ticker symbol, you can provide suggestions for similar or related ticker symbols. This can help the user correct any misspellings or mistakes in the ticker symbol.\n",
    "\n",
    "Handle multiple stocks: If multiple stocks have the same ticker symbol, you can prompt the user to specify which stock they are interested in, such as by providing additional information about the stock, such as the stock exchange or the company name.\n",
    "\n",
    "Normalize the ticker symbol: To handle case sensitivity, you can normalize the ticker symbol to a consistent format, such as all uppercase or lowercase letters, before using it. This can help avoid errors due to capitalization differences."
   ]
  },
  {
   "cell_type": "markdown",
   "id": "a96860de",
   "metadata": {},
   "source": [
    "Q3. Identify some of the plotting techniques that are used to produce a stock-market chart."
   ]
  },
  {
   "cell_type": "markdown",
   "id": "e6dceb78",
   "metadata": {},
   "source": [
    "\n",
    "There are several plotting techniques that are commonly used to produce a stock-market chart, including:\n",
    "\n",
    "Line chart: A line chart is a basic chart type that shows the stock price over time as a line. This is the simplest and most common way to visualize stock price data.\n",
    "\n",
    "Candlestick chart: A candlestick chart is a type of chart used to visualize the daily price movement of a stock. It shows the opening price, closing price, high price, and low price of the stock as a series of candlesticks.\n",
    "\n",
    "Bar chart: A bar chart is a type of chart that shows the stock price as a vertical bar. It can be used to show daily or weekly stock price data, and can also be used to compare multiple stocks.\n",
    "\n",
    "Area chart: An area chart is a type of chart that shows the stock price as a filled area under a line. It can be used to show the trend of the stock price over time.\n",
    "\n",
    "Volume chart: A volume chart is a type of chart that shows the volume of shares traded for a particular stock over time. It can be used to analyze the trading activity of a stock and to identify trends.\n",
    "\n",
    "Moving average chart: A moving average chart is a type of chart that shows the average price of a stock over a specified period of time. It can be used to identify trends and to smooth out fluctuations in the stock price.\n",
    "\n",
    "Relative strength index (RSI) chart: An RSI chart is a type of chart that shows the relative strength of a stock over time. It can be used to identify potential overbought or oversold conditions in the stock.\n",
    "\n",
    "These are some of the common techniques used to plot stock market data, and each has its own strengths and weaknesses depending on the purpose of the analysis."
   ]
  },
  {
   "cell_type": "markdown",
   "id": "72ec5da5",
   "metadata": {},
   "source": [
    "Q4. Why is it essential to print a legend on a stock market chart?"
   ]
  },
  {
   "cell_type": "markdown",
   "id": "2484e5c5",
   "metadata": {},
   "source": [
    "It is essential to print a legend on a stock market chart because it provides important information about what the chart is showing and how to interpret the data. A legend is typically a key or a table that explains the symbols or colors used in the chart and what they represent.\n",
    "\n",
    "In a stock market chart, a legend can provide information on various aspects of the data, such as the time period being analyzed, the type of chart being used (e.g., line chart, candlestick chart), and the specific indicators or metrics being plotted (e.g., stock price, volume, moving averages).\n",
    "\n",
    "Without a legend, the viewer may have difficulty interpreting the data and understanding the meaning behind the different symbols or colors used in the chart. This can lead to confusion and misinterpretation of the data, which can result in poor investment decisions.\n",
    "\n",
    "In addition, if the chart is shared or presented to others, a legend can make it easier for them to understand the data and reproduce the analysis. This can improve communication and collaboration among investors, traders, and analysts who are working with the same data."
   ]
  },
  {
   "cell_type": "markdown",
   "id": "2aa71b53",
   "metadata": {},
   "source": [
    "Q5. What is the best way to limit the length of a pandas data frame to less than a year?"
   ]
  },
  {
   "cell_type": "markdown",
   "id": "de7b1239",
   "metadata": {},
   "source": [
    "To limit the length of a pandas data frame to less than a year, you can filter the data frame based on the date column using the following steps:\n",
    "\n",
    "Convert the date column to a pandas datetime format using the pd.to_datetime() function.\n",
    "\n",
    "Define the start and end dates for the time period you want to keep, such as one year ago from the current date. You can use the pd.Timestamp() function to create a datetime object.\n",
    "\n",
    "Use the .loc[] accessor to filter the data frame based on the date column. For example, you can select only the rows that have a date value between the start and end dates.\n",
    "\n",
    "Assign the filtered data frame to a new variable to store the results.\n",
    "\n",
    "Here is an example code snippet that demonstrates how to limit the length of a pandas data frame to less than a year:"
   ]
  },
  {
   "cell_type": "raw",
   "id": "e516d71a",
   "metadata": {},
   "source": [
    "import pandas as pd\n",
    "from datetime import datetime, timedelta\n",
    "\n",
    "# load the data frame\n",
    "df = pd.read_csv('data.csv')\n",
    "\n",
    "# convert date column to datetime format\n",
    "df['date'] = pd.to_datetime(df['date'])\n",
    "\n",
    "# define start and end dates\n",
    "end_date = datetime.now().date()\n",
    "start_date = end_date - timedelta(days=365)\n",
    "\n",
    "# filter data frame based on date column\n",
    "filtered_df = df.loc[(df['date'] >= start_date) & (df['date'] <= end_date)]\n",
    "\n",
    "# print the filtered data frame\n",
    "print(filtered_df)\n"
   ]
  },
  {
   "cell_type": "markdown",
   "id": "a85bd1d8",
   "metadata": {},
   "source": [
    "Q6. What is the definition of a 180-day moving average?"
   ]
  },
  {
   "cell_type": "markdown",
   "id": "ba6b15de",
   "metadata": {},
   "source": [
    "\n",
    "A 180-day moving average is a technical analysis indicator that calculates the average price of a stock over a period of 180 days. This is done by taking the sum of the closing prices of the stock over the past 180 days and dividing by 180. The resulting value represents the average price of the stock over the past 180 days.\n",
    "\n",
    "The 180-day moving average is often used by investors and traders to identify trends in the stock price over a long-term period. It can help smooth out short-term fluctuations and provide a clearer picture of the overall direction of the stock price.\n",
    "\n",
    "For example, if the current stock price is above the 180-day moving average, it may indicate that the stock is in an uptrend and could continue to rise in the future. Conversely, if the current stock price is below the 180-day moving average, it may indicate that the stock is in a downtrend and could continue to decline in the future."
   ]
  },
  {
   "cell_type": "markdown",
   "id": "55955865",
   "metadata": {},
   "source": [
    "Q7. Did the chapter&#39;s final example use &quot;indirect&quot; importing? If so, how exactly do you do it?"
   ]
  },
  {
   "cell_type": "markdown",
   "id": "a80d2bcb",
   "metadata": {},
   "source": [
    "Yes, the final example in the chapter used \"indirect\" importing. Indirect importing is a technique in Python where you can import a module indirectly through another module, without having to explicitly import it in your code.\n",
    "\n",
    "In the final example, the mplfinance library was indirectly imported through the pandas_datareader library, which itself imported the mplfinance library internally.\n",
    "\n",
    "Here is an example of how to perform indirect importing in Python:"
   ]
  },
  {
   "cell_type": "raw",
   "id": "e052398b",
   "metadata": {},
   "source": [
    "# create a file named \"mymodule.py\"\n",
    "import numpy as np\n",
    "\n",
    "def myfunction():\n",
    "    x = np.random.rand(5)\n",
    "    return x\n"
   ]
  },
  {
   "cell_type": "raw",
   "id": "2123981c",
   "metadata": {},
   "source": [
    "# create another file named \"main.py\"\n",
    "import mymodule\n",
    "\n",
    "result = mymodule.myfunction()\n",
    "print(result)\n"
   ]
  },
  {
   "cell_type": "code",
   "execution_count": null,
   "id": "eddd81de",
   "metadata": {},
   "outputs": [],
   "source": []
  }
 ],
 "metadata": {
  "kernelspec": {
   "display_name": "Python 3 (ipykernel)",
   "language": "python",
   "name": "python3"
  },
  "language_info": {
   "codemirror_mode": {
    "name": "ipython",
    "version": 3
   },
   "file_extension": ".py",
   "mimetype": "text/x-python",
   "name": "python",
   "nbconvert_exporter": "python",
   "pygments_lexer": "ipython3",
   "version": "3.9.13"
  }
 },
 "nbformat": 4,
 "nbformat_minor": 5
}
