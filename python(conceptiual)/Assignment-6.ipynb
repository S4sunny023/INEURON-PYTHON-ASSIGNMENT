{
 "cells": [
  {
   "cell_type": "markdown",
   "id": "d2fdd901",
   "metadata": {},
   "source": [
    "1. What are escape characters, and how do you use them?"
   ]
  },
  {
   "cell_type": "markdown",
   "id": "043be98a",
   "metadata": {},
   "source": [
    "Escape characters are characters used in programming to represent special characters or symbols that cannot be typed or interpreted directly in the code. They are used to indicate that the following character(s) should be treated differently, either by the programming language itself or by some other software that is processing the text.\n",
    "\n",
    "The most commonly used escape character is the backslash (), which is used to indicate that the next character(s) should be treated differently."
   ]
  },
  {
   "cell_type": "code",
   "execution_count": 1,
   "id": "925decb2",
   "metadata": {},
   "outputs": [
    {
     "name": "stdout",
     "output_type": "stream",
     "text": [
      "This is a \"quoted\" string.\n"
     ]
    }
   ],
   "source": [
    "#use of escape chrs:\n",
    "print(\"This is a \\\"quoted\\\" string.\")\n"
   ]
  },
  {
   "cell_type": "markdown",
   "id": "a9cbcf82",
   "metadata": {},
   "source": [
    "2. What do the escape characters n and t stand for?"
   ]
  },
  {
   "cell_type": "markdown",
   "id": "eec2b543",
   "metadata": {},
   "source": [
    "In programming, the escape character \\n represents a newline character, and the escape character \\t represents a tab character."
   ]
  },
  {
   "cell_type": "code",
   "execution_count": 5,
   "id": "4a4d34f3",
   "metadata": {},
   "outputs": [
    {
     "name": "stdout",
     "output_type": "stream",
     "text": [
      "Line 1\n",
      "Line 2\n",
      "Name\tAge\tGender\n"
     ]
    }
   ],
   "source": [
    "print(\"Line 1\\nLine 2\")\n",
    "print(\"Name\\tAge\\tGender\")"
   ]
  },
  {
   "cell_type": "markdown",
   "id": "d74a562c",
   "metadata": {},
   "source": [
    "3. What is the way to include backslash characters in a string?"
   ]
  },
  {
   "cell_type": "markdown",
   "id": "2961a67d",
   "metadata": {},
   "source": [
    "To include a backslash character () in a string, you need to use the backslash () itself as an escape character. "
   ]
  },
  {
   "cell_type": "code",
   "execution_count": 6,
   "id": "df6473ed",
   "metadata": {},
   "outputs": [
    {
     "name": "stdout",
     "output_type": "stream",
     "text": [
      "This is a backslash: \\\n"
     ]
    }
   ],
   "source": [
    "print(\"This is a backslash: \\\\\")\n"
   ]
  },
  {
   "cell_type": "markdown",
   "id": "9408f0a2",
   "metadata": {},
   "source": [
    "4. The string \"Howl's Moving Castle\" is a correct value. Why isn't the single quote character in the word Howl's not escaped a problem?"
   ]
  },
  {
   "cell_type": "markdown",
   "id": "978e116a",
   "metadata": {},
   "source": [
    "In programming languages, single quotes and double quotes are used to delimit strings. If a string is enclosed in single quotes, any double quotes inside the string can be used without being escaped, and vice versa.\n",
    "\n",
    "In the case of the string \"Howl's Moving Castle\", the single quote in the word \"Howl's\" is enclosed by double quotes, which means that it does not need to be escaped.\n",
    "\n",
    "So, if you use double quotes to delimit the string, you can include single quotes inside the string without any problem, and if you use single quotes to delimit the string, you can include double quotes inside the string without any problem."
   ]
  },
  {
   "cell_type": "markdown",
   "id": "2ec429a5",
   "metadata": {},
   "source": [
    "5. How do you write a string of newlines if you don't want to use the n character?"
   ]
  },
  {
   "cell_type": "markdown",
   "id": "bd96346b",
   "metadata": {},
   "source": [
    "If you don't want to use the escape character \\n to write a string of newlines, you can use multi-line string literals or string concatenation to achieve the same effect.\n",
    "\n",
    "One way to create a string of newlines using multi-line string literals is to enclose the text between triple quotes (\"\"\" or ''') and separate the lines with actual line breaks. Here's an example in Python:"
   ]
  },
  {
   "cell_type": "code",
   "execution_count": 7,
   "id": "3cfafc94",
   "metadata": {},
   "outputs": [
    {
     "name": "stdout",
     "output_type": "stream",
     "text": [
      "This is a\n",
      "string\n",
      "with\n",
      "multiple\n",
      "lines.\n"
     ]
    }
   ],
   "source": [
    "text = \"\"\"This is a\n",
    "string\n",
    "with\n",
    "multiple\n",
    "lines.\"\"\"\n",
    "print(text)\n"
   ]
  },
  {
   "cell_type": "markdown",
   "id": "9c95c4d6",
   "metadata": {},
   "source": [
    "6. What are the values of the given expressions?\n",
    "'Hello, world!'[1]\n",
    "'Hello, world!'[0:5]\n",
    "'Hello, world!'[:5]\n",
    "'Hello, world!'[3:]\n"
   ]
  },
  {
   "cell_type": "markdown",
   "id": "488c4f44",
   "metadata": {},
   "source": [
    "'Hello, world!'[1] returns the character at index 1 of the string, which is 'e'.\n",
    "\n",
    "'Hello, world!'[0:5] returns a slice of the string that starts at index 0 and goes up to (but does not include) index 5, which means it includes the characters 'H', 'e', 'l', 'l', and 'o'. The result is 'Hello'.\n",
    "\n",
    "'Hello, world!'[:5] returns a slice of the string that starts at the beginning and goes up to (but does not include) index 5, which means it includes the characters 'H', 'e', 'l', 'l', and 'o'. The result is 'Hello'.\n",
    "\n",
    "'Hello, world!'[3:] returns a slice of the string that starts at index 3 and goes to the end of the string, which means it includes the characters 'l', 'o', ', ', 'w', 'o', 'r', 'l', and 'd'. The result is 'lo, world!'."
   ]
  },
  {
   "cell_type": "markdown",
   "id": "0379b79f",
   "metadata": {},
   "source": [
    "7. What are the values of the following expressions?\n",
    "\n",
    "'Hello'.upper()\n",
    "\n",
    "'Hello'.upper().isupper()\n",
    "\n",
    "'Hello'.upper().lower()\n"
   ]
  },
  {
   "cell_type": "markdown",
   "id": "064afe46",
   "metadata": {},
   "source": [
    "Here are the values of the following expressions in Python:\n",
    "\n",
    "'Hello'.upper() returns the string 'HELLO', which is the uppercase version of the string 'Hello'.\n",
    "\n",
    "'Hello'.upper().isupper() first applies the upper() method to the string 'Hello', which returns the string 'HELLO'. Then, the isupper() method is applied to this string, which returns True because all of the characters in the string are uppercase.\n",
    "\n",
    "'Hello'.upper().lower() first applies the upper() method to the string 'Hello', which returns the string 'HELLO'. Then, the lower() method is applied to this string, which returns the string 'hello', which is the lowercase version of the uppercase string 'HELLO'."
   ]
  },
  {
   "cell_type": "markdown",
   "id": "b6e83432",
   "metadata": {},
   "source": [
    "8. What are the values of the following expressions?\n",
    "\n",
    "'Remember, remember, the fifth of July.'.split()\n",
    "\n",
    "'-'.join('There can only one.'.split())\n"
   ]
  },
  {
   "cell_type": "markdown",
   "id": "ecc434fb",
   "metadata": {},
   "source": [
    "'Remember, remember, the fifth of July.'.split() splits the string at whitespace characters (spaces, tabs, and newlines), creating a list of substrings. In this case, the resulting list is ['Remember,', 'remember,', 'the', 'fifth', 'of', 'July.'].\n",
    "\n",
    "\n",
    "'-'.join('There can only one.'.split()) splits the string at whitespace characters, creating a list of substrings. In this case, the resulting list is ['There', 'can', 'only', 'one.']. Then, it joins the substrings in the list with '-' as the separator, creating a new string. In this case, the resulting string is 'There-can-only-one.'"
   ]
  },
  {
   "cell_type": "markdown",
   "id": "8c4c7c30",
   "metadata": {},
   "source": [
    "9. What are the methods for right-justifying, left-justifying, and centering a string?"
   ]
  },
  {
   "cell_type": "markdown",
   "id": "26b33174",
   "metadata": {},
   "source": [
    "In Python, the following string methods can be used to justify a string:\n",
    "\n",
    "ljust(width, fillchar=None) - This method left-justifies a string in a field of a specified width, padded with a fill character (which defaults to whitespace if not specified).\n",
    "\n",
    "rjust(width, fillchar=None) - This method right-justifies a string in a field of a specified width, padded with a fill character (which defaults to whitespace if not specified).\n",
    "\n",
    "center(width, fillchar=None) - This method centers a string in a field of a specified width, padded with a fill character (which defaults to whitespace if not specified)."
   ]
  },
  {
   "cell_type": "markdown",
   "id": "bae3ed8d",
   "metadata": {},
   "source": [
    "10. What is the best way to remove whitespace characters from the start or end?"
   ]
  },
  {
   "cell_type": "markdown",
   "id": "7c5b5c27",
   "metadata": {},
   "source": [
    "In Python, the strip() method can be used to remove whitespace characters from the start and end of a string. This method returns a new string with all whitespace characters (spaces, tabs, and newlines) removed from the beginning and end of the original string.\n"
   ]
  },
  {
   "cell_type": "code",
   "execution_count": 9,
   "id": "e0011d4d",
   "metadata": {},
   "outputs": [
    {
     "name": "stdout",
     "output_type": "stream",
     "text": [
      "hello\n"
     ]
    }
   ],
   "source": [
    "text = \"  hello  \"\n",
    "trimmed_text = text.strip()\n",
    "\n",
    "print(trimmed_text) "
   ]
  }
 ],
 "metadata": {
  "kernelspec": {
   "display_name": "Python 3 (ipykernel)",
   "language": "python",
   "name": "python3"
  },
  "language_info": {
   "codemirror_mode": {
    "name": "ipython",
    "version": 3
   },
   "file_extension": ".py",
   "mimetype": "text/x-python",
   "name": "python",
   "nbconvert_exporter": "python",
   "pygments_lexer": "ipython3",
   "version": "3.9.13"
  }
 },
 "nbformat": 4,
 "nbformat_minor": 5
}
