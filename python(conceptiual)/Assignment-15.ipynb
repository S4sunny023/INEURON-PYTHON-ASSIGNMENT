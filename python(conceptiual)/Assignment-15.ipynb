{
 "cells": [
  {
   "cell_type": "markdown",
   "id": "20863109",
   "metadata": {},
   "source": [
    "1.How many seconds are in an hour? Use the interactive interpreter as a calculator and multiply the\n",
    "number of seconds in a minute (60) by the number of minutes in an hour (also 60).\n",
    "sol. 60"
   ]
  },
  {
   "cell_type": "code",
   "execution_count": 1,
   "id": "38f22c77",
   "metadata": {},
   "outputs": [
    {
     "name": "stdout",
     "output_type": "stream",
     "text": [
      "There are 3600 seconds in 1 hour(s)\n"
     ]
    }
   ],
   "source": [
    "hour = 1 \n",
    "\n",
    "seconds_in_hour = hour * 60 * 60\n",
    "\n",
    "print(f\"There are {seconds_in_hour} seconds in {hour} hour(s)\")\n"
   ]
  },
  {
   "cell_type": "markdown",
   "id": "45f3359f",
   "metadata": {},
   "source": [
    "2. Assign the result from the previous task (seconds in an hour) to a variable called\n",
    "seconds_per_hour."
   ]
  },
  {
   "cell_type": "code",
   "execution_count": 2,
   "id": "c9b6037f",
   "metadata": {},
   "outputs": [],
   "source": [
    "seconds_per_hour=seconds_in_hour"
   ]
  },
  {
   "cell_type": "markdown",
   "id": "2cd0ea15",
   "metadata": {},
   "source": [
    "3. How many seconds do you think there are in a day? Make use of the variables seconds per hour\n",
    "and minutes per hour."
   ]
  },
  {
   "cell_type": "code",
   "execution_count": 3,
   "id": "1690f036",
   "metadata": {},
   "outputs": [
    {
     "name": "stdout",
     "output_type": "stream",
     "text": [
      "There are 86400 seconds in a day\n"
     ]
    }
   ],
   "source": [
    "# Program to calculate number of seconds in a day\n",
    "\n",
    "hours_per_day = 24\n",
    "minutes_per_hour = 60\n",
    "seconds_per_hour = 60 * minutes_per_hour\n",
    "\n",
    "seconds_per_day = seconds_per_hour * hours_per_day\n",
    "\n",
    "print(f\"There are {seconds_per_day} seconds in a day\")\n"
   ]
  },
  {
   "cell_type": "markdown",
   "id": "7c7f90f7",
   "metadata": {},
   "source": [
    "4. Calculate seconds per day again, but this time save the result in a variable called seconds_per_day"
   ]
  },
  {
   "cell_type": "code",
   "execution_count": 4,
   "id": "3c5cedba",
   "metadata": {},
   "outputs": [
    {
     "name": "stdout",
     "output_type": "stream",
     "text": [
      "There are 86400 seconds in a day\n"
     ]
    }
   ],
   "source": [
    "# Program to calculate number of seconds in a day and assign it to a variable\n",
    "\n",
    "hours_per_day = 24\n",
    "minutes_per_hour = 60\n",
    "seconds_per_hour = 60 * minutes_per_hour\n",
    "\n",
    "seconds_per_day = seconds_per_hour * hours_per_day\n",
    "\n",
    "print(f\"There are {seconds_per_day} seconds in a day\")\n",
    "\n",
    "\n",
    "seconds_per_day = seconds_per_hour * hours_per_day\n"
   ]
  },
  {
   "cell_type": "markdown",
   "id": "c9ff0362",
   "metadata": {},
   "source": [
    "5. Divide seconds_per_day by seconds_per_hour. Use floating-point (/) division."
   ]
  },
  {
   "cell_type": "code",
   "execution_count": 5,
   "id": "8ff74daa",
   "metadata": {},
   "outputs": [
    {
     "name": "stdout",
     "output_type": "stream",
     "text": [
      "The ratio of seconds per day to seconds per hour is 24.00\n"
     ]
    }
   ],
   "source": [
    "# Program to calculate the ratio of seconds per day to seconds per hour\n",
    "\n",
    "hours_per_day = 24\n",
    "minutes_per_hour = 60\n",
    "seconds_per_hour = 60 * minutes_per_hour\n",
    "\n",
    "seconds_per_day = seconds_per_hour * hours_per_day\n",
    "\n",
    "\n",
    "ratio = seconds_per_day / seconds_per_hour\n",
    "\n",
    "print(f\"The ratio of seconds per day to seconds per hour is {ratio:.2f}\")\n"
   ]
  },
  {
   "cell_type": "markdown",
   "id": "01d11250",
   "metadata": {},
   "source": [
    "6. Divide seconds_per_day by seconds_per_hour, using integer (//) division. Did this number agree\n",
    "with the floating-point value from the previous question, aside from the final .0?"
   ]
  },
  {
   "cell_type": "code",
   "execution_count": 6,
   "id": "e0f60f77",
   "metadata": {},
   "outputs": [
    {
     "name": "stdout",
     "output_type": "stream",
     "text": [
      "The ratio of seconds per day to seconds per hour is 24\n"
     ]
    }
   ],
   "source": [
    "# Program to calculate the ratio of seconds per day to seconds per hour using integer division\n",
    "\n",
    "hours_per_day = 24\n",
    "minutes_per_hour = 60\n",
    "seconds_per_hour = 60 * minutes_per_hour\n",
    "\n",
    "seconds_per_day = seconds_per_hour * hours_per_day\n",
    "\n",
    "\n",
    "ratio = seconds_per_day // seconds_per_hour\n",
    "\n",
    "print(f\"The ratio of seconds per day to seconds per hour is {ratio}\")\n"
   ]
  },
  {
   "cell_type": "markdown",
   "id": "ebc034c9",
   "metadata": {},
   "source": [
    "7. Write a generator, genPrimes, that returns the sequence of prime numbers on successive calls to\n",
    "its next() method: 2, 3, 5, 7, 11, ..."
   ]
  },
  {
   "cell_type": "code",
   "execution_count": 7,
   "id": "66047f2d",
   "metadata": {},
   "outputs": [],
   "source": [
    "def genPrimes():\n",
    "    primes = [2]  \n",
    "    yield 2 \n",
    "    n = 3 \n",
    "    while True:\n",
    "        for p in primes:\n",
    "            if n % p == 0:\n",
    "                break \n",
    "        else:\n",
    "            primes.append(n) \n",
    "            yield n \n",
    "        n += 2  \n"
   ]
  },
  {
   "cell_type": "code",
   "execution_count": 8,
   "id": "81e12145",
   "metadata": {},
   "outputs": [
    {
     "name": "stdout",
     "output_type": "stream",
     "text": [
      "2\n",
      "3\n",
      "5\n",
      "7\n",
      "11\n",
      "13\n",
      "17\n",
      "19\n",
      "23\n",
      "29\n"
     ]
    }
   ],
   "source": [
    "\n",
    "gen = genPrimes()\n",
    "\n",
    "for i in range(10):\n",
    "    print(next(gen))\n"
   ]
  },
  {
   "cell_type": "code",
   "execution_count": null,
   "id": "dd545ac5",
   "metadata": {},
   "outputs": [],
   "source": []
  }
 ],
 "metadata": {
  "kernelspec": {
   "display_name": "Python 3 (ipykernel)",
   "language": "python",
   "name": "python3"
  },
  "language_info": {
   "codemirror_mode": {
    "name": "ipython",
    "version": 3
   },
   "file_extension": ".py",
   "mimetype": "text/x-python",
   "name": "python",
   "nbconvert_exporter": "python",
   "pygments_lexer": "ipython3",
   "version": "3.9.13"
  }
 },
 "nbformat": 4,
 "nbformat_minor": 5
}
