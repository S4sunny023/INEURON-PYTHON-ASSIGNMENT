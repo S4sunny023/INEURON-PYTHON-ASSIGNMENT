{
 "cells": [
  {
   "cell_type": "markdown",
   "id": "84003595",
   "metadata": {},
   "source": [
    "1. What exactly is []?"
   ]
  },
  {
   "cell_type": "markdown",
   "id": "87be943b",
   "metadata": {},
   "source": [
    "In programming, [] typically refers to an empty list or array, depending on the language."
   ]
  },
  {
   "cell_type": "markdown",
   "id": "ae4a3e20",
   "metadata": {},
   "source": [
    "2. In a list of values stored in a variable called spam, how would you assign the value 'hello' as the third value? (Assume [2, 4, 6, 8, 10] are in spam.)"
   ]
  },
  {
   "cell_type": "code",
   "execution_count": 6,
   "id": "8e6da5d1",
   "metadata": {},
   "outputs": [
    {
     "name": "stdout",
     "output_type": "stream",
     "text": [
      "[2, 4, 'hello', 8, 10]\n"
     ]
    }
   ],
   "source": [
    "spam = [2, 4, 6, 8, 10]    # original list\n",
    "spam[2] = 'hello'          # assign 'hello' as the third value\n",
    "print(spam)                # output the modified list\n"
   ]
  },
  {
   "cell_type": "markdown",
   "id": "e3f363ab",
   "metadata": {},
   "source": [
    "3. What is the value of spam[int(int('3' * 2) / 11)]?"
   ]
  },
  {
   "cell_type": "markdown",
   "id": "64abdb22",
   "metadata": {},
   "source": [
    "The expression '3' * 2 multiplies the string '3' by 2, resulting in the string '33'. The int() function then converts this string to an integer with the value 33.\n",
    "\n",
    "The expression int('33') / 11 performs integer division of 33 by 11, resulting in the integer 3.\n",
    "\n",
    "The expression spam[int(3)] then accesses the fourth element (index 3) of the list spam. Assuming spam contains the list ['a', 'b', 'c', 'd'], the fourth element is 'd'.\n",
    "\n",
    "Therefore, the value of spam[int(int('3' * 2) / 11)] is 'd'."
   ]
  },
  {
   "cell_type": "markdown",
   "id": "08e2d2ec",
   "metadata": {},
   "source": [
    "4. What is the value of spam[-1]?"
   ]
  },
  {
   "cell_type": "markdown",
   "id": "1d3bf4d7",
   "metadata": {},
   "source": [
    "The expression spam[-1] accesses the last element of the list spam. Assuming spam contains the list ['a', 'b', 'c', 'd'], the last element is 'd'.\n",
    "\n",
    "Therefore, the value of spam[-1] is 'd'."
   ]
  },
  {
   "cell_type": "markdown",
   "id": "68d00f39",
   "metadata": {},
   "source": [
    "5. What is the value of spam[:2]?\n"
   ]
  },
  {
   "cell_type": "markdown",
   "id": "1fe31982",
   "metadata": {},
   "source": [
    " the value of spam[:2] is ['a', 'b']."
   ]
  },
  {
   "cell_type": "markdown",
   "id": "41966dbe",
   "metadata": {},
   "source": [
    "Let's pretend bacon has the list [3.14, 'cat,' 11, 'cat,' True] for the next three questions.\n",
    "6. What is the value of bacon.index('cat')?\n"
   ]
  },
  {
   "cell_type": "markdown",
   "id": "fa5b84ed",
   "metadata": {},
   "source": [
    "cat' is at index 1, so the value of bacon.index('cat') is 1."
   ]
  },
  {
   "cell_type": "markdown",
   "id": "c281f721",
   "metadata": {},
   "source": [
    "7. How does bacon.append(99) change the look of the list value in bacon?"
   ]
  },
  {
   "cell_type": "markdown",
   "id": "028f7cd0",
   "metadata": {},
   "source": [
    "value of bacon will be [3.14, 'cat', 11, 'cat', True, 99]."
   ]
  },
  {
   "cell_type": "markdown",
   "id": "0f2b835c",
   "metadata": {},
   "source": [
    "8. How does bacon.remove('cat') change the look of the list in bacon?"
   ]
  },
  {
   "cell_type": "markdown",
   "id": "0aecf2bc",
   "metadata": {},
   "source": [
    "new list value of bacon will be [3.14, 11, 'cat', True]."
   ]
  },
  {
   "cell_type": "markdown",
   "id": "6bb6dc41",
   "metadata": {},
   "source": [
    "9. What are the list concatenation and list replication operators?"
   ]
  },
  {
   "cell_type": "code",
   "execution_count": 3,
   "id": "69e285d7",
   "metadata": {},
   "outputs": [
    {
     "name": "stdout",
     "output_type": "stream",
     "text": [
      "[1, 2, 3, 4, 5, 6]\n",
      "[1, 2, 3, 1, 2, 3, 1, 2, 3]\n"
     ]
    }
   ],
   "source": [
    "#list concatenation:\n",
    "list1 = [1, 2, 3]\n",
    "list2 = [4, 5, 6]\n",
    "concatenated_list = list1 + list2\n",
    "print((concatenated_list))\n",
    "\n",
    "\n",
    "#list replication\n",
    "original_list = [1, 2, 3]\n",
    "replicated_list = original_list * 3\n",
    "print((replicated_list))\n"
   ]
  },
  {
   "cell_type": "markdown",
   "id": "698775d1",
   "metadata": {},
   "source": [
    "10. What is difference between the list methods append() and insert()?"
   ]
  },
  {
   "cell_type": "markdown",
   "id": "c8e9ed27",
   "metadata": {},
   "source": [
    "The main difference between the append() and insert() methods in Python is that append() adds an element to the end of the list, while insert() can add an element at a specified position within the list."
   ]
  },
  {
   "cell_type": "code",
   "execution_count": 4,
   "id": "b4ead7ec",
   "metadata": {},
   "outputs": [
    {
     "name": "stdout",
     "output_type": "stream",
     "text": [
      "[1, 2, 3, 4]\n"
     ]
    }
   ],
   "source": [
    "#append()\n",
    "my_list = [1, 2, 3]\n",
    "my_list.append(4)\n",
    "print(my_list)  # output: [1, 2, 3, 4]\n"
   ]
  },
  {
   "cell_type": "code",
   "execution_count": 5,
   "id": "71c3b9e2",
   "metadata": {},
   "outputs": [
    {
     "name": "stdout",
     "output_type": "stream",
     "text": [
      "[1, 4, 2, 3]\n"
     ]
    }
   ],
   "source": [
    "#insert()\n",
    "my_list = [1, 2, 3]\n",
    "my_list.insert(1, 4)\n",
    "print(my_list)  # output: [1, 4, 2, 3]\n"
   ]
  },
  {
   "cell_type": "markdown",
   "id": "37e6581f",
   "metadata": {},
   "source": [
    "11. What are the two methods for removing items from a list?\n"
   ]
  },
  {
   "cell_type": "markdown",
   "id": "2e54a52b",
   "metadata": {},
   "source": [
    "In Python, there are two main methods for removing items from a list:\n",
    "\n",
    "The remove() method: This method is used to remove the first occurrence of a specified value from the list\n",
    "\n",
    "The pop() method: This method is used to remove an item from the list based on its index position. If no index is specified, the last item in the list is removed. \n",
    "\n",
    "    \n",
    "    "
   ]
  },
  {
   "cell_type": "markdown",
   "id": "e8c97598",
   "metadata": {},
   "source": [
    "12. Describe how list values and string values are identical."
   ]
  },
  {
   "cell_type": "markdown",
   "id": "611010bc",
   "metadata": {},
   "source": [
    "The similarity between Lists and Strings in Python is that both are sequences. The differences between them are that firstly, Lists are mutable but Strings are immutable. Secondly, elements of a list can be of different types whereas a String only contains characters that are all of String type."
   ]
  },
  {
   "cell_type": "markdown",
   "id": "1468db6f",
   "metadata": {},
   "source": [
    "13. What's the difference between tuples and lists?"
   ]
  },
  {
   "cell_type": "markdown",
   "id": "a80cc8a4",
   "metadata": {},
   "source": [
    "\n",
    "\n",
    "1\n",
    "\n",
    "List are mutable\n",
    "\n",
    "Tuples are immutable\n",
    "\n",
    "2\n",
    "\n",
    "In List Iterations are time-consuming\n",
    "\n",
    "In Tuples Iterations are comparatively Faster\n",
    "\n",
    "3\n",
    "\n",
    "Inserting and deleting items is easier with a list.\n",
    "\n",
    "Accessing the elements is best accomplished with a tuple data type.\n",
    "\n",
    "4\n",
    "\n",
    "Lists consume more memory\n",
    "\n",
    "Tuple consumes less than the list\n",
    "\n",
    "5\n",
    "\n",
    "Lists have several built-in methods.\n",
    "\n",
    "A tuple does not have many built-in methods because of immutability\n",
    "\n",
    "6\n",
    "\n",
    "A unexpected change or error is more likely to occur in a list.\n",
    "\n",
    "In a tuple, changes and errors don't usually occur because of immutability."
   ]
  },
  {
   "cell_type": "markdown",
   "id": "8d3e890d",
   "metadata": {},
   "source": [
    "14. How do you type a tuple value that only contains the integer 42?"
   ]
  },
  {
   "cell_type": "code",
   "execution_count": 8,
   "id": "2affca57",
   "metadata": {},
   "outputs": [
    {
     "data": {
      "text/plain": [
       "(42,)"
      ]
     },
     "execution_count": 8,
     "metadata": {},
     "output_type": "execute_result"
    }
   ],
   "source": [
    "my_tuple = (42,)\n",
    "my_tuple\n"
   ]
  },
  {
   "cell_type": "markdown",
   "id": "ace5b006",
   "metadata": {},
   "source": [
    "15. How do you get a list value's tuple form? How do you get a tuple value's list form?"
   ]
  },
  {
   "cell_type": "code",
   "execution_count": 11,
   "id": "e6da8091",
   "metadata": {},
   "outputs": [
    {
     "data": {
      "text/plain": [
       "[1, 4, 2, 3]"
      ]
     },
     "execution_count": 11,
     "metadata": {},
     "output_type": "execute_result"
    }
   ],
   "source": [
    "my_tuple = tuple(my_list)\n",
    "my_tuple\n",
    "my_list = list(my_tuple)\n",
    "my_list\n"
   ]
  },
  {
   "cell_type": "markdown",
   "id": "b34cfa87",
   "metadata": {},
   "source": [
    "16. Variables that \"contain\" list values are not necessarily lists themselves. Instead, what do they contain?"
   ]
  },
  {
   "cell_type": "markdown",
   "id": "849eb6d3",
   "metadata": {},
   "source": [
    "In Python, variables that \"contain\" list values are actually references to the list object in memory. When you create a list and assign it to a variable, the variable does not contain the list itself, but rather a reference to the location in memory where the list is stored."
   ]
  },
  {
   "cell_type": "markdown",
   "id": "49bbf3eb",
   "metadata": {},
   "source": [
    "17. How do you distinguish between copy.copy() and copy.deepcopy()?"
   ]
  },
  {
   "cell_type": "markdown",
   "id": "22bd0842",
   "metadata": {},
   "source": [
    "copy.copy() and copy.deepcopy() are both methods from the Python standard library copy module used to create copies of objects, but they differ in how they handle nested objects.\n",
    "\n",
    "copy.copy() creates a shallow copy of the object, meaning that it creates a new object that is a copy of the original object, but the contents of the object are still references to the same objects in memory\n",
    "\n",
    "copy.deepcopy() creates a deep copy of the object, meaning that it creates a new object that is a copy of the original object, including all nested objects\n",
    "\n",
    "copy.copy() creates a new object that is a shallow copy of the original object, while copy.deepcopy() creates a new object that is a deep copy of the original object, including all nested objects."
   ]
  },
  {
   "cell_type": "code",
   "execution_count": null,
   "id": "bb08fe31",
   "metadata": {},
   "outputs": [],
   "source": []
  },
  {
   "cell_type": "code",
   "execution_count": null,
   "id": "2d134eb7",
   "metadata": {},
   "outputs": [],
   "source": []
  },
  {
   "cell_type": "code",
   "execution_count": null,
   "id": "bf0cad0a",
   "metadata": {},
   "outputs": [],
   "source": []
  },
  {
   "cell_type": "code",
   "execution_count": null,
   "id": "a6262536",
   "metadata": {},
   "outputs": [],
   "source": []
  },
  {
   "cell_type": "code",
   "execution_count": null,
   "id": "3f075f78",
   "metadata": {},
   "outputs": [],
   "source": []
  },
  {
   "cell_type": "code",
   "execution_count": null,
   "id": "6f263646",
   "metadata": {},
   "outputs": [],
   "source": []
  }
 ],
 "metadata": {
  "kernelspec": {
   "display_name": "Python 3 (ipykernel)",
   "language": "python",
   "name": "python3"
  },
  "language_info": {
   "codemirror_mode": {
    "name": "ipython",
    "version": 3
   },
   "file_extension": ".py",
   "mimetype": "text/x-python",
   "name": "python",
   "nbconvert_exporter": "python",
   "pygments_lexer": "ipython3",
   "version": "3.9.13"
  }
 },
 "nbformat": 4,
 "nbformat_minor": 5
}
