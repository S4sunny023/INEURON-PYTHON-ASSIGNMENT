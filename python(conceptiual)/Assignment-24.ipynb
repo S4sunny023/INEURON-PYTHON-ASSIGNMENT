{
 "cells": [
  {
   "cell_type": "markdown",
   "id": "ab51c14e",
   "metadata": {},
   "source": [
    "1. What is the relationship between def statements and lambda expressions ?"
   ]
  },
  {
   "cell_type": "markdown",
   "id": "29629e11",
   "metadata": {},
   "source": [
    "def statements and lambda expressions are both used to create functions in Python, they have different syntax and are used in different situations depending on the complexity of the function being defined and whether a named or anonymous function is needed."
   ]
  },
  {
   "cell_type": "markdown",
   "id": "556ce8bc",
   "metadata": {},
   "source": [
    "2. What is the benefit of lambda?"
   ]
  },
  {
   "cell_type": "markdown",
   "id": "7fcbc043",
   "metadata": {},
   "source": [
    "The main benefit of lambda expressions in Python is that they provide a concise and flexible way to create small, anonymous functions without needing to define a named function using the def keyword."
   ]
  },
  {
   "cell_type": "markdown",
   "id": "74654b9e",
   "metadata": {},
   "source": [
    "3. Compare and contrast map, filter, and reduce."
   ]
  },
  {
   "cell_type": "markdown",
   "id": "9a75621e",
   "metadata": {},
   "source": [
    "map(), filter(), and reduce() are built-in functions in Python that are used to process sequences of data. While all three functions operate on an iterable object, such as a list or tuple, they differ in their behavior and the type of output they produce.\n",
    "\n",
    "\n",
    "map()\n",
    "\n",
    "Applies a function to each element in an iterable and returns a new iterable with the results.\n",
    "The length of the returned iterable is equal to the length of the input iterable.\n",
    "Syntax: map(function, iterable)\n",
    "\n",
    "\n",
    "filter()\n",
    "\n",
    "Applies a function to each element in an iterable and returns a new iterable containing only the elements for which the function returns True.\n",
    "The length of the returned iterable is less than or equal to the length of the input iterable.\n",
    "Syntax: filter(function, iterable)\n",
    "\n",
    "reduce()\n",
    "\n",
    "Applies a function to the first two elements in an iterable, then applies the same function to the result and the next element, and so on, until all elements have been processed.\n",
    "Returns a single value, which is the result of applying the function to all elements in the iterable.\n",
    "Syntax: reduce(function, iterable)"
   ]
  },
  {
   "cell_type": "markdown",
   "id": "bf457598",
   "metadata": {},
   "source": [
    "4. What are function annotations, and how are they used?"
   ]
  },
  {
   "cell_type": "markdown",
   "id": "c25e115c",
   "metadata": {},
   "source": [
    "\n",
    "Function annotations are a feature in Python that allow you to add metadata to the parameters and return value of a function. Annotations can be any valid Python expression, and are typically used to document the expected type or behavior of a function's inputs and outputs."
   ]
  },
  {
   "cell_type": "markdown",
   "id": "e31ad22f",
   "metadata": {},
   "source": [
    "5. What are recursive functions, and how are they used?"
   ]
  },
  {
   "cell_type": "markdown",
   "id": "1100a747",
   "metadata": {},
   "source": [
    "A recursive function is a function that calls itself, either directly or indirectly, to solve a problem by breaking it down into smaller subproblems. Recursive functions are a powerful tool in programming because they can solve complex problems in a simple and elegant way, and are often more intuitive and easier to read than iterative solutions.\n",
    "\n",
    "\n",
    "Recursive functions have two main components: the base case and the recursive case. The base case is the simplest possible case of the problem, which can be solved without further recursion. The recursive case is the more complex case, which requires recursion to break it down into smaller subproblems."
   ]
  },
  {
   "cell_type": "markdown",
   "id": "b0323f48",
   "metadata": {},
   "source": [
    "6. What are some general design guidelines for coding functions?"
   ]
  },
  {
   "cell_type": "markdown",
   "id": "21432e1c",
   "metadata": {},
   "source": [
    "Function names should be descriptive and self-explanatory. Use verbs or verb phrases to describe what the function does, and use lowercase letters with underscores to separate words in the name.\n",
    "\n",
    "Functions should be small and do one thing well. A function should have a single responsibility and not try to do too much. If a function is too long or complex, consider breaking it down into smaller functions.\n",
    "\n",
    "Functions should have clear inputs and outputs. Use descriptive parameter names to make it clear what the function expects as input, and use a clear and consistent return value to communicate the output.\n",
    "\n",
    "Functions should be easy to use and understand. Avoid complex or confusing logic, and provide clear and helpful documentation for the function.\n",
    "\n",
    "Functions should handle errors and edge cases gracefully. Anticipate potential errors and handle them gracefully, either by returning an error value or by raising an exception.\n",
    "\n",
    "Functions should be reusable and modular. Write functions in a way that makes them easy to reuse in other parts of your code, and consider organizing related functions into modules or classes."
   ]
  },
  {
   "cell_type": "markdown",
   "id": "59552808",
   "metadata": {},
   "source": [
    "7. Name three or more ways that functions can communicate results to a caller."
   ]
  },
  {
   "cell_type": "markdown",
   "id": "a25f51e2",
   "metadata": {},
   "source": [
    "Return statement: A function can use the return statement to send a result back to the caller. The result can be a value, a data structure, or even another function.\n",
    "\n",
    "Output parameters: A function can use output parameters to send results back to the caller. Output parameters are variables that are passed into the function as arguments, and are used to store the results of the function.\n",
    "\n",
    "Side effects: A function can use side effects to communicate results to the caller. Side effects are changes to the state of the program or external environment, such as modifying a global variable, writing to a file, or sending a message over a network. While side effects are generally discouraged, they can be useful in certain situations."
   ]
  },
  {
   "cell_type": "code",
   "execution_count": null,
   "id": "a1422550",
   "metadata": {},
   "outputs": [],
   "source": []
  }
 ],
 "metadata": {
  "kernelspec": {
   "display_name": "Python 3 (ipykernel)",
   "language": "python",
   "name": "python3"
  },
  "language_info": {
   "codemirror_mode": {
    "name": "ipython",
    "version": 3
   },
   "file_extension": ".py",
   "mimetype": "text/x-python",
   "name": "python",
   "nbconvert_exporter": "python",
   "pygments_lexer": "ipython3",
   "version": "3.9.13"
  }
 },
 "nbformat": 4,
 "nbformat_minor": 5
}
