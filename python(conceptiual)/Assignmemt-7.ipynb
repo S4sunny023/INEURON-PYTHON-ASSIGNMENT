{
 "cells": [
  {
   "cell_type": "markdown",
   "id": "d9b22495",
   "metadata": {},
   "source": [
    "1. What is the name of the feature responsible for generating Regex objects?"
   ]
  },
  {
   "cell_type": "markdown",
   "id": "8c34b9f4",
   "metadata": {},
   "source": [
    "The feature responsible for generating Regex objects in Python is the \"re\" module. This module provides support for regular expressions in Python and contains the functions and methods for creating, compiling, and working with regular expressions. To create a Regex object in Python, you can use the re.compile() function, which takes a regular expression pattern as a string and returns a Regex object that can be used to match patterns in text."
   ]
  },
  {
   "cell_type": "markdown",
   "id": "b2f7c396",
   "metadata": {},
   "source": [
    "2. Why do raw strings often appear in Regex objects?"
   ]
  },
  {
   "cell_type": "markdown",
   "id": "6eeb731c",
   "metadata": {},
   "source": [
    "Raw strings are often used in Regex objects because they allow special characters in the regular expression pattern to be interpreted literally, without any special meaning. In Python, a backslash (\\) is an escape character that is used to indicate special characters in a string, such as newline (\\n) or tab (\\t). However, in regular expression patterns, backslashes are often used to indicate special characters that have a specific meaning, such as matching whitespace (\\s) or digits (\\d)."
   ]
  },
  {
   "cell_type": "markdown",
   "id": "e154d34b",
   "metadata": {},
   "source": [
    "3. What is the return value of the search() method?"
   ]
  },
  {
   "cell_type": "markdown",
   "id": "f113dc57",
   "metadata": {},
   "source": [
    "The search() method of a Regex object in Python returns a Match object if the regular expression pattern matches anywhere in the string being searched. If the pattern is not found, the method returns None"
   ]
  },
  {
   "cell_type": "markdown",
   "id": "1efd1cf1",
   "metadata": {},
   "source": [
    "4. From a Match item, how do you get the actual strings that match the pattern?"
   ]
  },
  {
   "cell_type": "markdown",
   "id": "8f6f087f",
   "metadata": {},
   "source": [
    "To get the actual string(s) that match the pattern from a Match object in Python, you can use the group() method. The group() method returns the substring of the input string that matched the regular expression pattern."
   ]
  },
  {
   "cell_type": "markdown",
   "id": "edcabab9",
   "metadata": {},
   "source": [
    "5. In the regex which created from the r'(\\d\\d\\d)-(\\d\\d\\d-\\d\\d\\d\\d)', what does group zero cover? Group 2? Group 1?"
   ]
  },
  {
   "cell_type": "markdown",
   "id": "51aca026",
   "metadata": {},
   "source": [
    "In the regular expression r'(\\d\\d\\d)-(\\d\\d\\d-\\d\\d\\d\\d)', Group 0 covers the entire match, Group 1 covers the first capturing group (\\d\\d\\d), and Group 2 covers the second capturing group (\\d\\d\\d-\\d\\d\\d\\d)."
   ]
  },
  {
   "cell_type": "markdown",
   "id": "b90f4edf",
   "metadata": {},
   "source": [
    "6. In standard expression syntax, parentheses and intervals have distinct meanings. How can you tell a regex that you want it to fit real parentheses and periods?"
   ]
  },
  {
   "cell_type": "markdown",
   "id": "8f08c233",
   "metadata": {},
   "source": [
    "In regular expression syntax, parentheses and periods have special meanings (they are used for grouping and matching any character except a newline, respectively). To match real parentheses and periods, you need to \"escape\" them by adding a backslash () in front of them."
   ]
  },
  {
   "cell_type": "markdown",
   "id": "590a1da0",
   "metadata": {},
   "source": [
    "7. The findall() method returns a string list or a list of string tuples. What causes it to return one of the two options?"
   ]
  },
  {
   "cell_type": "markdown",
   "id": "5f9ea09d",
   "metadata": {},
   "source": [
    "The findall() method in Python's re module returns either a list of strings or a list of tuples, depending on whether the regular expression pattern contains capturing groups.\n",
    "\n",
    "If the regular expression pattern contains no capturing groups, then findall() returns a list of all non-overlapping matches as strings."
   ]
  },
  {
   "cell_type": "markdown",
   "id": "1cb0c93f",
   "metadata": {},
   "source": [
    "8. In standard expressions, what does the | character mean?"
   ]
  },
  {
   "cell_type": "markdown",
   "id": "9ce565c2",
   "metadata": {},
   "source": [
    "In standard regular expression syntax, the | character is called the \"pipe\" or \"alternation\" operator, and it means \"or\". It is used to match one of several possible patterns."
   ]
  },
  {
   "cell_type": "markdown",
   "id": "195cc9d3",
   "metadata": {},
   "source": [
    "9. In regular expressions, what does the character stand for?"
   ]
  },
  {
   "cell_type": "markdown",
   "id": "54ea5521",
   "metadata": {},
   "source": [
    "In regular expression syntax, the dot (.) character is called the \"dot\" or \"period\" operator, and it matches any character except a newline character (\\n)."
   ]
  },
  {
   "cell_type": "markdown",
   "id": "2900b9fd",
   "metadata": {},
   "source": [
    "10.In regular expressions, what is the difference between the + and * characters?"
   ]
  },
  {
   "cell_type": "markdown",
   "id": "8ae8631e",
   "metadata": {},
   "source": [
    "In regular expression syntax, the + and * characters are called \"quantifiers\", and they specify how many times the preceding character or group should be matched.\n",
    "\n",
    "The + character matches one or more occurrences of the preceding character or group. For example, the regular expression pattern r'\\d+' matches one or more digits"
   ]
  },
  {
   "cell_type": "markdown",
   "id": "9f082742",
   "metadata": {},
   "source": [
    "11. What is the difference between {4} and {4,5} in regular expression?"
   ]
  },
  {
   "cell_type": "markdown",
   "id": "e40fdc84",
   "metadata": {},
   "source": [
    "In regular expression syntax, curly braces are used to specify the number of times the preceding character or group should be matched.\n",
    "\n",
    "The expression {4} matches exactly four occurrences of the preceding character or group. For example, the regular expression pattern r'\\d{4}' matches exactly four digits\n",
    "\n",
    "So, the main difference between {4} and {4,5} is that {4} matches exactly four occurrences, while {4,5} matches between four and five occurrences."
   ]
  },
  {
   "cell_type": "markdown",
   "id": "2bbf86d3",
   "metadata": {},
   "source": [
    "12. What do you mean by the \\d, \\w, and \\s shorthand character classes signify in regular expressions?"
   ]
  },
  {
   "cell_type": "markdown",
   "id": "50d1edff",
   "metadata": {},
   "source": [
    "In regular expression syntax, shorthand character classes are used to represent common character sets. The following are some common shorthand character classes:\n",
    "\n",
    "\\d: Matches any digit character. It is equivalent to the character set [0-9].\n",
    "\n",
    "\\w: Matches any word character. It is equivalent to the character set [a-zA-Z0-9_].\n",
    "\n",
    "\\s: Matches any whitespace character, including space, tab, and newline. It is equivalent to the character set [\\t\\n\\r\\f\\v]."
   ]
  },
  {
   "cell_type": "markdown",
   "id": "3cc3ab63",
   "metadata": {},
   "source": [
    "13. What do means by \\D, \\W, and \\S shorthand character classes signify in regular expressions?"
   ]
  },
  {
   "cell_type": "markdown",
   "id": "e79e8ce5",
   "metadata": {},
   "source": [
    "In regular expression syntax, the uppercase versions of the shorthand character classes represent the opposite sets of characters as their lowercase counterparts. The following are the uppercase shorthand character classes and their meanings:\n",
    "\n",
    "\\D: Matches any non-digit character. It is equivalent to the character set [^0-9].\n",
    "\n",
    "\\W: Matches any non-word character. It is equivalent to the character set [^a-zA-Z0-9_].\n",
    "\n",
    "\\S: Matches any non-whitespace character. It is equivalent to the character set [^\\t\\n\\r\\f\\v]."
   ]
  },
  {
   "cell_type": "markdown",
   "id": "fff8838d",
   "metadata": {},
   "source": [
    "14. What is the difference between .*? and .*?"
   ]
  },
  {
   "cell_type": "markdown",
   "id": "3ae883eb",
   "metadata": {},
   "source": [
    "In regular expressions, the * and ? characters have different meanings depending on how they are used. The .* pattern matches any character zero or more times, while .*? is a non-greedy version of .*, which matches any character zero or more times, but stops at the first possible match.\n",
    "\n",
    "The * character is a quantifier, which means it matches zero or more instances of the preceding character or group. The ? character is used to make the preceding quantifier non-greedy, which means it matches as few characters as possible."
   ]
  },
  {
   "cell_type": "markdown",
   "id": "f67c7bc3",
   "metadata": {},
   "source": [
    "15. What is the syntax for matching both numbers and lowercase letters with a character class?"
   ]
  },
  {
   "cell_type": "markdown",
   "id": "b33d27cf",
   "metadata": {},
   "source": [
    "This character class matches any single character that is either a digit from 0 to 9 or a lowercase letter from a to z. The - character is used to indicate a range of characters in the character class."
   ]
  },
  {
   "cell_type": "markdown",
   "id": "7b1dcc4c",
   "metadata": {},
   "source": [
    "16. What is the procedure for making a normal expression in regax case insensitive?"
   ]
  },
  {
   "cell_type": "markdown",
   "id": "3da3bc09",
   "metadata": {},
   "source": [
    "To make a regular expression case insensitive in Python, you can use the re.IGNORECASE or re.I flag in the re.compile() function or in the re.search(), re.match(), re.findall(), and other similar functions."
   ]
  },
  {
   "cell_type": "markdown",
   "id": "9b185830",
   "metadata": {},
   "source": [
    "17. What does the . character normally match? What does it match if re.DOTALL is passed as 2nd\n",
    "argument in re.compile()?"
   ]
  },
  {
   "cell_type": "markdown",
   "id": "f362e733",
   "metadata": {},
   "source": [
    "In regular expressions, the . (dot) character normally matches any character except for a newline (\\n) character. This means that the dot character will match any single character, such as letters, digits, whitespace, punctuation, and special characters, except for a newline.\n",
    "\n",
    "If the re.DOTALL or re.S flag is passed as the second argument to the re.compile() function, the dot character will match any character, including a newline character. This flag changes the behavior of the dot character to be more inclusive, making it easier to match multiline strings."
   ]
  },
  {
   "cell_type": "markdown",
   "id": "86c4751b",
   "metadata": {},
   "source": [
    "18. If numReg = re.compile(r'\\d+'), what will numRegex.sub('X', '11 drummers, 10 pipers, five rings, 4 hen') return?"
   ]
  },
  {
   "cell_type": "markdown",
   "id": "71f3e685",
   "metadata": {},
   "source": [
    "If numRegex = re.compile(r'\\d+'), then numRegex.sub('X', '11 drummers, 10 pipers, five rings, 4 hen') will replace all occurrences of one or more digits in the input string with the string 'X'.\n",
    "\n",
    "In this output string, the digits '11', '10', and '4' have been replaced with the letter 'X', while the string 'five rings' has been left untouched because it does not contain any digits."
   ]
  },
  {
   "cell_type": "markdown",
   "id": "e371b776",
   "metadata": {},
   "source": [
    "19. What does passing re.VERBOSE as the 2nd argument to re.compile() allow to do?"
   ]
  },
  {
   "cell_type": "markdown",
   "id": "bd45e5f2",
   "metadata": {},
   "source": [
    "Passing re.VERBOSE as the second argument to re.compile() allows you to create a regular expression pattern with verbose mode, which can make the pattern more readable and easier to understand."
   ]
  },
  {
   "cell_type": "markdown",
   "id": "a0115ee2",
   "metadata": {},
   "source": [
    "20. How would you write a regex that match a number with comma for every three digits? It must match the given following:\n",
    "'42'\n",
    "'1,234'\n",
    "'6,368,745'\n",
    "but not the following:\n",
    "'12,34,567' (which has only two digits between the commas)\n",
    "'1234' (which lacks commas)\n",
    "\n"
   ]
  },
  {
   "cell_type": "markdown",
   "id": "6782ea90",
   "metadata": {},
   "source": [
    "To match a number with commas for every three digits, you can use the following regular expression:\n",
    "\n",
    "(^\\d{1,3}(,\\d{3})*$)\n",
    "\n",
    "This regular expression matches a string that starts with one to three digits (\\d{1,3}), followed by zero or more groups of a comma followed by three digits (,\\d{3})*. The entire string must match, so the pattern is anchored with ^ at the start and $ at the end.\n"
   ]
  },
  {
   "cell_type": "markdown",
   "id": "149d0514",
   "metadata": {},
   "source": [
    "21. How would you write a regex that matches the full name of someone whose last name is Watanabe? You can assume that the first name that comes before it will always be one word that begins with a capital letter. The regex must match the following:\n",
    "\n",
    "'Haruto Watanabe'\n",
    "\n",
    "'Alice Watanabe'\n",
    "\n",
    "'RoboCop Watanabe'\n",
    "\n",
    "but not the following:\n",
    "\n",
    "'haruto Watanabe' (where the first name is not capitalized)\n",
    "\n",
    "'Mr. Watanabe' (where the preceding word has a nonletter character)\n",
    "\n",
    "'Watanabe' (which has no first name)\n",
    "\n",
    "'Haruto watanabe' (where Watanabe is not capitalized)\n"
   ]
  },
  {
   "cell_type": "markdown",
   "id": "d65b3bfb",
   "metadata": {},
   "source": [
    "To match the full name of someone whose last name is Watanabe, with the first name being a single capitalized word, we can use the following regex:\n",
    "\n",
    "r'[A-Z][a-zA-Z]* Watanabe'\n",
    "\n",
    "\n",
    "[A-Z] matches the first letter of the first name, which must be a capital letter.\n",
    "[a-zA-Z]* matches zero or more letters of the first name, which can be either uppercase or lowercase.\n",
    "(a space) matches the space between the first and last name.\n",
    "Watanabe matches the last name exactly."
   ]
  },
  {
   "cell_type": "markdown",
   "id": "9dae2199",
   "metadata": {},
   "source": [
    "22. How would you write a regex that matches a sentence where the first word is either Alice, Bob, or Carol; the second word is either eats, pets, or throws; the third word is apples, cats, or baseballs; and the sentence ends with a period? This regex should be case-insensitive. It must match the following:\n",
    "\n",
    "'Alice eats apples.'\n",
    "\n",
    "'Bob pets cats.'\n",
    "\n",
    "'Carol throws baseballs.'\n",
    "\n",
    "'Alice throws Apples.'\n",
    "\n",
    "'BOB EATS CATS.'\n",
    "\n",
    "but not the following:\n",
    "\n",
    "'RoboCop eats apples.'\n",
    "\n",
    "'ALICE THROWS FOOTBALLS.'\n",
    "\n",
    "'Carol eats 7 cats.'\n"
   ]
  },
  {
   "cell_type": "code",
   "execution_count": 5,
   "id": "a183308a",
   "metadata": {},
   "outputs": [
    {
     "data": {
      "text/plain": [
       "re.compile(r'^(Alice|Bob|Carol)\\s+(eats|pets|throws)\\s+(apples|cats|baseballs)\\.$',\n",
       "re.IGNORECASE|re.UNICODE)"
      ]
     },
     "execution_count": 5,
     "metadata": {},
     "output_type": "execute_result"
    }
   ],
   "source": [
    "import re\n",
    "\n",
    "regex = re.compile(r'^(Alice|Bob|Carol)\\s+(eats|pets|throws)\\s+(apples|cats|baseballs)\\.$', re.IGNORECASE)\n",
    "regex\n"
   ]
  },
  {
   "cell_type": "markdown",
   "id": "3ad34317",
   "metadata": {},
   "source": [
    "^: matches the start of the line\n",
    "(Alice|Bob|Carol): matches either \"Alice\", \"Bob\", or \"Carol\"\n",
    "\\s+: matches one or more whitespace characters\n",
    "(eats|pets|throws): matches either \"eats\", \"pets\", or \"throws\"\n",
    "\\s+: matches one or more whitespace characters\n",
    "(apples|cats|baseballs): matches either \"apples\", \"cats\", or \"baseballs\"\n",
    "\\.: matches a period character at the end of the line\n",
    "$: matches the end of the line\n",
    "re.IGNORECASE: makes the pattern case-insensitive"
   ]
  }
 ],
 "metadata": {
  "kernelspec": {
   "display_name": "Python 3 (ipykernel)",
   "language": "python",
   "name": "python3"
  },
  "language_info": {
   "codemirror_mode": {
    "name": "ipython",
    "version": 3
   },
   "file_extension": ".py",
   "mimetype": "text/x-python",
   "name": "python",
   "nbconvert_exporter": "python",
   "pygments_lexer": "ipython3",
   "version": "3.9.13"
  }
 },
 "nbformat": 4,
 "nbformat_minor": 5
}
