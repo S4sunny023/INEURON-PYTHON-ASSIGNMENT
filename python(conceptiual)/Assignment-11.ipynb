{
 "cells": [
  {
   "cell_type": "markdown",
   "id": "979976f9",
   "metadata": {},
   "source": [
    "1. Create an assert statement that throws an AssertionError if the variable spam is a negative\n",
    "integer."
   ]
  },
  {
   "cell_type": "markdown",
   "id": "83d8defa",
   "metadata": {},
   "source": [
    "Here's an example of an assert statement that would raise an AssertionError if the variable \"spam\" is a negative integer:\n",
    "\n",
    "assert spam >= 0, \"spam must be a non-negative integer\"\n"
   ]
  },
  {
   "cell_type": "markdown",
   "id": "10b79859",
   "metadata": {},
   "source": [
    "2. Write an assert statement that triggers an AssertionError if the variables eggs and bacon contain strings that are the same as each other, even if their cases are different (that is, 'hello' and 'hello' are considered the same, and 'goodbye' and 'GOODbye' are also considered the same)."
   ]
  },
  {
   "cell_type": "markdown",
   "id": "fee024ff",
   "metadata": {},
   "source": [
    "assert eggs.lower() != bacon.lower(), \"eggs and bacon cannot have the same value (case-insensitive)\"\n"
   ]
  },
  {
   "cell_type": "markdown",
   "id": "3657423c",
   "metadata": {},
   "source": [
    "3. Create an assert statement that throws an AssertionError every time."
   ]
  },
  {
   "cell_type": "markdown",
   "id": "6cdbede0",
   "metadata": {},
   "source": [
    "Here's an example of an assert statement that will always raise an AssertionError:\n",
    "\n",
    "\n",
    "\n",
    "assert False, \"This assertion always raises an error\"\n"
   ]
  },
  {
   "cell_type": "markdown",
   "id": "a029c316",
   "metadata": {},
   "source": [
    "4. What are the two lines that must be present in your software in order to call logging.debug()?"
   ]
  },
  {
   "cell_type": "markdown",
   "id": "7742f723",
   "metadata": {},
   "source": [
    "In order to call logging.debug() in your software, you need to include two lines:\n",
    "\n",
    "Import the logging module at the beginning of your file.\n",
    "\n",
    "Add a logging configuration that sets the logging level to \"DEBUG\" or lower. This can be done using the basicConfig() method from the logging module, which should be called before you call logging.debug(). For example:\n",
    "\n"
   ]
  },
  {
   "cell_type": "code",
   "execution_count": 3,
   "id": "36fc1f6d",
   "metadata": {},
   "outputs": [],
   "source": [
    "import logging\n",
    "logging.basicConfig(level=logging.DEBUG)\n"
   ]
  },
  {
   "cell_type": "markdown",
   "id": "fb5ec3e2",
   "metadata": {},
   "source": [
    "5. What are the two lines that your program must have in order to have logging.debug() send a logging message to a file named programLog.txt?"
   ]
  },
  {
   "cell_type": "markdown",
   "id": "d3fb4e21",
   "metadata": {},
   "source": [
    "To have logging.debug() send a logging message to a file named programLog.txt, you need to include the following two lines in your code:\n",
    "\n",
    "Import the logging module at the beginning of your file:\n",
    "\n",
    "Configure the logging module to write messages to the file programLog.txt. This can be done by calling the basicConfig() method with the following parameters:"
   ]
  },
  {
   "cell_type": "code",
   "execution_count": 4,
   "id": "1cc45a18",
   "metadata": {},
   "outputs": [],
   "source": [
    "import logging\n",
    "logging.basicConfig(filename='programLog.txt', level=logging.DEBUG)\n"
   ]
  },
  {
   "cell_type": "markdown",
   "id": "26b550fc",
   "metadata": {},
   "source": [
    "6. What are the five levels of logging?"
   ]
  },
  {
   "cell_type": "markdown",
   "id": "3c6b6792",
   "metadata": {},
   "source": [
    "There are five levels of logging in the Python logging module, in order of increasing severity:\n",
    "\n",
    "DEBUG: Detailed information, typically of interest only when diagnosing problems.\n",
    "\n",
    "INFO: Confirmation that things are working as expected.\n",
    "\n",
    "WARNING: An indication that something unexpected happened or indicative of some problem in the near future (e.g., 'disk space low'). The software is still working as expected.\n",
    "\n",
    "ERROR: Due to a more serious problem, the software has not been able to perform some function.\n",
    "\n",
    "CRITICAL: A very serious error, indicating that the program itself may be unable to continue running.\n",
    "\n",
    "When logging a message, you can specify the severity level using the appropriate method for that level, such as logging.debug(), logging.info(), logging.warning(), logging.error(), or logging.critical(). By default, the logging module only displays messages with a severity level of WARNING or higher."
   ]
  },
  {
   "cell_type": "markdown",
   "id": "8783e95e",
   "metadata": {},
   "source": [
    "7. What line of code would you add to your software to disable all logging messages?"
   ]
  },
  {
   "cell_type": "markdown",
   "id": "2e04f6f1",
   "metadata": {},
   "source": [
    "logging.disable(logging.CRITICAL)\n"
   ]
  },
  {
   "cell_type": "markdown",
   "id": "a34e4968",
   "metadata": {},
   "source": [
    "8.Why is using logging messages better than using print() to display the same message?"
   ]
  },
  {
   "cell_type": "markdown",
   "id": "27a252b0",
   "metadata": {},
   "source": [
    "The Step Over, Step In, and Step Out buttons are commonly found in debuggers and are used to control the flow of execution during debugging. Here are the differences between these three buttons:\n",
    "\n",
    "Step Over: This button executes the current line of code and moves to the next line, without stopping in any functions or methods that are called on that line. If the current line contains a function or method call, that function or method is executed in its entirety, but the debugger does not stop on any lines within that function or method.\n",
    "\n",
    "Step In: This button executes the current line of code and stops on the first line of any function or method called on that line. If the current line does not contain a function or method call, it behaves the same as the Step Over button.\n",
    "\n",
    "Step Out: This button stops execution in the current function or method and continues execution until the end of that function or method is reached. It then stops again, allowing you to continue debugging from that point."
   ]
  },
  {
   "cell_type": "markdown",
   "id": "6ece6f77",
   "metadata": {},
   "source": [
    "10.After you click Continue, when will the debugger stop ?"
   ]
  },
  {
   "cell_type": "markdown",
   "id": "ea29afe5",
   "metadata": {},
   "source": [
    "When you click the \"Continue\" button in a debugger, it will continue executing your code without stopping until one of the following events occurs:\n",
    "\n",
    "A breakpoint is encountered: If you have set a breakpoint in your code, the debugger will stop at that breakpoint and allow you to continue debugging from that point.\n",
    "\n",
    "An exception is raised: If an unhandled exception is raised during execution, the debugger will stop and allow you to examine the exception and its traceback.\n",
    "\n",
    "The program completes execution: If the program completes execution without encountering any breakpoints or unhandled exceptions, the debugger will stop at the end of the program.\n",
    "\n",
    "Therefore, clicking the \"Continue\" button allows your program to run uninterrupted until it reaches a point of interest, such as a breakpoint or an exception."
   ]
  },
  {
   "cell_type": "markdown",
   "id": "4eca8736",
   "metadata": {},
   "source": [
    "11. What is the concept of a breakpoint?"
   ]
  },
  {
   "cell_type": "markdown",
   "id": "10f27c98",
   "metadata": {},
   "source": [
    "A breakpoint is typically set on a specific line of code or function, and when the program reaches that point, it will stop and allow the developer to examine the program's state at that moment. This includes the values of variables, the call stack, and other runtime information. Once the program is paused at the breakpoint, the developer can step through the code line by line, inspecting and modifying variables as needed, and using other debugging tools to diagnose and fix any issues.\n",
    "\n",
    "Breakpoints are commonly used during software development to debug complex or problematic code, and they are available in most integrated development environments (IDEs) and debugging tools."
   ]
  },
  {
   "cell_type": "code",
   "execution_count": null,
   "id": "1596c3a8",
   "metadata": {},
   "outputs": [],
   "source": []
  },
  {
   "cell_type": "code",
   "execution_count": null,
   "id": "9e28ca1c",
   "metadata": {},
   "outputs": [],
   "source": []
  },
  {
   "cell_type": "code",
   "execution_count": null,
   "id": "530008fe",
   "metadata": {},
   "outputs": [],
   "source": []
  },
  {
   "cell_type": "code",
   "execution_count": null,
   "id": "abf79cf2",
   "metadata": {},
   "outputs": [],
   "source": []
  }
 ],
 "metadata": {
  "kernelspec": {
   "display_name": "Python 3 (ipykernel)",
   "language": "python",
   "name": "python3"
  },
  "language_info": {
   "codemirror_mode": {
    "name": "ipython",
    "version": 3
   },
   "file_extension": ".py",
   "mimetype": "text/x-python",
   "name": "python",
   "nbconvert_exporter": "python",
   "pygments_lexer": "ipython3",
   "version": "3.9.13"
  }
 },
 "nbformat": 4,
 "nbformat_minor": 5
}
