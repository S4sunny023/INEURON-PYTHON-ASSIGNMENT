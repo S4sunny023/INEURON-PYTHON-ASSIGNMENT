{
 "cells": [
  {
   "cell_type": "markdown",
   "id": "bf61fcf2",
   "metadata": {},
   "source": [
    "1. How do you distinguish between shutil.copy() and shutil.copytree()?"
   ]
  },
  {
   "cell_type": "markdown",
   "id": "fd02ed01",
   "metadata": {},
   "source": [
    "shutil.copy() and shutil.copytree() are both functions in the Python shutil module used for file operations.\n",
    "\n",
    "The shutil.copy() function is used to copy a single file from one location to another. It takes two arguments:the source path of the file to be copied and the destination path where the file will be copied to.\n",
    "\n",
    " shutil.copytree() is used to recursively copy a directory and its contents from one location to another. It takes two arguments: the source path of the directory to be copied and the destination path where the directory will be copied to. If the destination path does not exist, it will be created."
   ]
  },
  {
   "cell_type": "markdown",
   "id": "a69d7bea",
   "metadata": {},
   "source": [
    "2. What function is used to rename files??"
   ]
  },
  {
   "cell_type": "markdown",
   "id": "87eb95a5",
   "metadata": {},
   "source": [
    "The os.rename() function is used to rename files in Python. It is part of the built-in os module and takes two arguments: the current name of the file and the new name that the file should be renamed to."
   ]
  },
  {
   "cell_type": "markdown",
   "id": "bdd903c9",
   "metadata": {},
   "source": [
    "3. What is the difference between the delete functions in the send2trash and shutil modules?"
   ]
  },
  {
   "cell_type": "markdown",
   "id": "bc18bbb1",
   "metadata": {},
   "source": [
    "The send2trash module provides a send2trash() function that sends files or directories to the operating system's trash or recycle bin instead of deleting them permanently. This function takes a file or directory path as an argument and moves it to the trash bin, so it can be restored later if necessary. The send2trash function is a safer alternative to os.remove() or shutil.rmtree() since it allows files to be recovered from the trash can, in case they were deleted by mistake."
   ]
  },
  {
   "cell_type": "markdown",
   "id": "efe7c69b",
   "metadata": {},
   "source": [
    "4.ZipFile objects have a close() method just like File objects’ close() method. What ZipFile method is\n",
    "equivalent to File objects’ open() method?"
   ]
  },
  {
   "cell_type": "markdown",
   "id": "12945038",
   "metadata": {},
   "source": [
    "The ZipFile() method is used to open a ZIP archive and returns a ZipFile object, which can be used to read, write or extract the files in the archive. The ZipFile() method takes two arguments: the path to the ZIP archive and the mode in which the archive should be opened, which can be 'r' for read-only, 'w' for write-only, 'x' for exclusive creation, or 'a' for appending to an existing ZIP archive."
   ]
  },
  {
   "cell_type": "markdown",
   "id": "630a4687",
   "metadata": {},
   "source": [
    "5. Create a programme that searches a folder tree for files with a certain file extension (such as .pdf\n",
    "or .jpg). Copy these files from whatever location they are in to a new folder."
   ]
  },
  {
   "cell_type": "code",
   "execution_count": null,
   "id": "5212116c",
   "metadata": {},
   "outputs": [],
   "source": [
    "import os\n",
    "import shutil\n",
    "\n",
    "src_folder = 'C:/Users/username/Folder'\n",
    "extension = '.pdf'\n",
    "\n",
    "dest_folder = 'C:/Users/username/NewFolder'\n",
    "\n",
    "if not os.path.exists(dest_folder):\n",
    "    os.makedirs(dest_folder)\n",
    "\n",
    "\n",
    "for root, dirs, files in os.walk(src_folder):\n",
    "    for file in files:\n",
    "        if file.endswith(extension):\n",
    "            src_path = os.path.join(root, file)\n",
    "            dest_path = os.path.join(dest_folder, file)\n",
    "            shutil.copy(src_path, dest_path)\n",
    "            print(f\"Copied file: {src_path} to {dest_path}\")"
   ]
  },
  {
   "cell_type": "code",
   "execution_count": null,
   "id": "6d462697",
   "metadata": {},
   "outputs": [],
   "source": []
  },
  {
   "cell_type": "code",
   "execution_count": null,
   "id": "fd6aee3f",
   "metadata": {},
   "outputs": [],
   "source": []
  },
  {
   "cell_type": "code",
   "execution_count": null,
   "id": "5a64fe49",
   "metadata": {},
   "outputs": [],
   "source": []
  },
  {
   "cell_type": "code",
   "execution_count": null,
   "id": "3b7f6091",
   "metadata": {},
   "outputs": [],
   "source": []
  },
  {
   "cell_type": "code",
   "execution_count": null,
   "id": "216018da",
   "metadata": {},
   "outputs": [],
   "source": []
  },
  {
   "cell_type": "code",
   "execution_count": null,
   "id": "81c3b514",
   "metadata": {},
   "outputs": [],
   "source": []
  },
  {
   "cell_type": "code",
   "execution_count": null,
   "id": "1a700608",
   "metadata": {},
   "outputs": [],
   "source": []
  }
 ],
 "metadata": {
  "kernelspec": {
   "display_name": "Python 3 (ipykernel)",
   "language": "python",
   "name": "python3"
  },
  "language_info": {
   "codemirror_mode": {
    "name": "ipython",
    "version": 3
   },
   "file_extension": ".py",
   "mimetype": "text/x-python",
   "name": "python",
   "nbconvert_exporter": "python",
   "pygments_lexer": "ipython3",
   "version": "3.9.13"
  }
 },
 "nbformat": 4,
 "nbformat_minor": 5
}
