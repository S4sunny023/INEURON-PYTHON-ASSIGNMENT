{
 "cells": [
  {
   "cell_type": "markdown",
   "id": "b3a50feb",
   "metadata": {},
   "source": [
    "1. In what modes should the PdfFileReader() and PdfFileWriter() File objects will be opened?"
   ]
  },
  {
   "cell_type": "markdown",
   "id": "ef436df8",
   "metadata": {},
   "source": [
    "When using the PdfFileReader() and PdfFileWriter() classes from the PyPDF2 library in Python, the file objects should be opened in the binary mode. This is because PDF files are binary files, and reading or writing them in text mode may result in unexpected behavior or errors."
   ]
  },
  {
   "cell_type": "markdown",
   "id": "78a318d3",
   "metadata": {},
   "source": [
    "2. From a PdfFileReader object, how do you get a Page object for page 5?"
   ]
  },
  {
   "cell_type": "markdown",
   "id": "53c5e1bc",
   "metadata": {},
   "source": [
    "pdf_reader = PdfFileReader('example.pdf')\n",
    "\n",
    "\n",
    "page_five = pdf_reader.getPage(4)\n"
   ]
  },
  {
   "cell_type": "markdown",
   "id": "83c65036",
   "metadata": {},
   "source": [
    "3. What PdfFileReader variable stores the number of pages in the PDF document?"
   ]
  },
  {
   "cell_type": "markdown",
   "id": "7e92446d",
   "metadata": {},
   "source": [
    "pdf_reader = PdfFileReader('example.pdf')\n",
    "\n",
    "\n",
    "num_pages = pdf_reader.numPages\n"
   ]
  },
  {
   "cell_type": "markdown",
   "id": "7ad24e8d",
   "metadata": {},
   "source": [
    "4. If a PdfFileReader object’s PDF is encrypted with the password swordfish, what must you do\n",
    "before you can obtain Page objects from it?"
   ]
  },
  {
   "cell_type": "markdown",
   "id": "5a7ff477",
   "metadata": {},
   "source": [
    "pdf_reader = PdfFileReader('encrypted_file.pdf')\n",
    "\n",
    "if pdf_reader.isEncrypted:\n",
    "\n",
    "    pdf_reader.decrypt('xyz')\n"
   ]
  },
  {
   "cell_type": "markdown",
   "id": "ee13e33e",
   "metadata": {},
   "source": [
    "5. What methods do you use to rotate a page?"
   ]
  },
  {
   "cell_type": "code",
   "execution_count": null,
   "id": "f2deb6e4",
   "metadata": {},
   "outputs": [],
   "source": [
    "from PyPDF2 import PdfFileReader, PdfFileWriter\n",
    "\n",
    "input_pdf = open('example.pdf', 'rb')\n",
    "pdf_reader = PdfFileReader(input_pdf)\n",
    "\n",
    "\n",
    "page = pdf_reader.getPage(0)\n",
    "page.rotateClockwise(90)\n",
    "\n",
    "\n",
    "pdf_writer = PdfFileWriter()\n",
    "pdf_writer.addPage(page)\n",
    "\n",
    "\n",
    "output_pdf = open('output.pdf', 'wb')\n",
    "pdf_writer.write(output_pdf)\n",
    "\n",
    "\n",
    "input_pdf.close()\n",
    "output_pdf.close()\n"
   ]
  },
  {
   "cell_type": "markdown",
   "id": "86373ee8",
   "metadata": {},
   "source": [
    "6. What is the difference between a Run object and a Paragraph object?"
   ]
  },
  {
   "cell_type": "markdown",
   "id": "9dc0577f",
   "metadata": {},
   "source": [
    "A Paragraph object is used to represent a block of text with common formatting, such as font style, size, and color. It is a container for Run objects, which represent contiguous ranges of text within the paragraph that have the same formatting. The Paragraph object can have its own formatting, such as alignment, indentation, and line spacing.\n",
    "\n",
    "Run object represents a contiguous range of text within a Paragraph object that has the same formatting. It is the smallest unit of text that can have formatting applied to it. Each Run object can have its own formatting, such as bold, italic, underline, strikethrough, and font color."
   ]
  },
  {
   "cell_type": "markdown",
   "id": "7e792918",
   "metadata": {},
   "source": [
    "7. How do you obtain a list of Paragraph objects for a Document object that’s stored in a variable\n",
    "named doc?"
   ]
  },
  {
   "cell_type": "markdown",
   "id": "868e4929",
   "metadata": {},
   "source": [
    "To obtain a list of Paragraph objects for a Document object stored in a variable named doc using the python-docx library, you can use the paragraphs attribute of the Document object. The paragraphs attribute returns a list of all the Paragraph objects in the document, in the order in which they appear."
   ]
  },
  {
   "cell_type": "code",
   "execution_count": null,
   "id": "fdd3a223",
   "metadata": {},
   "outputs": [],
   "source": [
    "from docx import Document\n",
    "doc = Document('example.docx')\n",
    "paragraphs = doc.paragraphs\n",
    "for paragraph in paragraphs:\n",
    "    print(paragraph.text)\n"
   ]
  },
  {
   "cell_type": "markdown",
   "id": "3d0b4843",
   "metadata": {},
   "source": [
    "8. What type of object has bold, underline, italic, strike, and outline variables?"
   ]
  },
  {
   "cell_type": "code",
   "execution_count": null,
   "id": "ef33cde8",
   "metadata": {},
   "outputs": [],
   "source": [
    " the Run object has bold, underline, italic, strike, and outline variables.\n",
    "# Apply formatting to the run\n",
    "run.bold = True\n",
    "run.underline = WD_UNDERLINE.SINGLE\n",
    "run.italic = True\n",
    "run.strike = True\n",
    "run.font.outline = True"
   ]
  },
  {
   "cell_type": "markdown",
   "id": "c0642343",
   "metadata": {},
   "source": [
    "9. What is the difference between False, True, and None for the bold variable?"
   ]
  },
  {
   "cell_type": "markdown",
   "id": "b675d088",
   "metadata": {},
   "source": [
    "True: Setting the bold variable to True will make the text in the Run object appear in bold.\n",
    "False: Setting the bold variable to False will make the text in the Run object appear in normal (non-bold) font.\n",
    "None: If the bold variable is set to None, the text in the Run object will inherit the bold setting of its parent style. If the parent style is set to bold, the text will appear in bold; if the parent style is not set to bold, the text will not appear in bold."
   ]
  },
  {
   "cell_type": "markdown",
   "id": "0481ed14",
   "metadata": {},
   "source": [
    "10. How do you create a Document object for a new Word document?"
   ]
  },
  {
   "cell_type": "code",
   "execution_count": null,
   "id": "2a4dd3ca",
   "metadata": {},
   "outputs": [],
   "source": [
    "from docx import Document\n",
    "document = Document()\n",
    "paragraph = document.add_paragraph('This is a new document.')\n",
    "\n",
    "document.save('new_document.docx')\n"
   ]
  },
  {
   "cell_type": "markdown",
   "id": "6a338d7e",
   "metadata": {},
   "source": [
    "11. How do you add a paragraph with the text &#39;Hello, there!&#39; to a Document object stored in a\n",
    "variable named doc?"
   ]
  },
  {
   "cell_type": "code",
   "execution_count": null,
   "id": "1ccad910",
   "metadata": {},
   "outputs": [],
   "source": [
    "from docx import Document\n",
    "\n",
    "doc = Document()\n",
    "doc.add_paragraph('Hello, there!')\n",
    "\n",
    "doc.save('my_document.docx')\n"
   ]
  },
  {
   "cell_type": "markdown",
   "id": "7d56852e",
   "metadata": {},
   "source": [
    "12. What integers represent the levels of headings available in Word documents?"
   ]
  },
  {
   "cell_type": "markdown",
   "id": "b96404ee",
   "metadata": {},
   "source": [
    "In Word documents, the following integers represent the levels of headings available:\n",
    "\n",
    "Level 1: 0\n",
    "Level 2: 1\n",
    "Level 3: 2\n",
    "Level 4: 3\n",
    "Level 5: 4\n",
    "Level 6: 5\n",
    "Level 7: 6\n",
    "Level 8: 7\n",
    "Level 9: 8"
   ]
  },
  {
   "cell_type": "code",
   "execution_count": null,
   "id": "d29348dc",
   "metadata": {},
   "outputs": [],
   "source": []
  }
 ],
 "metadata": {
  "kernelspec": {
   "display_name": "Python 3 (ipykernel)",
   "language": "python",
   "name": "python3"
  },
  "language_info": {
   "codemirror_mode": {
    "name": "ipython",
    "version": 3
   },
   "file_extension": ".py",
   "mimetype": "text/x-python",
   "name": "python",
   "nbconvert_exporter": "python",
   "pygments_lexer": "ipython3",
   "version": "3.9.13"
  }
 },
 "nbformat": 4,
 "nbformat_minor": 5
}
