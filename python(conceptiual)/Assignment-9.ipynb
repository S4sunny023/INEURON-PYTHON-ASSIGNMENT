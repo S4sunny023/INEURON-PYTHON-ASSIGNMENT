{
 "cells": [
  {
   "cell_type": "markdown",
   "id": "fc4aa067",
   "metadata": {},
   "source": [
    "1. To what does a relative path refer?"
   ]
  },
  {
   "cell_type": "markdown",
   "id": "ef49495d",
   "metadata": {},
   "source": [
    "A relative path refers to a file or directory path that is expressed in relation to the current working directory of the user or application. It specifies the location of a file or directory in relation to the current directory, rather than the root directory of the file system."
   ]
  },
  {
   "cell_type": "markdown",
   "id": "1ce2e11f",
   "metadata": {},
   "source": [
    "2. What does an absolute path start with your operating system?"
   ]
  },
  {
   "cell_type": "markdown",
   "id": "b93c4424",
   "metadata": {},
   "source": [
    "An absolute path starts with the root directory of the file system in the operating system.\n",
    "\n",
    "In Windows operating system, an absolute path typically starts with a drive letter followed by a colon, such as \"C:\" for the primary hard drive. For example, an absolute path to a file located in the \"Program Files\" folder of the primary hard drive might be \"C:\\Program Files\\filename.txt\"."
   ]
  },
  {
   "cell_type": "markdown",
   "id": "6ad5bdb4",
   "metadata": {},
   "source": [
    "3. What do the functions os.getcwd() and os.chdir() do?"
   ]
  },
  {
   "cell_type": "markdown",
   "id": "4392cb92",
   "metadata": {},
   "source": [
    "The functions os.getcwd() and os.chdir() are related to managing the current working directory of a Python program using the os module.\n",
    "\n",
    "os.getcwd(): This function returns a string representing the current working directory of the Python program. It does not take any argument.\n",
    "\n",
    "os.chdir(path): This function changes the current working directory of the Python program to the specified path. The path parameter is a string representing the new directory path.\n"
   ]
  },
  {
   "cell_type": "markdown",
   "id": "ced21ea5",
   "metadata": {},
   "source": [
    "4. What are the . and .. folders?"
   ]
  },
  {
   "cell_type": "markdown",
   "id": "3513c1e0",
   "metadata": {},
   "source": [
    "The . and .. folders are special folders used in file systems to represent the current directory and the parent directory, respectively.\n",
    "\n",
    "The . folder: It refers to the current directory. It is often used to indicate the current location in a file system. For example, when running a command in the terminal, ./ is used to indicate the current directory.\n",
    "\n",
    "The .. folder: It refers to the parent directory of the current directory. It is often used to navigate to a directory's parent directory. For example, when navigating to the parent directory of the current directory in the terminal, cd .. is used."
   ]
  },
  {
   "cell_type": "markdown",
   "id": "99d7fa88",
   "metadata": {},
   "source": [
    "5. In C:\\bacon\\eggs\\spam.txt, which part is the dir name, and which part is the base name?"
   ]
  },
  {
   "cell_type": "markdown",
   "id": "7dccb47d",
   "metadata": {},
   "source": [
    "In the file path \"C:\\bacon\\eggs\\spam.txt\":\n",
    "\n",
    "\"C:\" is the drive name or root directory of the file system.\n",
    "\n",
    "\"bacon\\eggs\" is the directory name. It represents a directory named \"eggs\" located within a directory named \"bacon\".\n",
    "\n",
    "\"spam.txt\" is the base name. It represents the actual file name with its extension.\n",
    "\n",
    "Therefore, the directory name in the file path is \"bacon\\eggs\" and the base name is \"spam.txt\"."
   ]
  },
  {
   "cell_type": "markdown",
   "id": "69d6a2b6",
   "metadata": {},
   "source": [
    "6. What are the three “mode” arguments that can be passed to the open() function?"
   ]
  },
  {
   "cell_type": "markdown",
   "id": "6f4cf123",
   "metadata": {},
   "source": [
    "There are three main modes that can be passed as arguments to the open() function:\n",
    "\n",
    "'r' (read mode): This mode is used for reading the contents of an existing file. If the file does not exist, it will raise an error.\n",
    "\n",
    "'w' (write mode): This mode is used for creating a new file or overwriting the contents of an existing file. If the file does not exist, it will be created. If it exists, the existing contents will be overwritten with the new data.\n",
    "\n",
    "'a' (append mode): This mode is used for appending new data to the end of an existing file. If the file does not exist, it will be created."
   ]
  },
  {
   "cell_type": "markdown",
   "id": "7737c5fa",
   "metadata": {},
   "source": [
    "7. What happens if an existing file is opened in write mode?"
   ]
  },
  {
   "cell_type": "markdown",
   "id": "19b39ac4",
   "metadata": {},
   "source": [
    "If an existing file is opened in write mode ('w'), the contents of the file are overwritten with the new data that is written to it. If the file does not exist, a new file with the specified name will be created.\n",
    "\n",
    "Therefore, if you open an existing file in write mode and write some data to it, the existing data in the file will be completely replaced with the new data. This means that any data previously stored in the file will be lost."
   ]
  },
  {
   "cell_type": "markdown",
   "id": "638e58d7",
   "metadata": {},
   "source": [
    "8. How do you tell the difference between read() and readlines()?"
   ]
  },
  {
   "cell_type": "markdown",
   "id": "b1e9e4ce",
   "metadata": {},
   "source": [
    "The read() and readlines() are both methods of a file object in Python, but they work differently:\n",
    "\n",
    "read() method: This method reads the entire content of a file and returns it as a string. If you pass an argument to read(), it will read the specified number of characters from the file. If no argument is specified, it will read the entire file.\n",
    "\n",
    "readlines() method: This method reads all the lines of a file and returns them as a list of strings. Each string in the list represents a line from the file, including the newline character (\\n).\n",
    "\n",
    "In summary, the read() method reads the entire file as a string, while the readlines() method reads the entire file as a list of strings, with each string representing a line from the file."
   ]
  },
  {
   "cell_type": "markdown",
   "id": "6ebe6481",
   "metadata": {},
   "source": [
    "9. What data structure does a shelf value resemble?"
   ]
  },
  {
   "cell_type": "markdown",
   "id": "c1ba1eba",
   "metadata": {},
   "source": [
    "In Python, a shelf is a persistent dictionary-like object that is used to store and retrieve Python objects. It is similar to a dictionary in that it maps keys to values, but it differs from a regular dictionary in that its contents are stored in a file on disk, allowing it to persist between program executions."
   ]
  }
 ],
 "metadata": {
  "kernelspec": {
   "display_name": "Python 3 (ipykernel)",
   "language": "python",
   "name": "python3"
  },
  "language_info": {
   "codemirror_mode": {
    "name": "ipython",
    "version": 3
   },
   "file_extension": ".py",
   "mimetype": "text/x-python",
   "name": "python",
   "nbconvert_exporter": "python",
   "pygments_lexer": "ipython3",
   "version": "3.9.13"
  }
 },
 "nbformat": 4,
 "nbformat_minor": 5
}
