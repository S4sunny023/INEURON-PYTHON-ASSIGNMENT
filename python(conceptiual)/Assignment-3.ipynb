{
 "cells": [
  {
   "cell_type": "markdown",
   "id": "0ff72052",
   "metadata": {},
   "source": [
    "1. Why are functions advantageous to have in your programs?"
   ]
  },
  {
   "cell_type": "markdown",
   "id": "bc98b335",
   "metadata": {},
   "source": [
    "Functions are advantageous to have in programs for several reasons:\n",
    "\n",
    "*Reusability: Functions allow code to be reused throughout a program or even in different programs. Once a function has been defined, it can be called as many times as needed with different arguments.\n",
    "\n",
    "*Modularity: Functions break down a program into smaller, more manageable chunks of code. Each function is responsible for a specific task, making it easier to understand and modify the program.\n",
    "\n",
    "*Abstraction: Functions can hide the implementation details of the code and provide a simpler interface for other parts of the program to use.\n",
    "\n",
    "*Debugging: Functions make it easier to debug a program. By isolating specific parts of the program in functions, it becomes easier to locate and fix errors.\n",
    "\n",
    "*Collaboration: Functions make it easier for multiple programmers to work together on a program. Each programmer can work on a different function, and they can be combined to create a larger program.\n",
    "\n",
    "*Overall, functions help to make programs more efficient, easier to understand, and easier to maintain. They promote good programming practices such as modularity and code reuse."
   ]
  },
  {
   "cell_type": "markdown",
   "id": "5a5a66e4",
   "metadata": {},
   "source": [
    "2. When does the code in a function run: when it's specified or when it's called?"
   ]
  },
  {
   "cell_type": "markdown",
   "id": "2f87a7b3",
   "metadata": {},
   "source": [
    "The code in a function runs when the function is called, not when it's specified.\n",
    "\n",
    "When a function is defined in Python, the code inside the function is not executed immediately. Instead, the function definition is simply stored in memory as an object.\n",
    "\n",
    "The code inside the function is executed only when the function is called. When the function is called, Python retrieves the function object from memory, sets up a new local namespace for the function call, executes the code inside the function, and then returns control to the calling code.\n",
    "\n",
    "So, the code in a function runs when the function is called with appropriate arguments, and not when the function is defined."
   ]
  },
  {
   "cell_type": "markdown",
   "id": "22b8a9ca",
   "metadata": {},
   "source": [
    "3. What statement creates a function?"
   ]
  },
  {
   "cell_type": "markdown",
   "id": "d863deca",
   "metadata": {},
   "source": [
    "The \"def\" statement is used to create a function in Python.\n",
    "\n",
    "*syntax:\n",
    "def function_name(parameters):\n",
    "    # Function body - contains the code to be executed when the function is called\n",
    "    # May include return statements to return values\n"
   ]
  },
  {
   "cell_type": "markdown",
   "id": "d4cc7364",
   "metadata": {},
   "source": [
    "4. What is the difference between a function and a function call?"
   ]
  },
  {
   "cell_type": "markdown",
   "id": "faf73d94",
   "metadata": {},
   "source": [
    "A function is a block of reusable code that performs a specific task. It is defined using the \"def\" keyword in Python and contains the code to be executed when the function is called. A function may accept input values called arguments or parameters and may return a value as output.\n",
    "\n",
    "A function call, on the other hand, is the code used to execute a function. It is the actual use of a function in a program to perform a specific task. When a function is called, the program jumps to the code block defined by the function and executes the code inside the function. Arguments or parameters can be passed to the function call to specify the input values for the function."
   ]
  },
  {
   "cell_type": "markdown",
   "id": "8b3b8ac8",
   "metadata": {},
   "source": [
    "5. How many global scopes are there in a Python program? How many local scopes?"
   ]
  },
  {
   "cell_type": "markdown",
   "id": "4de8951f",
   "metadata": {},
   "source": [
    "In Python, there is one global scope per program.\n",
    "\n",
    "This means that any variable or function defined at the top level of a Python program or module is in the global scope, and can be accessed from any function or code block within the program or module. The global scope is created when the program starts and lasts until the program terminates.\n",
    "When a variable is referenced in a function or code block, Python first checks the local scope to see if the variable is defined there. If the variable is not defined locally, Python then checks the global scope to see if the variable is defined there. If the variable is not defined in either scope, Python raises a NameError."
   ]
  },
  {
   "cell_type": "markdown",
   "id": "ea582547",
   "metadata": {},
   "source": [
    "6. What happens to variables in a local scope when the function call returns?"
   ]
  },
  {
   "cell_type": "markdown",
   "id": "a7cfab02",
   "metadata": {},
   "source": [
    "When a function call returns, the local scope created for that function is destroyed, and all the variables defined in that scope are deleted. This means that any variable defined in a local scope cannot be accessed outside of that scope.\n",
    "\n",
    "In other words, the lifetime of a variable in a local scope is limited to the execution of the function. Once the function has completed its execution and returns a value, the local variables are destroyed and their values are lost."
   ]
  },
  {
   "cell_type": "markdown",
   "id": "bfb94264",
   "metadata": {},
   "source": [
    "7. What is the concept of a return value? Is it possible to have a return value in an expression?"
   ]
  },
  {
   "cell_type": "markdown",
   "id": "a75b0944",
   "metadata": {},
   "source": [
    "In programming, a return value is the value that a function sends back to the code that called it. When a function is executed, it may perform some operations, manipulate data, or compute a result. The result of the function can then be returned to the calling code, where it can be used for further processing, output, or other purposes.\n",
    "\n",
    "Yes, it is possible to have a return value in an expression. In Python, a function call can be used as an expression, which means that it can be included in an assignment statement, an if statement, a while loop, or other statements that expect a value. When a function call is used as an expression, the return value of the function is used as the value of the expression"
   ]
  },
  {
   "cell_type": "markdown",
   "id": "b73ccfff",
   "metadata": {},
   "source": [
    "8. If a function does not have a return statement, what is the return value of a call to that function?"
   ]
  },
  {
   "cell_type": "markdown",
   "id": "1720df84",
   "metadata": {},
   "source": [
    "If a function does not have a return statement, the return value of a call to that function will be 'None'. This is because in Python, all functions return a value, even if no explicit return statement is provided. If a return statement is not included in the function definition, the function will implicitly return 'None' at the end of the function. Therefore, if you call a function that does not have a return statement, the result of the call will be 'None'."
   ]
  },
  {
   "cell_type": "markdown",
   "id": "d0713fb6",
   "metadata": {},
   "source": [
    "9. How do you make a function variable refer to the global variable?"
   ]
  },
  {
   "cell_type": "markdown",
   "id": "ad2a6916",
   "metadata": {},
   "source": [
    "In Python, you can use the global keyword to indicate that a variable inside a function refers to a global variable with the same name. When you use the global keyword, any assignment to the variable inside the function will affect the global variable, rather than creating a new local variable.\n",
    "\n",
    "*EXAMPLE:\n",
    "x = 10   # global variable\n",
    "\n",
    "def my_function():\n",
    "    global x   # indicate that x refers to the global variable\n",
    "    x = 5     # modify the value of the global variable\n",
    "\n",
    "print(x)    # outputs 10\n",
    "my_function()\n",
    "print(x)    # outputs 5\n"
   ]
  },
  {
   "cell_type": "markdown",
   "id": "bc02e7e6",
   "metadata": {},
   "source": [
    "10. What is the data type of None?"
   ]
  },
  {
   "cell_type": "markdown",
   "id": "a8c82991",
   "metadata": {},
   "source": [
    "In Python, None is a special data type that represents the absence of a value. It is often used to indicate that a variable or expression does not have a value. The data type of None is NoneType. It is a built-in data type in Python and there is only one instance of it, which is None\n",
    "\n",
    "*EXAMPLE:\n",
    "x = None\n",
    "print(type(x))    # outputs <class 'NoneType'>\n"
   ]
  },
  {
   "cell_type": "markdown",
   "id": "3ae1ac7a",
   "metadata": {},
   "source": [
    "11. What does the sentence import areallyourpetsnamederic do?"
   ]
  },
  {
   "cell_type": "markdown",
   "id": "9a831fb3",
   "metadata": {},
   "source": [
    "The sentence import areallyourpetsnamederic is not a valid Python import statement and would result in a ModuleNotFoundError when executed. In general, the import statement is used to import Python modules, which are files that contain Python code and can be used to organize and reuse code in a program."
   ]
  },
  {
   "cell_type": "markdown",
   "id": "0b7e2eb8",
   "metadata": {},
   "source": [
    "12. If you had a bacon() feature in a spam module, what would you call it after importing spam?"
   ]
  },
  {
   "cell_type": "markdown",
   "id": "b584ef92",
   "metadata": {},
   "source": [
    "If you had a bacon() function in a spam module, you can call it after importing spam using dot notation.\n",
    "\n",
    "Here's an example:\n",
    "\n",
    "import spam\n",
    "\n",
    "spam.bacon()\n"
   ]
  },
  {
   "cell_type": "markdown",
   "id": "b5368fb7",
   "metadata": {},
   "source": [
    "13. What can you do to save a programme from crashing if it encounters an error?"
   ]
  },
  {
   "cell_type": "markdown",
   "id": "785ecdfd",
   "metadata": {},
   "source": [
    "Use exception handling: Wrap the code that may raise an error in a try-except block. If an error occurs, the except block will catch the exception and allow you to handle the error in a more graceful way instead of crashing the program."
   ]
  },
  {
   "cell_type": "markdown",
   "id": "732b842a",
   "metadata": {},
   "source": [
    "14. What is the purpose of the try clause? What is the purpose of the except clause?"
   ]
  },
  {
   "cell_type": "markdown",
   "id": "561aabcc",
   "metadata": {},
   "source": [
    "The try clause is used to enclose a block of code that might raise an exception. The purpose of the try clause is to run the code and detect any exceptions that may occur.\n",
    "\n",
    "The except clause is used to specify what should happen if an exception occurs in the try clause. The purpose of the except clause is to catch the exception and provide an appropriate response, such as displaying an error message or logging the error. The except clause can be used to handle specific types of exceptions or all types of exceptions.\n",
    "\n",
    "Together, the try-except block allows you to handle exceptions in a controlled manner and prevent your program from crashing if an unexpected error occurs. If an exception occurs in the try block, control is passed to the except block, and the code in the except block is executed. If no exception occurs, the except block is skipped."
   ]
  }
 ],
 "metadata": {
  "kernelspec": {
   "display_name": "Python 3 (ipykernel)",
   "language": "python",
   "name": "python3"
  },
  "language_info": {
   "codemirror_mode": {
    "name": "ipython",
    "version": 3
   },
   "file_extension": ".py",
   "mimetype": "text/x-python",
   "name": "python",
   "nbconvert_exporter": "python",
   "pygments_lexer": "ipython3",
   "version": "3.9.13"
  }
 },
 "nbformat": 4,
 "nbformat_minor": 5
}
