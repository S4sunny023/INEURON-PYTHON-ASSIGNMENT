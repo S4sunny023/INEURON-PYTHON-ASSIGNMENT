{
 "cells": [
  {
   "cell_type": "markdown",
   "id": "964804a3",
   "metadata": {},
   "source": [
    "1. What does an empty dictionary's code look like?"
   ]
  },
  {
   "cell_type": "markdown",
   "id": "d3a42a6c",
   "metadata": {},
   "source": [
    "An empty dictionary in Python can be represented using a pair of curly braces {} or by calling the built-in dict() function without any arguments:\n",
    "\n",
    "Using curly braces\n",
    "my_dict = {}\n",
    "\n",
    "Using dict() function\n",
    "my_dict = dict()\n"
   ]
  },
  {
   "cell_type": "markdown",
   "id": "6ce02a4e",
   "metadata": {},
   "source": [
    "\n",
    "2. What is the value of a dictionary value with the key 'foo' and the value 42?"
   ]
  },
  {
   "cell_type": "markdown",
   "id": "1e72299b",
   "metadata": {},
   "source": [
    "If a dictionary has a key 'foo' with a value of 42, you can access the value by using the key as follows:\n",
    "\n",
    "my_dict = {'foo': 42}\n",
    "\n",
    "print(my_dict['foo'])  \n",
    "\n",
    "# Output: 42\n"
   ]
  },
  {
   "cell_type": "markdown",
   "id": "38fa6470",
   "metadata": {},
   "source": [
    "3. What is the most significant distinction between a dictionary and a list?"
   ]
  },
  {
   "cell_type": "markdown",
   "id": "5e2674ae",
   "metadata": {},
   "source": [
    "The most significant distinction between a dictionary and a list in Python is the way they store and access data.\n",
    "\n",
    "A list is an ordered collection of elements that are indexed by integers. It is a mutable data type, which means that you can modify the elements of a list. You can append, insert, remove or modify elements in a list. Lists are created using square brackets [] or the built-in list() function.\n",
    "\n",
    "On the other hand, a dictionary is an unordered collection of key-value pairs that are indexed by keys. It is a mutable data type, which means that you can modify the values of a dictionary. You can add, remove or modify key-value pairs in a dictionary. Dictionaries are created using curly braces {} or the built-in dict() function."
   ]
  },
  {
   "cell_type": "markdown",
   "id": "c6061798",
   "metadata": {},
   "source": [
    "4. What happens if you try to access spam['foo'] if spam is {'bar': 100}?"
   ]
  },
  {
   "cell_type": "markdown",
   "id": "791ca317",
   "metadata": {},
   "source": [
    "If you try to access spam['foo'] and spam is {'bar': 100}, you will get a KeyError. This is because the key 'foo' does not exist in the dictionary spam."
   ]
  },
  {
   "cell_type": "markdown",
   "id": "ba91a7b5",
   "metadata": {},
   "source": [
    "5. If a dictionary is stored in spam, what is the difference between the expressions 'cat' in spam and 'cat' in spam.keys()?"
   ]
  },
  {
   "cell_type": "markdown",
   "id": "2ed9cd49",
   "metadata": {},
   "source": [
    "If a dictionary is stored in spam, there is no difference between the expressions 'cat' in spam and 'cat' in spam.keys() because both expressions check for the presence of the key 'cat' in the dictionary spam."
   ]
  },
  {
   "cell_type": "markdown",
   "id": "3eb811f4",
   "metadata": {},
   "source": [
    "6. If a dictionary is stored in spam, what is the difference between the expressions 'cat' in spam and 'cat' in spam.values()?"
   ]
  },
  {
   "cell_type": "markdown",
   "id": "98b993d1",
   "metadata": {},
   "source": [
    "If a dictionary is stored in spam, the expressions 'cat' in spam and 'cat' in spam.values() check for different things and are not equivalent.\n",
    "\n",
    "The expression 'cat' in spam checks whether the key 'cat' is present in the dictionary spam. If 'cat' is a key in the dictionary, the expression will return True, even if 'cat' is not associated with any value in the dictionary.\n",
    "\n",
    "On the other hand, the expression 'cat' in spam.values() checks whether the value 'cat' is present in any of the values in the dictionary spam. If 'cat' is not present as a value in any of the key-value pairs of the dictionary, the expression will return False."
   ]
  },
  {
   "cell_type": "markdown",
   "id": "e49ef48e",
   "metadata": {},
   "source": [
    "7. What is a shortcut for the following code?\n",
    "if 'color' not in spam:\n",
    "spam['color'] = 'black'"
   ]
  },
  {
   "cell_type": "markdown",
   "id": "ac8494cf",
   "metadata": {},
   "source": [
    "A shortcut for the following code:\n",
    "To use the setdefault() method of the dictionary spam as follows:\n",
    "\n",
    "spam.setdefault('color', 'black')\n",
    "\n",
    "\n"
   ]
  },
  {
   "cell_type": "markdown",
   "id": "5ae83a0d",
   "metadata": {},
   "source": [
    "\n",
    "8. How do you \"pretty print\" dictionary values using which module and function?\n"
   ]
  },
  {
   "cell_type": "markdown",
   "id": "b0347b75",
   "metadata": {},
   "source": [
    "To \"pretty print\" a dictionary in a formatted and readable way, you can use the pprint module in Python, which provides the pprint() function."
   ]
  },
  {
   "cell_type": "code",
   "execution_count": 4,
   "id": "22f88e36",
   "metadata": {},
   "outputs": [
    {
     "name": "stdout",
     "output_type": "stream",
     "text": [
      "{'age': 30,\n",
      " 'city': 'New York',\n",
      " 'interests': ['reading', 'hiking', 'photography'],\n",
      " 'name': 'John'}\n"
     ]
    }
   ],
   "source": [
    "import pprint\n",
    "\n",
    "# Create a dictionary\n",
    "person = {\n",
    "    'name': 'John',\n",
    "    'age': 30,\n",
    "    'city': 'New York',\n",
    "    'interests': ['reading', 'hiking', 'photography']\n",
    "}\n",
    "\n",
    "# Pretty print the dictionary\n",
    "pprint.pprint(person)\n"
   ]
  },
  {
   "cell_type": "code",
   "execution_count": null,
   "id": "968a4fa2",
   "metadata": {},
   "outputs": [],
   "source": []
  },
  {
   "cell_type": "code",
   "execution_count": null,
   "id": "5d636819",
   "metadata": {},
   "outputs": [],
   "source": []
  },
  {
   "cell_type": "code",
   "execution_count": null,
   "id": "b84d1cd1",
   "metadata": {},
   "outputs": [],
   "source": []
  }
 ],
 "metadata": {
  "kernelspec": {
   "display_name": "Python 3 (ipykernel)",
   "language": "python",
   "name": "python3"
  },
  "language_info": {
   "codemirror_mode": {
    "name": "ipython",
    "version": 3
   },
   "file_extension": ".py",
   "mimetype": "text/x-python",
   "name": "python",
   "nbconvert_exporter": "python",
   "pygments_lexer": "ipython3",
   "version": "3.9.13"
  }
 },
 "nbformat": 4,
 "nbformat_minor": 5
}
