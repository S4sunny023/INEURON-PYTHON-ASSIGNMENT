{
 "cells": [
  {
   "cell_type": "markdown",
   "id": "5ea19db2",
   "metadata": {},
   "source": [
    "1. What is the result of the code, and explain?\n",
    "\n",
    "\n",
    ">>> X = 'iNeuron'\n",
    ">>> def func():\n",
    "print(X)\n",
    "\n",
    "\n",
    ">>> func()\n"
   ]
  },
  {
   "cell_type": "markdown",
   "id": "2c9c7b56",
   "metadata": {},
   "source": [
    "The code defines a variable X with the value of the string 'iNeuron'. It then defines a function named func which prints the value of the variable X. Finally, it calls the function func which prints the value of the variable X.\n",
    "\n",
    "When the code is executed, the function func is called, which then prints the value of the variable X ('iNeuron') to the console."
   ]
  },
  {
   "cell_type": "markdown",
   "id": "9472c20f",
   "metadata": {},
   "source": [
    "2. What is the result of the code, and explain?\n",
    "\n",
    "\n",
    ">>> X = 'iNeuron'\n",
    ">>> def func():\n",
    "X = 'NI!'\n",
    "\n",
    "\n",
    ">>> func()\n",
    ">>> print(X)\n"
   ]
  },
  {
   "cell_type": "markdown",
   "id": "d714ab70",
   "metadata": {},
   "source": [
    "The code defines a variable X with the value of the string 'iNeuron'. It then defines a function named func which defines a local variable X with the value 'NI!'. However, this local variable X only exists within the scope of the function func.\n",
    "\n",
    "After defining the function func, the code calls it with func(), but the function does not return any value, so there is no output to the console."
   ]
  },
  {
   "cell_type": "markdown",
   "id": "241b6e6c",
   "metadata": {},
   "source": [
    "3. What does this code print, and why?\n",
    "\n",
    "\n",
    ">>> X = 'iNeuron'\n",
    ">>> def func():\n",
    "X = 'NI'\n",
    "print(X)\n",
    "\n",
    "\n",
    ">>> func()\n",
    ">>> print(X)\n"
   ]
  },
  {
   "cell_type": "markdown",
   "id": "895b9868",
   "metadata": {},
   "source": [
    "The code defines a variable X with the value of the string 'iNeuron'. It then defines a function named func which defines a local variable X with the value 'NI'. Within the function func, the value of the local variable X is printed to the console.\n",
    "\n",
    "After defining the function func, the code calls it with func(), which results in the function printing the value of its local variable X ('NI') to the console."
   ]
  },
  {
   "cell_type": "markdown",
   "id": "62e1632d",
   "metadata": {},
   "source": [
    "4. What output does this code produce? Why?\n",
    "\n",
    "\n",
    ">>> X = 'iNeuron'\n",
    ">>> def func():\n",
    "global X\n",
    "X = 'NI'\n",
    "\n",
    "\n",
    ">>> func()\n",
    ">>> print(X)\n"
   ]
  },
  {
   "cell_type": "markdown",
   "id": "59452714",
   "metadata": {},
   "source": [
    "\n",
    "The code defines a variable X with the value of the string 'iNeuron'. It then defines a function named func which uses the global keyword to specify that the variable X inside the function should refer to the global variable X declared outside the function. The function assigns the value 'NI' to the global variable X.\n",
    "\n",
    "After defining the function func, the code calls it with func(), which modifies the value of the global variable X to 'NI'.\n",
    "\n",
    "Finally, the code calls the built-in print() function with the variable X, which now refers to the modified global variable with the value 'NI'."
   ]
  },
  {
   "cell_type": "markdown",
   "id": "3ac3ea0f",
   "metadata": {},
   "source": [
    "5. What about this code—what’s the output, and why?\n",
    "\n",
    "\n",
    ">>> X = 'iNeuron'\n",
    ">>> def func():\n",
    "X = 'NI'\n",
    "def nested():\n",
    "print(X)\n",
    "nested()\n",
    "\n",
    "\n",
    ">>> func()\n",
    ">>> X\n"
   ]
  },
  {
   "cell_type": "markdown",
   "id": "181d8b93",
   "metadata": {},
   "source": [
    "The code defines a variable X with the value of the string 'iNeuron'. It then defines a function named func which defines a local variable X with the value 'NI'. func also defines another function named nested which prints the value of the local variable X. Finally, func calls nested from within itself.\n",
    "\n",
    "After defining func, the code calls it with func(), which results in func executing the nested function. Within nested, the value of its enclosing function's local variable X ('NI') is printed to the console.\n",
    "\n",
    "After executing func(), the code then evaluates and prints the value of the global variable X, which is still 'iNeuron'."
   ]
  },
  {
   "cell_type": "markdown",
   "id": "3ab676e2",
   "metadata": {},
   "source": [
    "6. How about this code: what is its output in Python 3, and explain?\n",
    "\n",
    "\n",
    ">>> def func():\n",
    "X = 'NI'\n",
    "def nested():\n",
    "nonlocal X\n",
    "X = 'Spam'\n",
    "nested()\n",
    "print(X)\n",
    "\n",
    "\n",
    ">>> func()\n"
   ]
  },
  {
   "cell_type": "markdown",
   "id": "6b4f8aa9",
   "metadata": {},
   "source": [
    "The code defines a function named func which defines a local variable X with the value 'NI'. func also defines another function named nested, which uses the nonlocal keyword to specify that the variable X it modifies should refer to the nearest enclosing scope, which in this case is the scope of func. nested then assigns the value 'Spam' to this variable.\n",
    "\n",
    "After defining func, the code calls it with func(), which results in func executing the nested function. Within nested, the nonlocal keyword causes the variable X to refer to the variable X defined in the scope of func, and assigns the value 'Spam' to it. After nested is finished, the print statement within func prints the final value of X ('Spam') to the console."
   ]
  },
  {
   "cell_type": "code",
   "execution_count": null,
   "id": "b51f33e7",
   "metadata": {},
   "outputs": [],
   "source": []
  },
  {
   "cell_type": "code",
   "execution_count": null,
   "id": "5cdbc53e",
   "metadata": {},
   "outputs": [],
   "source": []
  }
 ],
 "metadata": {
  "kernelspec": {
   "display_name": "Python 3 (ipykernel)",
   "language": "python",
   "name": "python3"
  },
  "language_info": {
   "codemirror_mode": {
    "name": "ipython",
    "version": 3
   },
   "file_extension": ".py",
   "mimetype": "text/x-python",
   "name": "python",
   "nbconvert_exporter": "python",
   "pygments_lexer": "ipython3",
   "version": "3.9.13"
  }
 },
 "nbformat": 4,
 "nbformat_minor": 5
}
