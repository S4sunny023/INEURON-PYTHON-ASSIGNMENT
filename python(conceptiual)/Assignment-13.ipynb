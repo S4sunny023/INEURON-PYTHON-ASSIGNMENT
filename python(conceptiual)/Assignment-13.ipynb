{
 "cells": [
  {
   "cell_type": "markdown",
   "id": "131adbca",
   "metadata": {},
   "source": [
    "1. What advantages do Excel spreadsheets have over CSV spreadsheets?"
   ]
  },
  {
   "cell_type": "markdown",
   "id": "7200c89e",
   "metadata": {},
   "source": [
    "Excel spreadsheets offer several advantages over CSV (Comma-Separated Values) spreadsheets, including:\n",
    "\n",
    "Formatting: Excel allows you to format cells, rows, and columns in a variety of ways, including font styles and sizes, cell colors, borders, and alignment. CSV files do not support formatting, so if you want to add any style or structure to your data, you will need to use another tool.\n",
    "\n",
    "Formulas and Functions: Excel has a wide range of built-in formulas and functions that you can use to perform complex calculations and analysis on your data. CSV files only contain raw data and do not have any built-in formulas or functions.\n",
    "\n",
    "Charts and Graphs: Excel makes it easy to create professional-looking charts and graphs from your data. You can choose from a variety of chart types, customize colors and styles, and even add labels and annotations. CSV files do not support charts or graphs, so you would need to use a separate tool to visualize your data.\n",
    "\n",
    "Sorting and Filtering: Excel allows you to sort and filter your data based on specific criteria, making it easier to analyze and manipulate large datasets. CSV files can be sorted in a basic way using a text editor or spreadsheet program, but do not offer the advanced sorting and filtering options that Excel does.\n",
    "\n",
    "Collaboration: Excel allows multiple users to work on the same file simultaneously, with changes being updated in real-time. CSV files do not support real-time collaboration and can only be edited by one user at a time."
   ]
  },
  {
   "cell_type": "markdown",
   "id": "d0aa1181",
   "metadata": {},
   "source": [
    "2.What do you pass to csv.reader() and csv.writer() to create reader and writer objects?"
   ]
  },
  {
   "cell_type": "code",
   "execution_count": null,
   "id": "114429a1",
   "metadata": {},
   "outputs": [],
   "source": [
    "import csv\n",
    "\n",
    "with open('example.csv', 'r') as file:\n",
    "    csv_reader = csv.reader(file)\n"
   ]
  },
  {
   "cell_type": "code",
   "execution_count": null,
   "id": "955c7655",
   "metadata": {},
   "outputs": [],
   "source": [
    "import csv\n",
    "\n",
    "with open('example.csv', 'w', newline='') as file:\n",
    "    csv_writer = csv.writer(file)\n",
    "   \n"
   ]
  },
  {
   "cell_type": "markdown",
   "id": "fd60d5b5",
   "metadata": {},
   "source": [
    "3. What modes do File objects for reader and writer objects need to be opened in?"
   ]
  },
  {
   "cell_type": "markdown",
   "id": "5e30fe57",
   "metadata": {},
   "source": [
    "To create reader and writer objects in the csv module of Python, We need to open the file object in the appropriate mode for reading or writing CSV data."
   ]
  },
  {
   "cell_type": "markdown",
   "id": "c662e2c1",
   "metadata": {},
   "source": [
    "4. What method takes a list argument and writes it to a CSV file?"
   ]
  },
  {
   "cell_type": "markdown",
   "id": "c67d7b13",
   "metadata": {},
   "source": [
    "\n",
    "To write a list to a CSV file using the csv module in Python, you can use the writerow() method of a csv.writer object. The writerow() method takes a list as its argument and writes the list as a row in the CSV file."
   ]
  },
  {
   "cell_type": "markdown",
   "id": "339cf562",
   "metadata": {},
   "source": [
    "5. What do the keyword arguments delimiter and line terminator do?"
   ]
  },
  {
   "cell_type": "markdown",
   "id": "3a3cfdf7",
   "metadata": {},
   "source": [
    "The delimiter argument specifies the character that should be used to separate fields in the output CSV file. By default, this is a comma (,), but you can specify a different delimiter character using the delimiter argument. \n",
    "\n",
    "The lineterminator argument specifies the character that should be used to terminate each row in the output CSV file. By default, this is the operating system's newline character (\\n on Unix/Linux systems and \\r\\n on Windows systems), but you can specify a different line terminator character using the lineterminator argument. "
   ]
  },
  {
   "cell_type": "markdown",
   "id": "ed94a46c",
   "metadata": {},
   "source": [
    "6. What function takes a string of JSON data and returns a Python data structure?"
   ]
  },
  {
   "cell_type": "markdown",
   "id": "04a71eb2",
   "metadata": {},
   "source": [
    "The json module in Python provides the loads() function that can be used to convert a JSON-formatted string to a Python data structure.\n",
    "\n",
    "The loads() function takes a single argument, which is a string containing JSON data, and returns a Python data structure that corresponds to the JSON data. The specific data structure returned depends on the contents of the JSON data. For example, if the JSON data represents an object, loads() will return a Python dictionary, while if the JSON data represents an array, loads() will return a Python list."
   ]
  },
  {
   "cell_type": "markdown",
   "id": "4d1d3502",
   "metadata": {},
   "source": [
    "7. What function takes a Python data structure and returns a string of JSON data?"
   ]
  },
  {
   "cell_type": "markdown",
   "id": "c8110432",
   "metadata": {},
   "source": [
    "The json module in Python provides the dumps() function that can be used to convert a Python data structure to a JSON-formatted string.\n",
    "\n",
    "The dumps() function takes a single argument, which is a Python data structure, and returns a string that represents the JSON data corresponding to the Python data structure. The specific JSON string returned depends on the contents of the Python data structure. For example, if the Python data structure is a dictionary, the resulting JSON string will represent an object, while if the Python data structure is a list, the resulting JSON string will represent an array."
   ]
  },
  {
   "cell_type": "code",
   "execution_count": null,
   "id": "d4d120b3",
   "metadata": {},
   "outputs": [],
   "source": []
  }
 ],
 "metadata": {
  "kernelspec": {
   "display_name": "Python 3 (ipykernel)",
   "language": "python",
   "name": "python3"
  },
  "language_info": {
   "codemirror_mode": {
    "name": "ipython",
    "version": 3
   },
   "file_extension": ".py",
   "mimetype": "text/x-python",
   "name": "python",
   "nbconvert_exporter": "python",
   "pygments_lexer": "ipython3",
   "version": "3.9.13"
  }
 },
 "nbformat": 4,
 "nbformat_minor": 5
}
