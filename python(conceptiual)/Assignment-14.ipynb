{
 "cells": [
  {
   "cell_type": "markdown",
   "id": "12128fff",
   "metadata": {},
   "source": [
    "1. What does RGBA stand for?"
   ]
  },
  {
   "cell_type": "markdown",
   "id": "99a24045",
   "metadata": {},
   "source": [
    "\n",
    "RGBA stands for \"Red Green Blue Alpha\". It is a color model used in digital image processing and computer graphics.\n",
    "\n",
    "The first three letters (RGB) refer to the three primary colors of light: Red, Green, and Blue. These colors are combined in various ways to create a wide range of colors that can be displayed on a screen."
   ]
  },
  {
   "cell_type": "markdown",
   "id": "20d74b3e",
   "metadata": {},
   "source": [
    "2. From the Pillow module, how do you get the RGBA value of any images?"
   ]
  },
  {
   "cell_type": "code",
   "execution_count": null,
   "id": "84e13630",
   "metadata": {},
   "outputs": [],
   "source": [
    "from PIL import Image\n",
    "\n",
    "image = Image.open('image.png')\n",
    "pixels = image.getdata()\n",
    "print(pixels[0])\n"
   ]
  },
  {
   "cell_type": "markdown",
   "id": "f5c7e63a",
   "metadata": {},
   "source": [
    "3. What is a box tuple, and how does it work?"
   ]
  },
  {
   "cell_type": "markdown",
   "id": "03d6d258",
   "metadata": {},
   "source": [
    " A \"box tuple\" refers to a tuple of four integer values that defines a rectangular region within an image. The four values represent the left, upper, right, and lower coordinates of the rectangle, respectively.\n",
    "\n",
    "The box tuple is commonly used in Pillow to crop or extract a region of an image, or to define the size and position of a new image that is created from a region of an existing image."
   ]
  },
  {
   "cell_type": "markdown",
   "id": "d74f69be",
   "metadata": {},
   "source": [
    "4. Use your image and load in notebook then, How can you find out the width and height of an\n",
    "Image object?"
   ]
  },
  {
   "cell_type": "code",
   "execution_count": 3,
   "id": "4fa0ad61",
   "metadata": {},
   "outputs": [
    {
     "name": "stdout",
     "output_type": "stream",
     "text": [
      "Image width: 700\n",
      "Image height: 393\n"
     ]
    }
   ],
   "source": [
    "from PIL import Image\n",
    "\n",
    "\n",
    "image = Image.open(r\"C:\\Users\\HP\\OneDrive\\Desktop\\goku image.webp\")\n",
    "\n",
    "\n",
    "width, height = image.size\n",
    "\n",
    "\n",
    "print(f\"Image width: {width}\")\n",
    "print(f\"Image height: {height}\")\n"
   ]
  },
  {
   "cell_type": "markdown",
   "id": "5c7e184d",
   "metadata": {},
   "source": [
    "5. What method would you call to get Image object for a 100×100 image, excluding the lower-left\n",
    "quarter of it?"
   ]
  },
  {
   "cell_type": "code",
   "execution_count": null,
   "id": "f93b9c86",
   "metadata": {},
   "outputs": [],
   "source": [
    "from PIL import Image\n",
    "\n",
    "\n",
    "image = Image.open('original_image.jpg')\n",
    "\n",
    "\n",
    "exclude_region = (0, 50, 50, 100)\n",
    "\n",
    "\n",
    "cropped_image = image.crop(exclude_region)\n",
    "\n",
    "\n",
    "resized_image = cropped_image.resize((100, 100))\n",
    "\n",
    "resized_image.save('resulting_image.jpg')\n"
   ]
  },
  {
   "cell_type": "markdown",
   "id": "7c71741e",
   "metadata": {},
   "source": [
    "6. After making changes to an Image object, how could you save it as an image file?"
   ]
  },
  {
   "cell_type": "code",
   "execution_count": null,
   "id": "79f5ad4a",
   "metadata": {},
   "outputs": [],
   "source": [
    "from PIL import Image\n",
    "\n",
    "image = Image.open('original_image.jpg')\n",
    "\n",
    "# Apply some changes to the image\n",
    "\n",
    "image.save('modified_image.jpg')\n"
   ]
  },
  {
   "cell_type": "markdown",
   "id": "3f9d0604",
   "metadata": {},
   "source": [
    "7. What module contains Pillow’s shape-drawing code?"
   ]
  },
  {
   "cell_type": "markdown",
   "id": "e1fb745d",
   "metadata": {},
   "source": [
    "ImageDraw is a module within the Pillow library that provides functionality for drawing on an Image object. It includes methods for drawing shapes such as lines, rectangles, circles, ellipses, polygons, and more."
   ]
  },
  {
   "cell_type": "markdown",
   "id": "2837b0cc",
   "metadata": {},
   "source": [
    "8. Image objects do not have drawing methods. What kind of object does? How do you get this kind\n",
    "of object?"
   ]
  },
  {
   "cell_type": "markdown",
   "id": "26fa9700",
   "metadata": {},
   "source": [
    "age objects in Pillow do not have drawing methods. Instead, drawing methods are provided by the ImageDraw module.\n",
    "\n",
    "To get an ImageDraw object that you can use to draw on an Image object, you can call the ImageDraw.Draw() function and pass it the Image object as a parameter."
   ]
  },
  {
   "cell_type": "code",
   "execution_count": null,
   "id": "c740a811",
   "metadata": {},
   "outputs": [],
   "source": []
  },
  {
   "cell_type": "code",
   "execution_count": null,
   "id": "8717dc95",
   "metadata": {},
   "outputs": [],
   "source": []
  },
  {
   "cell_type": "code",
   "execution_count": null,
   "id": "6edf95ed",
   "metadata": {},
   "outputs": [],
   "source": []
  }
 ],
 "metadata": {
  "kernelspec": {
   "display_name": "Python 3 (ipykernel)",
   "language": "python",
   "name": "python3"
  },
  "language_info": {
   "codemirror_mode": {
    "name": "ipython",
    "version": 3
   },
   "file_extension": ".py",
   "mimetype": "text/x-python",
   "name": "python",
   "nbconvert_exporter": "python",
   "pygments_lexer": "ipython3",
   "version": "3.9.13"
  }
 },
 "nbformat": 4,
 "nbformat_minor": 5
}
