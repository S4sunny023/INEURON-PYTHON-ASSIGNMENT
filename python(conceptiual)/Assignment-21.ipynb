{
 "cells": [
  {
   "cell_type": "markdown",
   "id": "0e5cf09a",
   "metadata": {},
   "source": [
    "1. Add the current date to the text file today.txt as a string."
   ]
  },
  {
   "cell_type": "code",
   "execution_count": 1,
   "id": "89d04b09",
   "metadata": {},
   "outputs": [],
   "source": [
    "import datetime\n",
    "\n",
    "now = datetime.datetime.now()\n",
    "\n",
    "date_string = now.strftime(\"%Y-%m-%d\")\n",
    "\n",
    "with open(\"today.txt\", \"a\") as f:\n",
    "    f.write(date_string + \"\\n\")\n"
   ]
  },
  {
   "cell_type": "markdown",
   "id": "e1436a5a",
   "metadata": {},
   "source": [
    "2. Read the text file today.txt into the string today_string"
   ]
  },
  {
   "cell_type": "code",
   "execution_count": 2,
   "id": "cede6583",
   "metadata": {},
   "outputs": [],
   "source": [
    "with open(\"today.txt\", \"r\") as f:\n",
    "    today_string = f.read()\n"
   ]
  },
  {
   "cell_type": "markdown",
   "id": "d0a467e2",
   "metadata": {},
   "source": [
    "3. Parse the date from today_string."
   ]
  },
  {
   "cell_type": "code",
   "execution_count": 3,
   "id": "925057ce",
   "metadata": {},
   "outputs": [],
   "source": [
    "from datetime import datetime\n",
    "\n",
    "date_str = today_string.strip() \n",
    "date_obj = datetime.strptime(date_str, '%Y-%m-%d')\n"
   ]
  },
  {
   "cell_type": "markdown",
   "id": "b9492263",
   "metadata": {},
   "source": [
    "4. List the files in your current directory"
   ]
  },
  {
   "cell_type": "code",
   "execution_count": 4,
   "id": "bcb1062a",
   "metadata": {},
   "outputs": [
    {
     "name": "stdout",
     "output_type": "stream",
     "text": [
      "['.anaconda', '.android', '.astropy', '.bash_history', '.conda', '.condarc', '.continuum', '.git', '.gitconfig', '.idea', '.idlerc', '.ipynb_checkpoints', '.ipython', '.jupyter', '.lesshst', '.matplotlib', '.streamlit', '.vscode', '3D Objects', 'anaconda3', 'ansel', 'AppData', 'Application Data', 'Assignmemt-7.ipynb', 'Assignment-10.ipynb', 'Assignment-11.ipynb', 'Assignment-12.ipynb', 'Assignment-13.ipynb', 'Assignment-14.ipynb', 'Assignment-15.ipynb', 'Assignment-16.ipynb', 'Assignment-17.ipynb', 'Assignment-18.ipynb', 'Assignment-19.ipynb', 'Assignment-2.ipynb', 'Assignment-20.ipynb', 'Assignment-21.ipynb', 'Assignment-3.ipynb', 'Assignment-4.ipynb', 'Assignment-5.ipynb', 'Assignment-6.ipynb', 'Assignment-8.ipynb', 'Assignment-9.ipynb', 'books.csv', 'books.db', 'BOSTON-HOUSE-PRICE.ipynb', 'catboost_info', 'Contacts', 'Cookies', 'Documents', 'Downloads', 'Favorites', 'Flight-Price-predict.ipynb', 'Insurance-Premium-Prediction.ipynb', 'Links', 'Local Settings', 'logging', 'Music', 'My Documents', 'NetHood', 'NTUSER.DAT', 'ntuser.dat.LOG1', 'ntuser.dat.LOG2', 'NTUSER.DAT{a2332f18-cdbf-11ec-8680-002248483d79}.TM.blf', 'NTUSER.DAT{a2332f18-cdbf-11ec-8680-002248483d79}.TMContainer00000000000000000001.regtrans-ms', 'NTUSER.DAT{a2332f18-cdbf-11ec-8680-002248483d79}.TMContainer00000000000000000002.regtrans-ms', 'ntuser.ini', 'OneDrive', 'OneDrive - sunny22sharmin', 'Postman', 'PrintHood', 'PycharmProjects', 'Recent', 'rock', 'Saved Games', 'seaborn-data', 'Searches', 'SendTo', 'Start Menu', 'Templates', 'tesst', 'test', 'test.txt', 'test1', 'test12', 'testt', 'today.txt', 'Tracing', 'Untitled Folder', 'Untitled.ipynb', 'Untitled1.ipynb', 'Untitled2.ipynb', 'Untitled3.ipynb', 'Untitled4.ipynb', 'Untitled5.ipynb', 'Untitled7.ipynb', 'Videos', 'zoo.py', '__pycache__']\n"
     ]
    }
   ],
   "source": [
    "import os\n",
    "files = os.listdir('.')\n",
    "print(files)\n"
   ]
  },
  {
   "cell_type": "markdown",
   "id": "182e87bd",
   "metadata": {},
   "source": [
    "5. Create a list of all of the files in your parent directory (minimum five files should be available)."
   ]
  },
  {
   "cell_type": "code",
   "execution_count": 5,
   "id": "a54deb91",
   "metadata": {},
   "outputs": [
    {
     "name": "stdout",
     "output_type": "stream",
     "text": [
      "['All Users', 'Default', 'Default User', 'desktop.ini', 'HP', 'Public']\n"
     ]
    }
   ],
   "source": [
    "import os\n",
    "\n",
    "parent_dir = os.path.abspath(os.path.join(os.getcwd(), os.pardir))\n",
    "files = os.listdir(parent_dir)\n",
    "\n",
    "print(files)\n"
   ]
  },
  {
   "cell_type": "markdown",
   "id": "2b9ebb01",
   "metadata": {},
   "source": [
    "6. Use multiprocessing to create three separate processes. Make each one wait a random number of\n",
    "seconds between one and five, print the current time, and then exit."
   ]
  },
  {
   "cell_type": "code",
   "execution_count": 6,
   "id": "42774027",
   "metadata": {},
   "outputs": [],
   "source": [
    "import multiprocessing\n",
    "import random\n",
    "import time\n",
    "from datetime import datetime\n",
    "\n",
    "def print_current_time():\n",
    "    wait_time = random.randint(1, 5)\n",
    "    time.sleep(wait_time)\n",
    "\n",
    "\n",
    "    current_time = datetime.now().strftime(\"%Y-%m-%d %H:%M:%S\")\n",
    "    print(f\"Process {multiprocessing.current_process().name} waited {wait_time} seconds and printed the current time: {current_time}\")\n",
    "\n",
    "if __name__ == '__main__':\n",
    "    for i in range(3):\n",
    "        p = multiprocessing.Process(target=print_current_time, name=f\"Process {i+1}\")\n",
    "        p.start()\n"
   ]
  },
  {
   "cell_type": "markdown",
   "id": "9aac986b",
   "metadata": {},
   "source": [
    "7. Create a date object of your day of birth."
   ]
  },
  {
   "cell_type": "code",
   "execution_count": 7,
   "id": "09c463a4",
   "metadata": {},
   "outputs": [
    {
     "name": "stdout",
     "output_type": "stream",
     "text": [
      "1997-07-22\n"
     ]
    }
   ],
   "source": [
    "from datetime import datetime\n",
    "\n",
    "dob_str = '1997-07-22'\n",
    "dob_obj = datetime.strptime(dob_str, '%Y-%m-%d').date()\n",
    "\n",
    "print(dob_obj)\n"
   ]
  },
  {
   "cell_type": "markdown",
   "id": "42afca4b",
   "metadata": {},
   "source": [
    "8. What day of the week was your day of birth?"
   ]
  },
  {
   "cell_type": "code",
   "execution_count": 8,
   "id": "76bfe3db",
   "metadata": {},
   "outputs": [
    {
     "name": "stdout",
     "output_type": "stream",
     "text": [
      "Tuesday\n"
     ]
    }
   ],
   "source": [
    "from datetime import datetime\n",
    "\n",
    "dob_str = '1997-07-22'\n",
    "dob_obj = datetime.strptime(dob_str, '%Y-%m-%d').date()\n",
    "\n",
    "day_of_week = dob_obj.strftime('%A')\n",
    "\n",
    "print(day_of_week)\n"
   ]
  },
  {
   "cell_type": "markdown",
   "id": "fe47cd16",
   "metadata": {},
   "source": [
    "9. When will you be (or when were you) 10,000 days old?"
   ]
  },
  {
   "cell_type": "code",
   "execution_count": 9,
   "id": "084e648c",
   "metadata": {},
   "outputs": [
    {
     "name": "stdout",
     "output_type": "stream",
     "text": [
      "2024-12-07\n"
     ]
    }
   ],
   "source": [
    "from datetime import datetime, timedelta\n",
    "\n",
    "dob_str =  '1997-07-22'\n",
    "dob_obj = datetime.strptime(dob_str, '%Y-%m-%d').date()\n",
    "\n",
    "ten_thousand_days = timedelta(days=10000)\n",
    "ten_thousand_days_after_dob = dob_obj + ten_thousand_days\n",
    "\n",
    "print(ten_thousand_days_after_dob)\n"
   ]
  },
  {
   "cell_type": "code",
   "execution_count": null,
   "id": "48c06035",
   "metadata": {},
   "outputs": [],
   "source": []
  }
 ],
 "metadata": {
  "kernelspec": {
   "display_name": "Python 3 (ipykernel)",
   "language": "python",
   "name": "python3"
  },
  "language_info": {
   "codemirror_mode": {
    "name": "ipython",
    "version": 3
   },
   "file_extension": ".py",
   "mimetype": "text/x-python",
   "name": "python",
   "nbconvert_exporter": "python",
   "pygments_lexer": "ipython3",
   "version": "3.9.13"
  }
 },
 "nbformat": 4,
 "nbformat_minor": 5
}
