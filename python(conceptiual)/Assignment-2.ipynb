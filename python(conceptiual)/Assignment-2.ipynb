{
 "cells": [
  {
   "cell_type": "markdown",
   "id": "f8a5c030",
   "metadata": {},
   "source": [
    "1. What are the two values of the Boolean data type? How do you write them?"
   ]
  },
  {
   "cell_type": "markdown",
   "id": "5a1c3f3c",
   "metadata": {},
   "source": [
    "The two values of the Boolean data type are:\n",
    "True\n",
    "False\n",
    "\n",
    "\n",
    "These values represent logical true and false, respectively.\n",
    "In programming languages, True and False are usually written as keywords or constants in a specific way. For example, in Python, the values True and False are written exactly like that, without quotes or any other special syntax.\n",
    " True and False may be written as true and false, respectively, or as 1 and 0, with 1 representing True and 0 representing False."
   ]
  },
  {
   "cell_type": "markdown",
   "id": "809b31e4",
   "metadata": {},
   "source": [
    "2. What are the three different types of Boolean operators?"
   ]
  },
  {
   "cell_type": "markdown",
   "id": "9c0a3c4a",
   "metadata": {},
   "source": [
    "The three different types of Boolean operators are:\n",
    "\n",
    "1-AND operator: This operator is represented by the symbol \"&&\" or \"AND\". It returns true if and only if both the operands are true.\n",
    "\n",
    "2-OR operator: This operator is represented by the symbol \"||\" or \"OR\". It returns true if either of the operands is true.\n",
    "\n",
    "3-NOT operator: This operator is represented by the symbol \"!\" or \"NOT\". It returns the opposite boolean value of the operand. For example, if the operand is true, the NOT operator will return false, and vice versa."
   ]
  },
  {
   "cell_type": "markdown",
   "id": "3e00c9eb",
   "metadata": {},
   "source": [
    "3. Make a list of each Boolean operator's truth tables (i.e. every possible combination of Boolean values for the operator and what it evaluate )."
   ]
  },
  {
   "cell_type": "markdown",
   "id": "d1ea9c4b",
   "metadata": {},
   "source": [
    "Here are the truth tables for each Boolean operator:\n",
    "\n",
    "AND operator:\n",
    "Operand 1\tOperand 2\tResult\n",
    "true\t     true\t    true\n",
    "true\t     false\t    false\n",
    "false\t     true\t    false\n",
    "false\t     false\t    false\n",
    "\n",
    "OR operator:\n",
    "Operand 1\tOperand 2\tResult\n",
    "true\t    true\t    true\n",
    "true\t    false\t    true\n",
    "false\t    true\t    true\n",
    "false\t    false\t    false\n",
    "\n",
    "NOT operator:\n",
    "Operand \tResult\n",
    "true\t    false\n",
    "false\t    true\n"
   ]
  },
  {
   "cell_type": "markdown",
   "id": "7f1b48ca",
   "metadata": {},
   "source": [
    "4. What are the values of the following expressions?\n",
    "(5 > 4) and (3 == 5)\n",
    "not (5 > 4)\n",
    "(5 > 4) or (3 == 5)\n",
    "not ((5 > 4) or (3 == 5))\n",
    "(True and True) and (True == False)\n",
    "(not False) or (not True)"
   ]
  },
  {
   "cell_type": "markdown",
   "id": "b8e1fa24",
   "metadata": {},
   "source": [
    "*(5 > 4) and (3 == 5)\n",
    "The expression (5 > 4) evaluates to True, but (3 == 5) evaluates to False. The \"and\" operator requires both operands to be True for the whole expression to be True. Therefore, the value of the expression is False.\n",
    "\n",
    "*not (5 > 4)\n",
    "The expression (5 > 4) evaluates to True, and the \"not\" operator returns the opposite boolean value of the operand. Therefore, the value of the expression is False.\n",
    "\n",
    "*(5 > 4) or (3 == 5)\n",
    "The expression (5 > 4) evaluates to True, and (3 == 5) evaluates to False. The \"or\" operator requires at least one operand to be True for the whole expression to be True. Therefore, the value of the expression is True.\n",
    "\n",
    "*not ((5 > 4) or (3 == 5))\n",
    "The expression (5 > 4) or (3 == 5) evaluates to True, and the \"not\" operator returns the opposite boolean value of the operand. Therefore, the value of the expression is False.\n",
    "\n",
    "*(True and True) and (True == False)\n",
    "The expression (True and True) evaluates to True, but (True == False) evaluates to False. The \"and\" operator requires both operands to be True for the whole expression to be True. Therefore, the value of the expression is False.\n",
    "\n",
    "*(not False) or (not True)\n",
    "The expression (not False) evaluates to True, and (not True) evaluates to False. The \"or\" operator requires at least one operand to be True for the whole expression to be True. Therefore, the value of the expression is True."
   ]
  },
  {
   "cell_type": "markdown",
   "id": "68dcd1ee",
   "metadata": {},
   "source": [
    "5. What are the six comparison operators?"
   ]
  },
  {
   "cell_type": "markdown",
   "id": "9145c1e8",
   "metadata": {},
   "source": [
    "1-Greater than: >\n",
    "2-Greater than or equal to: >=\n",
    "3-Less than: <\n",
    "4-Less than or equal to: <=\n",
    "5-Equal to: ==\n",
    "6-Not equal to: !="
   ]
  },
  {
   "cell_type": "markdown",
   "id": "5df7bf0e",
   "metadata": {},
   "source": [
    "6. How do you tell the difference between the equal to and assignment operators?Describe a condition and when you would use one."
   ]
  },
  {
   "cell_type": "markdown",
   "id": "9a50f055",
   "metadata": {},
   "source": [
    "In Python, the equal to operator is \"==\", while the assignment operator is \"=\".\n",
    "\n",
    "\n",
    "The \"==\" operator is used to compare two values and returns a boolean value of True if they are equal, and False otherwise. For example, \"x == 5\" would evaluate to True if the value of x is 5, and False otherwise.\n",
    "\n",
    "On the other hand, the \"=\" operator is used to assign a value to a variable. For example, \"x = 5\" would assign the value 5 to the variable x.\n",
    "\n",
    "To differentiate between the two operators, it's important to keep in mind that the \"==\" operator is used for comparison, while the \"=\" operator is used for assignment"
   ]
  },
  {
   "cell_type": "markdown",
   "id": "0ab143cb",
   "metadata": {},
   "source": [
    "7. Identify the three blocks in this code:\n",
    "spam = 0\n",
    "if spam == 10:\n",
    "print('eggs')\n",
    "if spam > 5:\n",
    "print('bacon')\n",
    "else:\n",
    "print('ham')\n",
    "print('spam')\n",
    "print('spam')"
   ]
  },
  {
   "cell_type": "code",
   "execution_count": 1,
   "id": "a3852a05",
   "metadata": {},
   "outputs": [
    {
     "name": "stdout",
     "output_type": "stream",
     "text": [
      "ham\n",
      "spam\n",
      "spam\n"
     ]
    }
   ],
   "source": [
    "# Block 1\n",
    "spam = 0\n",
    "if spam == 10:\n",
    "    print('eggs')\n",
    "\n",
    "# Block 2\n",
    "if spam > 5:\n",
    "    print('bacon')\n",
    "else:\n",
    "    # Block 3\n",
    "    print('ham')\n",
    "print('spam')\n",
    "print('spam')\n"
   ]
  },
  {
   "cell_type": "markdown",
   "id": "9a89907e",
   "metadata": {},
   "source": [
    "8. Write code that prints Hello if 1 is stored in spam, prints Howdy if 2 is stored in spam, and prints Greetings! if anything else is stored in spam."
   ]
  },
  {
   "cell_type": "code",
   "execution_count": 10,
   "id": "5f8677aa",
   "metadata": {},
   "outputs": [
    {
     "name": "stdout",
     "output_type": "stream",
     "text": [
      "Enter your digit:2\n",
      "Howdy\n"
     ]
    }
   ],
   "source": [
    "spam=int(input(\"Enter your digit:\"))\n",
    "if spam == 1:\n",
    "    print(\"Hello\")\n",
    "elif spam == 2:\n",
    "    print(\"Howdy\")\n",
    "else:\n",
    "    print(\"Greetings!\")\n"
   ]
  },
  {
   "cell_type": "code",
   "execution_count": null,
   "id": "ef581fcf",
   "metadata": {},
   "outputs": [],
   "source": []
  },
  {
   "cell_type": "code",
   "execution_count": null,
   "id": "67028c73",
   "metadata": {},
   "outputs": [],
   "source": []
  },
  {
   "cell_type": "code",
   "execution_count": null,
   "id": "b62c2bbc",
   "metadata": {},
   "outputs": [],
   "source": []
  }
 ],
 "metadata": {
  "kernelspec": {
   "display_name": "Python 3 (ipykernel)",
   "language": "python",
   "name": "python3"
  },
  "language_info": {
   "codemirror_mode": {
    "name": "ipython",
    "version": 3
   },
   "file_extension": ".py",
   "mimetype": "text/x-python",
   "name": "python",
   "nbconvert_exporter": "python",
   "pygments_lexer": "ipython3",
   "version": "3.9.13"
  }
 },
 "nbformat": 4,
 "nbformat_minor": 5
}
