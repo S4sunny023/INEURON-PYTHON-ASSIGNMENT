{
 "cells": [
  {
   "cell_type": "markdown",
   "id": "3cdcda02",
   "metadata": {},
   "source": [
    "1. What is the result of the code, and why?\n",
    ">>> def func(a, b=6, c=8):\n",
    "print(a, b, c)\n",
    ">>> func(1, 2)"
   ]
  },
  {
   "cell_type": "markdown",
   "id": "1f3f2d82",
   "metadata": {},
   "source": [
    "Result = 1 2 8\n",
    "\n",
    "\n",
    "This is because the function func has three parameters, a, b, and c, with default values of 6 and 8 respectively. When the function is called with func(1, 2), the value 1 is assigned to a, 2 is assigned to b (overriding its default value), and c retains its default value of 8\n",
    "\n"
   ]
  },
  {
   "cell_type": "markdown",
   "id": "de1695c0",
   "metadata": {},
   "source": [
    "2. What is the result of this code, and why?\n",
    ">>> def func(a, b, c=5):\n",
    "\n",
    "print(a, b, c)\n",
    ">>> func(1, c=3, b=2)"
   ]
  },
  {
   "cell_type": "markdown",
   "id": "d25c6a7c",
   "metadata": {},
   "source": [
    "result=1 2 3\n",
    "\n",
    "This is because when the function func is called with func(1, c=3, b=2), the arguments are passed using keyword arguments. The value 1 is assigned to the parameter a, 2 is assigned to the parameter b, and 3 is assigned to the parameter c, overwriting its default value of 5."
   ]
  },
  {
   "cell_type": "markdown",
   "id": "8c933e42",
   "metadata": {},
   "source": [
    "3. How about this code: what is its result, and why?\n",
    ">>> def func(a, *pargs):\n",
    "print(a, pargs)\n",
    ">>> func(1, 2, 3)\n"
   ]
  },
  {
   "cell_type": "markdown",
   "id": "365a3d89",
   "metadata": {},
   "source": [
    "result= 1 (2, 3)\n",
    "\n",
    "This is because the function func has two parameters, a and *pargs. The * in front of pargs indicates that it is a variable-length argument list, which means that it can accept any number of positional arguments after the first positional argument, a.\n",
    "\n",
    "When the function is called with func(1, 2, 3), the value 1 is assigned to a, and 2 and 3 are packed into a tuple and assigned to pargs. Therefore, when the function body executes the print statement, the output is 1 (2, 3), indicating that a is 1 and pargs is a tuple containing (2, 3)."
   ]
  },
  {
   "cell_type": "markdown",
   "id": "67b28634",
   "metadata": {},
   "source": [
    "4. What does this code print, and why?\n",
    ">>> def func(a, **kargs):\n",
    "print(a, kargs)\n",
    ">>> func(a=1, c=3, b=2)\n"
   ]
  },
  {
   "cell_type": "markdown",
   "id": "522c16ba",
   "metadata": {},
   "source": [
    "Result = 1 {'c': 3, 'b': 2}\n",
    "\n",
    "\n",
    "This is because the function func has two parameters, a and **kargs. The ** before kargs indicates that it is a variable-length keyword argument list, which means that it can accept any number of keyword arguments.\n",
    "\n",
    "When the function is called with func(a=1, c=3, b=2), the value 1 is assigned to a, and the remaining keyword arguments, c=3 and b=2, are packed into a dictionary and assigned to kargs. Therefore, when the function body executes the print statement, the output is 1 {'c': 3, 'b': 2}, indicating that a is 1 and kargs is a dictionary containing the keyword arguments { 'c': 3, 'b': 2 }."
   ]
  },
  {
   "cell_type": "markdown",
   "id": "b3215a2c",
   "metadata": {},
   "source": [
    "5. What gets printed by this, and explain?\n",
    ">>> def func(a, b, c=8, d=5): print(a, b, c, d)\n",
    ">>> func(1, *(5, 6))\n"
   ]
  },
  {
   "cell_type": "markdown",
   "id": "3566fa79",
   "metadata": {},
   "source": [
    "Result = 1 5 6 5\n",
    "\n",
    "\n",
    "This is because the func function has four parameters: a, b, c, and d, with default values of 8 and 5 for c and d respectively.\n",
    "\n",
    "When the func function is called with func(1, *(5, 6)), the first argument 1 is assigned to a. The remaining two arguments, 5 and 6, are packed into a tuple (5, 6), which is then unpacked using the * operator and assigned to the parameters b and c respectively. Since the d parameter is not provided, it takes its default value of 5.\n",
    "\n",
    "Therefore, when the function body executes the print statement, the output is 1 5 6 5, indicating that a is 1, b is 5, c is 6, and d is 5"
   ]
  },
  {
   "cell_type": "markdown",
   "id": "d3eed043",
   "metadata": {},
   "source": [
    "6. what is the result of this, and explain?\n",
    ">>> def func(a, b, c): a = 2; b[0] = 'x'; c['a'] = 'y'\n",
    ">>> l=1; m=[1]; n={'a':0}\n",
    ">>> func(l, m, n)\n",
    ">>> l, m, n\n"
   ]
  },
  {
   "cell_type": "markdown",
   "id": "32f1fa90",
   "metadata": {},
   "source": [
    "Result = (1, ['x'], {'a': 'y'})\n",
    "\n",
    "The function func takes three arguments, a, b, and c. Inside the function, the first parameter a is assigned a new value of 2. The second parameter b is modified by replacing its first element with the string 'x'. The third parameter c is modified by adding a new key-value pair 'a': 'y'.\n",
    "\n",
    "Before the function is called, the variables l, m, and n are defined with values 1, [1], and {'a': 0} respectively.\n",
    "\n",
    "When the func function is called with func(l, m, n), the values of l, m, and n are passed as arguments to the function. Therefore, a is assigned the value of l, which is 1. b is assigned a reference to the same list object as m. Similarly, c is assigned a reference to the same dictionary object as n.\n",
    "\n",
    "Inside the function, a is reassigned to the value 2, but this does not affect the value of l outside the function, which remains 1.\n",
    "\n",
    "The list b is modified by replacing its first element with the string 'x', which changes the value of m outside the function as well, since m and b reference the same object.\n",
    "\n",
    "The dictionary c is modified by adding a new key-value pair 'a': 'y', which changes the value of n outside the function as well, since n and c reference the same object.\n",
    "\n",
    "Therefore, after the function call, the values of l, m, and n are (1, ['x'], {'a': 'y'}), which is the output of the final print statement."
   ]
  },
  {
   "cell_type": "code",
   "execution_count": null,
   "id": "f20e65a4",
   "metadata": {},
   "outputs": [],
   "source": []
  }
 ],
 "metadata": {
  "kernelspec": {
   "display_name": "Python 3 (ipykernel)",
   "language": "python",
   "name": "python3"
  },
  "language_info": {
   "codemirror_mode": {
    "name": "ipython",
    "version": 3
   },
   "file_extension": ".py",
   "mimetype": "text/x-python",
   "name": "python",
   "nbconvert_exporter": "python",
   "pygments_lexer": "ipython3",
   "version": "3.9.13"
  }
 },
 "nbformat": 4,
 "nbformat_minor": 5
}
